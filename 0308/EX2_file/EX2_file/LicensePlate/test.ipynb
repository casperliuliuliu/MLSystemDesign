{
 "cells": [
  {
   "cell_type": "code",
   "execution_count": null,
   "metadata": {},
   "outputs": [],
   "source": [
    "# -*- coding: utf-8 -*-\n",
    "\"\"\"\n",
    "Created on Tue Oct  5 12:41:13 2021\n",
    "\n",
    "@author: jacky\n",
    "\"\"\"\n",
    "import cv2\n",
    "import numpy as np\n",
    "# In[]: p25\n",
    "\n",
    "MORPH_CROSS = cv2.getStructuringElement(cv2.MORPH_CROSS, (10, 5))\n",
    "print('\\n MORPH_CROSS:\\n',MORPH_CROSS)\n",
    "MORPH_ELLIPSE = cv2.getStructuringElement(cv2.MORPH_ELLIPSE, (5, 5))\n",
    "print('\\n MORPH_ELLIPSE:\\n',MORPH_ELLIPSE)\n",
    "MORPH_RECT = cv2.getStructuringElement(cv2.MORPH_RECT, (5, 5))\n",
    "print('\\n MORPH_RECT:\\n',MORPH_RECT)\n",
    "\n",
    "\n",
    "# In[]: p25\n",
    "kernel1 = np.ones((3, 3), np.uint8)\n",
    "kernel2 = cv2.getStructuringElement(cv2.MORPH_RECT, (3, 3))\n",
    "print('\\nkernel1')\n",
    "print(kernel1)\n",
    "print('\\nkernel2')\n",
    "print(kernel2)\n",
    "print('\\nResult')\n",
    "print(kernel1 == kernel2)\n",
    "\n"
   ]
  },
  {
   "cell_type": "code",
   "execution_count": 17,
   "metadata": {},
   "outputs": [
    {
     "name": "stdout",
     "output_type": "stream",
     "text": [
      "-0.15737377868193447\n",
      "0.7301456021864363\n",
      "0.8725983221353415\n",
      "0.4303592421879614\n",
      "-0.4761221065487464\n"
     ]
    }
   ],
   "source": [
    "import random\n",
    "perturbation_range = 1\n",
    "for _ in range(5):\n",
    "    perturbation = random.uniform(-perturbation_range, perturbation_range)\n",
    "    print(perturbation)\n"
   ]
  }
 ],
 "metadata": {
  "kernelspec": {
   "display_name": "casper_env",
   "language": "python",
   "name": "python3"
  },
  "language_info": {
   "codemirror_mode": {
    "name": "ipython",
    "version": 3
   },
   "file_extension": ".py",
   "mimetype": "text/x-python",
   "name": "python",
   "nbconvert_exporter": "python",
   "pygments_lexer": "ipython3",
   "version": "3.10.13"
  }
 },
 "nbformat": 4,
 "nbformat_minor": 2
}
