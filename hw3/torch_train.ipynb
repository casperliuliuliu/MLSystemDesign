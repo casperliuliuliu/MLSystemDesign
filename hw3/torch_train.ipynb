{
 "cells": [
  {
   "cell_type": "code",
   "execution_count": 1,
   "metadata": {},
   "outputs": [],
   "source": [
    "from torchvision.datasets import ImageFolder\n",
    "import basic_torch_function\n",
    "from torchvision import models\n",
    "path = \"D:\\\\Casper\\\\OTHER\\\\Data\\\\rock_paper_scissor\\\\rps-cv-images\"\n",
    "path = \"D:\\\\Casper\\\\OTHER\\\\Data\\\\dpaml_hw3\\\\jpg_dataset\"\n",
    "path = \"D:\\\\Casper\\\\OTHER\\\\Data\\\\dpaml_hw3\\\\face_data\"\n",
    "import torch\n",
    "from torchvision import transforms\n",
    "import torch.nn as nn\n",
    "import torch.nn.functional as F\n",
    "from torch.utils.data import ConcatDataset\n",
    "\n",
    "# from torchvision.transforms import v2\n",
    "# transforms = v2.Compose([\n",
    "#     v2.RandomResizedCrop(size=(224, 224), antialias=True),\n",
    "#     v2.ToDtype(torch.float32, scale=True),\n",
    "# ])\n",
    "img_size = [512, 512]\n",
    "# img_size = [512, 512]\n",
    "transforming = transforms.Compose([\n",
    "    transforms.Resize(img_size),\n",
    "    transforms.ToTensor(),\n",
    "])\n",
    "\n",
    "transforming0 = transforms.Compose([\n",
    "    transforms.Resize(img_size),\n",
    "    transforms.RandomVerticalFlip(1),\n",
    "    transforms.ToTensor(),\n",
    "])\n",
    "\n",
    "transforming1 = transforms.Compose([\n",
    "    transforms.Resize(img_size),\n",
    "    transforms.ToTensor(),\n",
    "])\n",
    "\n",
    "transforming2 = transforms.Compose([\n",
    "    transforms.Resize(img_size),\n",
    "    transforms.ToTensor(),\n",
    "])\n",
    "\n",
    "transformingˇ = transforms.Compose([\n",
    "    transforms.Resize(img_size),\n",
    "    transforms.RandomHorizontalFlip(0.5),\n",
    "    transforms.RandomVerticalFlip(0.5),\n",
    "    transforms.ToTensor(),\n",
    "])\n",
    "\n",
    "dataset = ImageFolder(path, transforming)\n",
    "dataset_a0 = ImageFolder(path, transforming0)\n",
    "dataset_a1 = ImageFolder(path, transforming1)\n",
    "dataset_a2 = ImageFolder(path, transforming2)\n",
    "merge_dataset = ConcatDataset([\n",
    "    dataset,\n",
    "    # dataset_a0, \n",
    "    # dataset_a1, \n",
    "    # dataset_a2, \n",
    "    ])"
   ]
  },
  {
   "cell_type": "code",
   "execution_count": 2,
   "metadata": {},
   "outputs": [
    {
     "name": "stdout",
     "output_type": "stream",
     "text": [
      "--------- INDEX checking ---------\n",
      "Original: [0, 1, 2, 3, 4]\n",
      "Shuffled: [30, 197, 107, 31, 53]\n",
      "--------- INDEX shuffled ---------\n",
      "\n",
      "Total number of samples: 203 datapoints\n",
      "Number of train samples: 41 batches/ 162 datapoints\n",
      "Number of val samples: 11 batches/ 41 datapoints\n",
      "Number of test samples: 0 batches/ 0 datapoints\n",
      "\n"
     ]
    }
   ],
   "source": [
    "data_loaders = basic_torch_function.get_dataloaders(merge_dataset, 0.8, 1, 4)"
   ]
  },
  {
   "cell_type": "code",
   "execution_count": 29,
   "metadata": {},
   "outputs": [
    {
     "data": {
      "text/plain": [
       "torch.Size([2, 4])"
      ]
     },
     "execution_count": 29,
     "metadata": {},
     "output_type": "execute_result"
    }
   ],
   "source": [
    "class SimpleCNN(nn.Module):\n",
    "    def __init__(self):\n",
    "        super(SimpleCNN, self).__init__()\n",
    "        self.conv1 = nn.Conv2d(3, 20, (3,3), 2)\n",
    "        self.pool = nn.MaxPool2d(2)\n",
    "        self.conv2 = nn.Conv2d(20, 1, (3,3), 2)\n",
    "        self.fc = nn.Linear(1*169, 4)\n",
    "        self.flatten = nn.Flatten()\n",
    "\n",
    "    def forward(self, x):\n",
    "        x = self.conv1(x)\n",
    "        x = F.relu(x)\n",
    "        x = self.pool(x)\n",
    "        x = self.conv2(x)\n",
    "        x = F.relu(x)\n",
    "        x = self.pool(x)\n",
    "        x = self.flatten(x)\n",
    "        x = self.fc(x)\n",
    "        return x\n",
    "\n",
    "model = SimpleCNN()\n",
    "img = torch.rand(2,3,224,224)\n",
    "model(img).shape"
   ]
  },
  {
   "cell_type": "code",
   "execution_count": 5,
   "metadata": {},
   "outputs": [
    {
     "name": "stdout",
     "output_type": "stream",
     "text": [
      "test mod_face3\n",
      "model total parameters: 15,676\n",
      "learning rate=0.005\n"
     ]
    },
    {
     "name": "stderr",
     "output_type": "stream",
     "text": [
      "  0%|          | 0/41 [00:00<?, ?it/s]"
     ]
    },
    {
     "name": "stderr",
     "output_type": "stream",
     "text": [
      "100%|██████████| 41/41 [00:02<00:00, 15.65it/s]\n"
     ]
    },
    {
     "name": "stdout",
     "output_type": "stream",
     "text": [
      "Epoch [1/20], phase: train, samples: 162, Loss: 0.3014, Top-1 Accuracy: 47.53%, Top-3 Accuracy: 93.83%\n"
     ]
    },
    {
     "name": "stderr",
     "output_type": "stream",
     "text": [
      "100%|██████████| 11/11 [00:00<00:00, 18.04it/s]\n"
     ]
    },
    {
     "name": "stdout",
     "output_type": "stream",
     "text": [
      "Epoch [1/20], phase: val, samples: 41, Loss: 0.6126, Top-1 Accuracy: 36.59%, Top-3 Accuracy: 95.12%\n"
     ]
    },
    {
     "name": "stderr",
     "output_type": "stream",
     "text": [
      "100%|██████████| 41/41 [00:02<00:00, 18.23it/s]\n"
     ]
    },
    {
     "name": "stdout",
     "output_type": "stream",
     "text": [
      "Epoch [2/20], phase: train, samples: 162, Loss: 0.2716, Top-1 Accuracy: 50.62%, Top-3 Accuracy: 99.38%\n"
     ]
    },
    {
     "name": "stderr",
     "output_type": "stream",
     "text": [
      "100%|██████████| 11/11 [00:00<00:00, 18.65it/s]\n"
     ]
    },
    {
     "name": "stdout",
     "output_type": "stream",
     "text": [
      "Epoch [2/20], phase: val, samples: 41, Loss: 0.3910, Top-1 Accuracy: 39.02%, Top-3 Accuracy: 100.00%\n"
     ]
    },
    {
     "name": "stderr",
     "output_type": "stream",
     "text": [
      "100%|██████████| 41/41 [00:02<00:00, 15.59it/s]\n"
     ]
    },
    {
     "name": "stdout",
     "output_type": "stream",
     "text": [
      "Epoch [3/20], phase: train, samples: 162, Loss: 0.2618, Top-1 Accuracy: 50.62%, Top-3 Accuracy: 100.00%\n"
     ]
    },
    {
     "name": "stderr",
     "output_type": "stream",
     "text": [
      "100%|██████████| 11/11 [00:00<00:00, 16.93it/s]\n"
     ]
    },
    {
     "name": "stdout",
     "output_type": "stream",
     "text": [
      "Epoch [3/20], phase: val, samples: 41, Loss: 0.3178, Top-1 Accuracy: 39.02%, Top-3 Accuracy: 100.00%\n"
     ]
    },
    {
     "name": "stderr",
     "output_type": "stream",
     "text": [
      "100%|██████████| 41/41 [00:02<00:00, 14.05it/s]\n"
     ]
    },
    {
     "name": "stdout",
     "output_type": "stream",
     "text": [
      "Epoch [4/20], phase: train, samples: 162, Loss: 0.2557, Top-1 Accuracy: 54.32%, Top-3 Accuracy: 100.00%\n"
     ]
    },
    {
     "name": "stderr",
     "output_type": "stream",
     "text": [
      "100%|██████████| 11/11 [00:00<00:00, 17.19it/s]\n"
     ]
    },
    {
     "name": "stdout",
     "output_type": "stream",
     "text": [
      "Epoch [4/20], phase: val, samples: 41, Loss: 0.3358, Top-1 Accuracy: 41.46%, Top-3 Accuracy: 100.00%\n"
     ]
    },
    {
     "name": "stderr",
     "output_type": "stream",
     "text": [
      "100%|██████████| 41/41 [00:02<00:00, 14.49it/s]\n"
     ]
    },
    {
     "name": "stdout",
     "output_type": "stream",
     "text": [
      "Epoch [5/20], phase: train, samples: 162, Loss: 0.2486, Top-1 Accuracy: 54.94%, Top-3 Accuracy: 100.00%\n"
     ]
    },
    {
     "name": "stderr",
     "output_type": "stream",
     "text": [
      "100%|██████████| 11/11 [00:00<00:00, 17.19it/s]\n"
     ]
    },
    {
     "name": "stdout",
     "output_type": "stream",
     "text": [
      "Epoch [5/20], phase: val, samples: 41, Loss: 0.2493, Top-1 Accuracy: 53.66%, Top-3 Accuracy: 100.00%\n"
     ]
    },
    {
     "name": "stderr",
     "output_type": "stream",
     "text": [
      "100%|██████████| 41/41 [00:02<00:00, 14.86it/s]\n"
     ]
    },
    {
     "name": "stdout",
     "output_type": "stream",
     "text": [
      "Epoch [6/20], phase: train, samples: 162, Loss: 0.2444, Top-1 Accuracy: 54.94%, Top-3 Accuracy: 100.00%\n"
     ]
    },
    {
     "name": "stderr",
     "output_type": "stream",
     "text": [
      "100%|██████████| 11/11 [00:00<00:00, 17.19it/s]\n"
     ]
    },
    {
     "name": "stdout",
     "output_type": "stream",
     "text": [
      "Epoch [6/20], phase: val, samples: 41, Loss: 0.2607, Top-1 Accuracy: 56.10%, Top-3 Accuracy: 100.00%\n"
     ]
    },
    {
     "name": "stderr",
     "output_type": "stream",
     "text": [
      "100%|██████████| 41/41 [00:02<00:00, 14.14it/s]\n"
     ]
    },
    {
     "name": "stdout",
     "output_type": "stream",
     "text": [
      "Epoch [7/20], phase: train, samples: 162, Loss: 0.2420, Top-1 Accuracy: 55.56%, Top-3 Accuracy: 100.00%\n"
     ]
    },
    {
     "name": "stderr",
     "output_type": "stream",
     "text": [
      "100%|██████████| 11/11 [00:00<00:00, 17.19it/s]\n"
     ]
    },
    {
     "name": "stdout",
     "output_type": "stream",
     "text": [
      "Epoch [7/20], phase: val, samples: 41, Loss: 0.2517, Top-1 Accuracy: 53.66%, Top-3 Accuracy: 100.00%\n"
     ]
    },
    {
     "name": "stderr",
     "output_type": "stream",
     "text": [
      "100%|██████████| 41/41 [00:02<00:00, 14.60it/s]\n"
     ]
    },
    {
     "name": "stdout",
     "output_type": "stream",
     "text": [
      "Epoch [8/20], phase: train, samples: 162, Loss: 0.2387, Top-1 Accuracy: 56.79%, Top-3 Accuracy: 100.00%\n"
     ]
    },
    {
     "name": "stderr",
     "output_type": "stream",
     "text": [
      "100%|██████████| 11/11 [00:00<00:00, 17.47it/s]\n"
     ]
    },
    {
     "name": "stdout",
     "output_type": "stream",
     "text": [
      "Epoch [8/20], phase: val, samples: 41, Loss: 0.2573, Top-1 Accuracy: 51.22%, Top-3 Accuracy: 100.00%\n"
     ]
    },
    {
     "name": "stderr",
     "output_type": "stream",
     "text": [
      "100%|██████████| 41/41 [00:02<00:00, 14.05it/s]\n"
     ]
    },
    {
     "name": "stdout",
     "output_type": "stream",
     "text": [
      "Epoch [9/20], phase: train, samples: 162, Loss: 0.2337, Top-1 Accuracy: 56.17%, Top-3 Accuracy: 100.00%\n"
     ]
    },
    {
     "name": "stderr",
     "output_type": "stream",
     "text": [
      "100%|██████████| 11/11 [00:00<00:00, 16.18it/s]\n"
     ]
    },
    {
     "name": "stdout",
     "output_type": "stream",
     "text": [
      "Epoch [9/20], phase: val, samples: 41, Loss: 0.2308, Top-1 Accuracy: 63.41%, Top-3 Accuracy: 100.00%\n"
     ]
    },
    {
     "name": "stderr",
     "output_type": "stream",
     "text": [
      "100%|██████████| 41/41 [00:02<00:00, 14.24it/s]\n"
     ]
    },
    {
     "name": "stdout",
     "output_type": "stream",
     "text": [
      "Epoch [10/20], phase: train, samples: 162, Loss: 0.2264, Top-1 Accuracy: 54.32%, Top-3 Accuracy: 100.00%\n"
     ]
    },
    {
     "name": "stderr",
     "output_type": "stream",
     "text": [
      "100%|██████████| 11/11 [00:00<00:00, 17.47it/s]\n"
     ]
    },
    {
     "name": "stdout",
     "output_type": "stream",
     "text": [
      "Epoch [10/20], phase: val, samples: 41, Loss: 0.3290, Top-1 Accuracy: 46.34%, Top-3 Accuracy: 100.00%\n"
     ]
    },
    {
     "name": "stderr",
     "output_type": "stream",
     "text": [
      "100%|██████████| 41/41 [00:02<00:00, 14.91it/s]\n"
     ]
    },
    {
     "name": "stdout",
     "output_type": "stream",
     "text": [
      "Epoch [11/20], phase: train, samples: 162, Loss: 0.2219, Top-1 Accuracy: 60.49%, Top-3 Accuracy: 100.00%\n"
     ]
    },
    {
     "name": "stderr",
     "output_type": "stream",
     "text": [
      "100%|██████████| 11/11 [00:00<00:00, 17.47it/s]\n"
     ]
    },
    {
     "name": "stdout",
     "output_type": "stream",
     "text": [
      "Epoch [11/20], phase: val, samples: 41, Loss: 0.2742, Top-1 Accuracy: 56.10%, Top-3 Accuracy: 100.00%\n"
     ]
    },
    {
     "name": "stderr",
     "output_type": "stream",
     "text": [
      "100%|██████████| 41/41 [00:02<00:00, 14.97it/s]\n"
     ]
    },
    {
     "name": "stdout",
     "output_type": "stream",
     "text": [
      "Epoch [12/20], phase: train, samples: 162, Loss: 0.2216, Top-1 Accuracy: 59.26%, Top-3 Accuracy: 100.00%\n"
     ]
    },
    {
     "name": "stderr",
     "output_type": "stream",
     "text": [
      "100%|██████████| 11/11 [00:00<00:00, 16.18it/s]\n"
     ]
    },
    {
     "name": "stdout",
     "output_type": "stream",
     "text": [
      "Epoch [12/20], phase: val, samples: 41, Loss: 0.2725, Top-1 Accuracy: 51.22%, Top-3 Accuracy: 100.00%\n"
     ]
    },
    {
     "name": "stderr",
     "output_type": "stream",
     "text": [
      "100%|██████████| 41/41 [00:02<00:00, 14.39it/s]\n"
     ]
    },
    {
     "name": "stdout",
     "output_type": "stream",
     "text": [
      "Epoch [13/20], phase: train, samples: 162, Loss: 0.2199, Top-1 Accuracy: 59.88%, Top-3 Accuracy: 100.00%\n"
     ]
    },
    {
     "name": "stderr",
     "output_type": "stream",
     "text": [
      "100%|██████████| 11/11 [00:00<00:00, 16.67it/s]\n"
     ]
    },
    {
     "name": "stdout",
     "output_type": "stream",
     "text": [
      "Epoch [13/20], phase: val, samples: 41, Loss: 0.2896, Top-1 Accuracy: 56.10%, Top-3 Accuracy: 100.00%\n"
     ]
    },
    {
     "name": "stderr",
     "output_type": "stream",
     "text": [
      "100%|██████████| 41/41 [00:02<00:00, 14.09it/s]\n"
     ]
    },
    {
     "name": "stdout",
     "output_type": "stream",
     "text": [
      "Epoch [14/20], phase: train, samples: 162, Loss: 0.2093, Top-1 Accuracy: 66.05%, Top-3 Accuracy: 100.00%\n"
     ]
    },
    {
     "name": "stderr",
     "output_type": "stream",
     "text": [
      "100%|██████████| 11/11 [00:00<00:00, 17.47it/s]\n"
     ]
    },
    {
     "name": "stdout",
     "output_type": "stream",
     "text": [
      "Epoch [14/20], phase: val, samples: 41, Loss: 0.2589, Top-1 Accuracy: 51.22%, Top-3 Accuracy: 100.00%\n"
     ]
    },
    {
     "name": "stderr",
     "output_type": "stream",
     "text": [
      "100%|██████████| 41/41 [00:02<00:00, 14.09it/s]\n"
     ]
    },
    {
     "name": "stdout",
     "output_type": "stream",
     "text": [
      "Epoch [15/20], phase: train, samples: 162, Loss: 0.2025, Top-1 Accuracy: 67.28%, Top-3 Accuracy: 100.00%\n"
     ]
    },
    {
     "name": "stderr",
     "output_type": "stream",
     "text": [
      "100%|██████████| 11/11 [00:00<00:00, 16.42it/s]\n"
     ]
    },
    {
     "name": "stdout",
     "output_type": "stream",
     "text": [
      "Epoch [15/20], phase: val, samples: 41, Loss: 0.2344, Top-1 Accuracy: 68.29%, Top-3 Accuracy: 100.00%\n"
     ]
    },
    {
     "name": "stderr",
     "output_type": "stream",
     "text": [
      "100%|██████████| 41/41 [00:02<00:00, 14.05it/s]\n"
     ]
    },
    {
     "name": "stdout",
     "output_type": "stream",
     "text": [
      "Epoch [16/20], phase: train, samples: 162, Loss: 0.2010, Top-1 Accuracy: 65.43%, Top-3 Accuracy: 100.00%\n"
     ]
    },
    {
     "name": "stderr",
     "output_type": "stream",
     "text": [
      "100%|██████████| 11/11 [00:00<00:00, 16.42it/s]\n"
     ]
    },
    {
     "name": "stdout",
     "output_type": "stream",
     "text": [
      "Epoch [16/20], phase: val, samples: 41, Loss: 0.3497, Top-1 Accuracy: 46.34%, Top-3 Accuracy: 100.00%\n"
     ]
    },
    {
     "name": "stderr",
     "output_type": "stream",
     "text": [
      "100%|██████████| 41/41 [00:02<00:00, 13.95it/s]\n"
     ]
    },
    {
     "name": "stdout",
     "output_type": "stream",
     "text": [
      "Epoch [17/20], phase: train, samples: 162, Loss: 0.2063, Top-1 Accuracy: 65.43%, Top-3 Accuracy: 100.00%\n"
     ]
    },
    {
     "name": "stderr",
     "output_type": "stream",
     "text": [
      "100%|██████████| 11/11 [00:00<00:00, 17.19it/s]\n"
     ]
    },
    {
     "name": "stdout",
     "output_type": "stream",
     "text": [
      "Epoch [17/20], phase: val, samples: 41, Loss: 0.2054, Top-1 Accuracy: 65.85%, Top-3 Accuracy: 100.00%\n"
     ]
    },
    {
     "name": "stderr",
     "output_type": "stream",
     "text": [
      "100%|██████████| 41/41 [00:02<00:00, 14.65it/s]\n"
     ]
    },
    {
     "name": "stdout",
     "output_type": "stream",
     "text": [
      "Epoch [18/20], phase: train, samples: 162, Loss: 0.2044, Top-1 Accuracy: 66.05%, Top-3 Accuracy: 100.00%\n"
     ]
    },
    {
     "name": "stderr",
     "output_type": "stream",
     "text": [
      "100%|██████████| 11/11 [00:00<00:00, 17.19it/s]\n"
     ]
    },
    {
     "name": "stdout",
     "output_type": "stream",
     "text": [
      "Epoch [18/20], phase: val, samples: 41, Loss: 0.3154, Top-1 Accuracy: 51.22%, Top-3 Accuracy: 100.00%\n"
     ]
    },
    {
     "name": "stderr",
     "output_type": "stream",
     "text": [
      "100%|██████████| 41/41 [00:02<00:00, 14.00it/s]\n"
     ]
    },
    {
     "name": "stdout",
     "output_type": "stream",
     "text": [
      "Epoch [19/20], phase: train, samples: 162, Loss: 0.1894, Top-1 Accuracy: 69.75%, Top-3 Accuracy: 100.00%\n"
     ]
    },
    {
     "name": "stderr",
     "output_type": "stream",
     "text": [
      "100%|██████████| 11/11 [00:00<00:00, 16.18it/s]\n"
     ]
    },
    {
     "name": "stdout",
     "output_type": "stream",
     "text": [
      "Epoch [19/20], phase: val, samples: 41, Loss: 0.2987, Top-1 Accuracy: 56.10%, Top-3 Accuracy: 100.00%\n"
     ]
    },
    {
     "name": "stderr",
     "output_type": "stream",
     "text": [
      "100%|██████████| 41/41 [00:02<00:00, 13.95it/s]\n"
     ]
    },
    {
     "name": "stdout",
     "output_type": "stream",
     "text": [
      "Epoch [20/20], phase: train, samples: 162, Loss: 0.1823, Top-1 Accuracy: 71.60%, Top-3 Accuracy: 100.00%\n"
     ]
    },
    {
     "name": "stderr",
     "output_type": "stream",
     "text": [
      "100%|██████████| 11/11 [00:00<00:00, 15.95it/s]"
     ]
    },
    {
     "name": "stdout",
     "output_type": "stream",
     "text": [
      "Epoch [20/20], phase: val, samples: 41, Loss: 0.3084, Top-1 Accuracy: 51.22%, Top-3 Accuracy: 100.00%\n",
      "Elapsed time: 69.1871485710144 seconds\n"
     ]
    },
    {
     "name": "stderr",
     "output_type": "stream",
     "text": [
      "\n"
     ]
    }
   ],
   "source": [
    "model_list ={\n",
    "    \"resnet18\": lambda: models.resnet18(),\n",
    "    \"mobileNet\": lambda: models.mobilenet_v2(),\n",
    "    \"resnet18_mod\": lambda: mod_resnet(BasicBlock, [2, 2, 2, 2], channel_num_list=[2, 2, 2, 2, 2], num_classes=4, input_channel=3),\n",
    "    \"resnet18_mod2\": lambda: mod_resnet(BasicBlock, [2, 2, 0, 0], channel_num_list=[2, 2, 2, 2, 2], num_classes=4, input_channel=3),\n",
    "    \"mod_face\": lambda: mod_resnet(BasicBlock, [2, 2, 0, 0], channel_num_list=[64, 64, 64, 64, 64], num_classes=4, input_channel=3),\n",
    "    \"mod_face1\": lambda: mod_resnet(BasicBlock, [2, 2, 2, 2], channel_num_list=[8, 8, 16, 16, 8], num_classes=4, input_channel=3),\n",
    "    \"mod_face2\": lambda: mod_resnet(BasicBlock, [2, 2, 2, 2], channel_num_list=[16, 16, 32, 64, 128], num_classes=4, input_channel=3),\n",
    "    \"mod_face3\": lambda: mod_resnet(BasicBlock, [2, 4, 4, 2], channel_num_list=[8, 8, 8, 8, 8], num_classes=4, input_channel=3),\n",
    "    \"SimpleCNN\": lambda: SimpleCNN(),\n",
    "    \"resnet18_pre\": lambda: models.resnet18(weights=models.ResNet18_Weights.DEFAULT),\n",
    "}\n",
    "model_names = [\n",
    "    \"mod_face3\",\n",
    "    # \"mod_face3\",\n",
    "]\n",
    "\n",
    "for ii in range(len(model_names)):\n",
    "    model_name = model_names[ii]\n",
    "    phases = ['train', 'val']\n",
    "    basic_torch_function.train(model_list, model_name, data_loaders, phases)"
   ]
  },
  {
   "cell_type": "code",
   "execution_count": 18,
   "metadata": {},
   "outputs": [],
   "source": [
    "for images, labels in data_loaders['train']:\n",
    "    train_images = images.view(images.size(0), -1).numpy()  # Flatten the images\n",
    "    train_labels = labels.numpy()\n",
    "    break\n",
    "\n",
    "for images, labels in data_loaders['val']:\n",
    "    val_images = images.view(images.size(0), -1).numpy()  # Flatten the images\n",
    "    val_labels = labels.numpy()\n",
    "    break"
   ]
  },
  {
   "cell_type": "code",
   "execution_count": 19,
   "metadata": {},
   "outputs": [
    {
     "name": "stdout",
     "output_type": "stream",
     "text": [
      "starting to fit\n",
      "finish fitting\n",
      "Validation Accuracy: 35.29%\n",
      "The model is trained and ready to make predictions.\n"
     ]
    }
   ],
   "source": [
    "import torch\n",
    "from torchvision import datasets, transforms\n",
    "from torch.utils.data import DataLoader\n",
    "from sklearn.decomposition import PCA\n",
    "from sklearn.svm import SVC\n",
    "from sklearn.preprocessing import StandardScaler\n",
    "from sklearn.pipeline import make_pipeline\n",
    "from sklearn.metrics import accuracy_score\n",
    "# Standardizing and applying PCA\n",
    "# Using a pipeline to chain PCA and SVM\n",
    "pipe = make_pipeline(StandardScaler(), PCA(n_components=10), SVC(gamma='auto'))\n",
    "# for images, labels in tqdm(loaders[phase]): # Iterate over data.\n",
    "print(\"starting to fit\")\n",
    "# Fit and train in one step\n",
    "pipe.fit(train_images, train_labels)\n",
    "print(\"finish fitting\")\n",
    "val_predictions = pipe.predict(val_images)\n",
    "val_accuracy = accuracy_score(val_labels, val_predictions)\n",
    "\n",
    "print(f\"Validation Accuracy: {val_accuracy * 100:.2f}%\")\n",
    "print(\"The model is trained and ready to make predictions.\")\n"
   ]
  },
  {
   "cell_type": "code",
   "execution_count": 20,
   "metadata": {},
   "outputs": [
    {
     "name": "stdout",
     "output_type": "stream",
     "text": [
      "Train Accuracy: 100.00%\n",
      "The model is trained and ready to make predictions.\n"
     ]
    }
   ],
   "source": [
    "train_predictions = pipe.predict(train_images)\n",
    "train_accuracy = accuracy_score(train_labels, train_predictions)\n",
    "\n",
    "print(f\"Train Accuracy: {train_accuracy * 100:.2f}%\")\n",
    "print(\"The model is trained and ready to make predictions.\")"
   ]
  },
  {
   "cell_type": "code",
   "execution_count": null,
   "metadata": {},
   "outputs": [],
   "source": [
    "def one_hot_decode(data):\n",
    "    data = np.squeeze(data)\n",
    "    list_max=data.tolist()\n",
    "    list_max.sort(key=lambda x: float(x), reverse = True)\n",
    "    n = np.argwhere(data==list_max[0])\n",
    "    return int(n), list_max[0]\n",
    "def translate_Y(yi , show = False):\n",
    "    \n",
    "    num = {\n",
    "        0 : \"good\", 1 : \"other\", 2 : \"paper\", 3 : \"rock\", 4 : \"scissor\", } \n",
    "    \n",
    "    yi_new = num.get( yi ) \n",
    "            \n",
    "    if show:\n",
    "        print(yi)\n",
    "        print(yi_new)            \n",
    "        \n",
    "    return yi_new\n",
    "model = models.load_model(name)\n",
    "print(\"load \",name)\n",
    "\n",
    "# 選擇第攝影機\n",
    "cap = cv2.VideoCapture(0)"
   ]
  },
  {
   "cell_type": "code",
   "execution_count": null,
   "metadata": {},
   "outputs": [],
   "source": [
    "while(True):\n",
    "    # 從攝影機擷取一張影像\n",
    "    ret, frame = cap.read()\n",
    "    \n",
    "    # 模型預估\n",
    "    frame_resize = cv2.resize(frame, (224, 224), interpolation=cv2.INTER_AREA)\n",
    "    input_data=frame_resize[np.newaxis,:,:,:]\n",
    "    start = time.time()\n",
    "    prediction=model.predict(input_data) \n",
    "    end = time.time()\n",
    "    accumulate_time = (end - start)\n",
    "    FPS = 1/accumulate_time\n",
    "    FPS = round(FPS,2)\n",
    "    result = one_hot_decode(prediction)\n",
    "    detected = translate_Y(result[0])\n",
    "    #print(detected)\n",
    "    \n",
    "    # 顯示圖片\n",
    "    cv2.putText(frame, str(FPS), (540, 40), cv2.FONT_HERSHEY_SIMPLEX,1, (0, 0, 255), 1, cv2.LINE_AA)\n",
    "    cv2.putText(frame, detected, (10, 40), cv2.FONT_HERSHEY_SIMPLEX,1, (255, 0, 0), 1, cv2.LINE_AA)\n",
    "    cv2.imshow('frame', frame)\n",
    "    \n",
    "    # 若按下 q 鍵則離開迴圈\n",
    "    if cv2.waitKey(1) & 0xFF == ord('q'):\n",
    "        break\n",
    "\n",
    "# 釋放攝影機\n",
    "cap.release()\n",
    "\n",
    "# 關閉所有 OpenCV 視窗\n",
    "cv2.destroyAllWindows()\n"
   ]
  },
  {
   "cell_type": "markdown",
   "metadata": {},
   "source": [
    "# 越深越容易不穩定？？"
   ]
  },
  {
   "cell_type": "code",
   "execution_count": 4,
   "metadata": {},
   "outputs": [],
   "source": [
    "class BasicBlock(nn.Module):\n",
    "    expansion = 1\n",
    "\n",
    "    def __init__(self, in_channels, out_channels, stride=1, downsample=None):\n",
    "        super(BasicBlock, self).__init__()\n",
    "        self.conv1 = nn.Conv2d(in_channels, out_channels, kernel_size=3, stride=stride, padding=1, bias=False)\n",
    "        self.bn1 = nn.BatchNorm2d(out_channels)\n",
    "        self.conv2 = nn.Conv2d(out_channels, out_channels, kernel_size=3, padding=1, bias=False)\n",
    "        self.bn2 = nn.BatchNorm2d(out_channels)\n",
    "        self.downsample = downsample\n",
    "\n",
    "    def forward(self, x):\n",
    "        identity = x\n",
    "\n",
    "        out = self.conv1(x)\n",
    "        out = self.bn1(out)\n",
    "        out = F.relu(out)\n",
    "\n",
    "        out = self.conv2(out)\n",
    "        out = self.bn2(out)\n",
    "\n",
    "        if self.downsample is not None:\n",
    "            identity = self.downsample(x)\n",
    "\n",
    "        out += identity\n",
    "        out = F.relu(out)\n",
    "\n",
    "        return out\n",
    "class Bottleneck(nn.Module):\n",
    "    expansion = 4\n",
    "\n",
    "    def __init__(self, in_planes, planes, stride=1, downsample=None):\n",
    "        super(Bottleneck, self).__init__()\n",
    "        self.conv1 = nn.Conv2d(in_planes, planes, kernel_size=1, bias=False)\n",
    "        self.bn1 = nn.BatchNorm2d(planes)\n",
    "        self.conv2 = nn.Conv2d(planes, planes, kernel_size=3, stride=stride, padding=1, bias=False)\n",
    "        self.bn2 = nn.BatchNorm2d(planes)\n",
    "        self.conv3 = nn.Conv2d(planes, self.expansion*planes, kernel_size=1, bias=False)\n",
    "        self.bn3 = nn.BatchNorm2d(self.expansion*planes)\n",
    "        self.relu = nn.ReLU(inplace=True)\n",
    "        self.downsample = downsample\n",
    "        self.stride = stride\n",
    "\n",
    "    def forward(self, x):\n",
    "        identity = x\n",
    "\n",
    "        out = self.conv1(x)\n",
    "        out = self.bn1(out)\n",
    "        out = self.relu(out)\n",
    "\n",
    "        out = self.conv2(out)\n",
    "        out = self.bn2(out)\n",
    "        out = self.relu(out)\n",
    "\n",
    "        out = self.conv3(out)\n",
    "        out = self.bn3(out)\n",
    "\n",
    "        if self.downsample is not None:\n",
    "            identity = self.downsample(x)\n",
    "\n",
    "        out += identity\n",
    "        out = self.relu(out)\n",
    "\n",
    "        return out\n",
    "class ResNet(nn.Module):\n",
    "    def __init__(self, block, layers, num_classes=1000):\n",
    "        super(ResNet, self).__init__()\n",
    "        self.in_channels = 64\n",
    "        self.conv1 = nn.Conv2d(3, 64, kernel_size=7, stride=2, padding=3, bias=False)\n",
    "        self.bn1 = nn.BatchNorm2d(64)\n",
    "        self.maxpool = nn.MaxPool2d(kernel_size=3, stride=2, padding=1)\n",
    "        self.layer1 = self._make_layer(block, 64, layers[0])\n",
    "        self.layer2 = self._make_layer(block, 128, layers[1], stride=2)\n",
    "        self.layer3 = self._make_layer(block, 256, layers[2], stride=2)\n",
    "        self.layer4 = self._make_layer(block, 512, layers[3], stride=2)\n",
    "        self.avgpool = nn.AdaptiveAvgPool2d((1, 1))\n",
    "        self.fc = nn.Linear(512 * block.expansion, num_classes)\n",
    "\n",
    "    def _make_layer(self, block, out_channels, blocks, stride=1):\n",
    "        downsample = None\n",
    "        if stride != 1 or self.in_channels != out_channels * block.expansion:\n",
    "            downsample = nn.Sequential(\n",
    "                nn.Conv2d(self.in_channels, out_channels * block.expansion, kernel_size=1, stride=stride, bias=False),\n",
    "                nn.BatchNorm2d(out_channels * block.expansion),\n",
    "            )\n",
    "\n",
    "        layers = []\n",
    "        layers.append(block(self.in_channels, out_channels, stride, downsample))\n",
    "        self.in_channels = out_channels * block.expansion\n",
    "        for _ in range(1, blocks):\n",
    "            layers.append(block(self.in_channels, out_channels))\n",
    "\n",
    "        return nn.Sequential(*layers)\n",
    "\n",
    "    def forward(self, x):\n",
    "        x = self.conv1(x)\n",
    "        x = self.bn1(x)\n",
    "        x = F.relu(x)\n",
    "        x = self.maxpool(x)\n",
    "\n",
    "        x = self.layer1(x)\n",
    "        x = self.layer2(x)\n",
    "        x = self.layer3(x)\n",
    "        x = self.layer4(x)\n",
    "\n",
    "        x = self.avgpool(x)\n",
    "        x = torch.flatten(x, 1)\n",
    "        x = self.fc(x)\n",
    "\n",
    "        return x\n",
    "class mod_resnet(nn.Module):\n",
    "    def __init__(self, block, layers, channel_num_list, num_classes=1000, input_channel=3):\n",
    "        super(mod_resnet, self).__init__()\n",
    "        self.in_channels = channel_num_list[0]\n",
    "        self.conv1 = nn.Conv2d(input_channel, channel_num_list[0], kernel_size=7, stride=2, padding=3, bias=False)\n",
    "        self.bn1 = nn.BatchNorm2d(channel_num_list[0])\n",
    "        self.maxpool = nn.MaxPool2d(kernel_size=3, stride=2, padding=1)\n",
    "        self.layer1 = self._make_layer(block, channel_num_list[1], layers[0])\n",
    "        self.layer2 = self._make_layer(block, channel_num_list[2], layers[1], stride=2)\n",
    "        self.layer3 = self._make_layer(block, channel_num_list[3], layers[2], stride=2)\n",
    "        self.layer4 = self._make_layer(block, channel_num_list[4], layers[3], stride=2)\n",
    "        self.avgpool = nn.AdaptiveAvgPool2d((1, 1))\n",
    "        self.fc = nn.Linear(channel_num_list[-1] * block.expansion, num_classes)\n",
    "\n",
    "    def _make_layer(self, block, out_channels, blocks, stride=1):\n",
    "        downsample = None\n",
    "        if stride != 1 or self.in_channels != out_channels * block.expansion:\n",
    "            downsample = nn.Sequential(\n",
    "                nn.Conv2d(self.in_channels, out_channels * block.expansion, kernel_size=1, stride=stride, bias=False),\n",
    "                nn.BatchNorm2d(out_channels * block.expansion),\n",
    "            )\n",
    "\n",
    "        layers = []\n",
    "        layers.append(block(self.in_channels, out_channels, stride, downsample))\n",
    "        self.in_channels = out_channels * block.expansion\n",
    "        for _ in range(1, blocks):\n",
    "            layers.append(block(self.in_channels, out_channels))\n",
    "\n",
    "        return nn.Sequential(*layers)\n",
    "\n",
    "    def forward(self, x):\n",
    "        x = self.conv1(x)\n",
    "        x = self.bn1(x)\n",
    "        x = F.relu(x)\n",
    "        x = self.maxpool(x)\n",
    "\n",
    "        x = self.layer1(x)\n",
    "        x = self.layer2(x)\n",
    "        x = self.layer3(x)\n",
    "        x = self.layer4(x)\n",
    "\n",
    "        x = self.avgpool(x)\n",
    "        x = torch.flatten(x, 1)\n",
    "        x = self.fc(x)\n",
    "\n",
    "        return x"
   ]
  },
  {
   "cell_type": "code",
   "execution_count": null,
   "metadata": {},
   "outputs": [],
   "source": []
  }
 ],
 "metadata": {
  "kernelspec": {
   "display_name": "GPU",
   "language": "python",
   "name": "python3"
  },
  "language_info": {
   "codemirror_mode": {
    "name": "ipython",
    "version": 3
   },
   "file_extension": ".py",
   "mimetype": "text/x-python",
   "name": "python",
   "nbconvert_exporter": "python",
   "pygments_lexer": "ipython3",
   "version": "3.10.12"
  }
 },
 "nbformat": 4,
 "nbformat_minor": 2
}
