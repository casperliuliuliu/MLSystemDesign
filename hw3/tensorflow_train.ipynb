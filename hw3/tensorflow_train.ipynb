{
 "cells": [
  {
   "cell_type": "code",
   "execution_count": 1,
   "metadata": {},
   "outputs": [
    {
     "name": "stderr",
     "output_type": "stream",
     "text": [
      "c:\\Users\\User\\anaconda3\\envs\\tf37\\lib\\site-packages\\tensorflow\\python\\framework\\dtypes.py:516: FutureWarning: Passing (type, 1) or '1type' as a synonym of type is deprecated; in a future version of numpy, it will be understood as (type, (1,)) / '(1,)type'.\n",
      "  _np_qint8 = np.dtype([(\"qint8\", np.int8, 1)])\n",
      "c:\\Users\\User\\anaconda3\\envs\\tf37\\lib\\site-packages\\tensorflow\\python\\framework\\dtypes.py:517: FutureWarning: Passing (type, 1) or '1type' as a synonym of type is deprecated; in a future version of numpy, it will be understood as (type, (1,)) / '(1,)type'.\n",
      "  _np_quint8 = np.dtype([(\"quint8\", np.uint8, 1)])\n",
      "c:\\Users\\User\\anaconda3\\envs\\tf37\\lib\\site-packages\\tensorflow\\python\\framework\\dtypes.py:518: FutureWarning: Passing (type, 1) or '1type' as a synonym of type is deprecated; in a future version of numpy, it will be understood as (type, (1,)) / '(1,)type'.\n",
      "  _np_qint16 = np.dtype([(\"qint16\", np.int16, 1)])\n",
      "c:\\Users\\User\\anaconda3\\envs\\tf37\\lib\\site-packages\\tensorflow\\python\\framework\\dtypes.py:519: FutureWarning: Passing (type, 1) or '1type' as a synonym of type is deprecated; in a future version of numpy, it will be understood as (type, (1,)) / '(1,)type'.\n",
      "  _np_quint16 = np.dtype([(\"quint16\", np.uint16, 1)])\n",
      "c:\\Users\\User\\anaconda3\\envs\\tf37\\lib\\site-packages\\tensorflow\\python\\framework\\dtypes.py:520: FutureWarning: Passing (type, 1) or '1type' as a synonym of type is deprecated; in a future version of numpy, it will be understood as (type, (1,)) / '(1,)type'.\n",
      "  _np_qint32 = np.dtype([(\"qint32\", np.int32, 1)])\n",
      "c:\\Users\\User\\anaconda3\\envs\\tf37\\lib\\site-packages\\tensorflow\\python\\framework\\dtypes.py:525: FutureWarning: Passing (type, 1) or '1type' as a synonym of type is deprecated; in a future version of numpy, it will be understood as (type, (1,)) / '(1,)type'.\n",
      "  np_resource = np.dtype([(\"resource\", np.ubyte, 1)])\n",
      "c:\\Users\\User\\anaconda3\\envs\\tf37\\lib\\site-packages\\tensorboard\\compat\\tensorflow_stub\\dtypes.py:541: FutureWarning: Passing (type, 1) or '1type' as a synonym of type is deprecated; in a future version of numpy, it will be understood as (type, (1,)) / '(1,)type'.\n",
      "  _np_qint8 = np.dtype([(\"qint8\", np.int8, 1)])\n",
      "c:\\Users\\User\\anaconda3\\envs\\tf37\\lib\\site-packages\\tensorboard\\compat\\tensorflow_stub\\dtypes.py:542: FutureWarning: Passing (type, 1) or '1type' as a synonym of type is deprecated; in a future version of numpy, it will be understood as (type, (1,)) / '(1,)type'.\n",
      "  _np_quint8 = np.dtype([(\"quint8\", np.uint8, 1)])\n",
      "c:\\Users\\User\\anaconda3\\envs\\tf37\\lib\\site-packages\\tensorboard\\compat\\tensorflow_stub\\dtypes.py:543: FutureWarning: Passing (type, 1) or '1type' as a synonym of type is deprecated; in a future version of numpy, it will be understood as (type, (1,)) / '(1,)type'.\n",
      "  _np_qint16 = np.dtype([(\"qint16\", np.int16, 1)])\n",
      "c:\\Users\\User\\anaconda3\\envs\\tf37\\lib\\site-packages\\tensorboard\\compat\\tensorflow_stub\\dtypes.py:544: FutureWarning: Passing (type, 1) or '1type' as a synonym of type is deprecated; in a future version of numpy, it will be understood as (type, (1,)) / '(1,)type'.\n",
      "  _np_quint16 = np.dtype([(\"quint16\", np.uint16, 1)])\n",
      "c:\\Users\\User\\anaconda3\\envs\\tf37\\lib\\site-packages\\tensorboard\\compat\\tensorflow_stub\\dtypes.py:545: FutureWarning: Passing (type, 1) or '1type' as a synonym of type is deprecated; in a future version of numpy, it will be understood as (type, (1,)) / '(1,)type'.\n",
      "  _np_qint32 = np.dtype([(\"qint32\", np.int32, 1)])\n",
      "c:\\Users\\User\\anaconda3\\envs\\tf37\\lib\\site-packages\\tensorboard\\compat\\tensorflow_stub\\dtypes.py:550: FutureWarning: Passing (type, 1) or '1type' as a synonym of type is deprecated; in a future version of numpy, it will be understood as (type, (1,)) / '(1,)type'.\n",
      "  np_resource = np.dtype([(\"resource\", np.ubyte, 1)])\n"
     ]
    },
    {
     "name": "stdout",
     "output_type": "stream",
     "text": [
      "Found 310 images belonging to 4 classes.\n",
      "Found 310 images belonging to 4 classes.\n",
      "Found 310 images belonging to 4 classes.\n",
      "Found 310 images belonging to 4 classes.\n",
      "1\n"
     ]
    }
   ],
   "source": [
    "import tensorflow as tf\n",
    "from tensorflow.keras.preprocessing.image import ImageDataGenerator\n",
    "\n",
    "# Define image size and path to the dataset\n",
    "img_size = (512, 512)\n",
    "path = \"D:\\\\Casper\\\\OTHER\\\\Data\\\\dpaml_hw3\\\\face_data\"\n",
    "\n",
    "# Define different data augmentations\n",
    "datagen = ImageDataGenerator(rescale=1./255)\n",
    "datagen_flip_v = ImageDataGenerator(\n",
    "    rescale=1./255,\n",
    "    vertical_flip=True\n",
    ")\n",
    "datagen_flip_h = ImageDataGenerator(\n",
    "    rescale=1./255,\n",
    "    horizontal_flip=True\n",
    "    \n",
    ")\n",
    "datagen_flip_both = ImageDataGenerator(\n",
    "    rescale=1./255,\n",
    "    vertical_flip=True,\n",
    "    horizontal_flip=True\n",
    ")\n",
    "\n",
    "# Create data generators\n",
    "data_flow = datagen.flow_from_directory(path, target_size=img_size, class_mode='categorical', batch_size=1, shuffle=True)\n",
    "data_flow_v = datagen_flip_v.flow_from_directory(path, target_size=img_size, class_mode='categorical', batch_size=1, shuffle=True)\n",
    "data_flow_h = datagen_flip_h.flow_from_directory(path, target_size=img_size, class_mode='categorical', batch_size=1, shuffle=True)\n",
    "data_flow_both = datagen_flip_both.flow_from_directory(path, target_size=img_size, class_mode='categorical', batch_size=1, shuffle=True)\n",
    "print(data_flow.batch_size)\n"
   ]
  },
  {
   "cell_type": "code",
   "execution_count": 2,
   "metadata": {},
   "outputs": [],
   "source": [
    "from itertools import cycle\n",
    "import random\n",
    "import numpy as np\n",
    "def combined_generator(*generators):\n",
    "    while True:\n",
    "        for g in generators:\n",
    "            yield next(g)\n",
    "\n",
    "combined_gen_test = combined_generator(data_flow, data_flow_v, data_flow_h, data_flow_both)\n",
    "\n",
    "\n",
    "def combined_shuffled_generator(batch_size, *generators):\n",
    "    # Create an iterator pool from all generators\n",
    "    iterator_pool = [iter(gen) for gen in generators]\n",
    "    \n",
    "    while True:\n",
    "        # Prepare to collect a batch of the specified size\n",
    "        combined_batch_x = []\n",
    "        combined_batch_y = []\n",
    "        \n",
    "        for _ in range(batch_size):\n",
    "            # Select a generator at random\n",
    "            gen_iter = random.choice(iterator_pool)\n",
    "            try:\n",
    "                x, y = next(gen_iter)\n",
    "                combined_batch_x.append(x)\n",
    "                combined_batch_y.append(y)\n",
    "            except StopIteration:\n",
    "                # Handle the case where a generator is exhausted if not looping indefinitely\n",
    "                continue\n",
    "\n",
    "        # Yield the combined batch\n",
    "        yield np.vstack(combined_batch_x), np.vstack(combined_batch_y)\n",
    "\n",
    "# Example usage\n",
    "combined_gen = combined_shuffled_generator(4, data_flow, data_flow_v, data_flow_h, data_flow_both)"
   ]
  },
  {
   "cell_type": "code",
   "execution_count": 3,
   "metadata": {},
   "outputs": [
    {
     "name": "stdout",
     "output_type": "stream",
     "text": [
      "WARNING:tensorflow:From c:\\Users\\User\\anaconda3\\envs\\tf37\\lib\\site-packages\\tensorflow\\python\\ops\\init_ops.py:1251: calling VarianceScaling.__init__ (from tensorflow.python.ops.init_ops) with dtype is deprecated and will be removed in a future version.\n",
      "Instructions for updating:\n",
      "Call initializer instance with the dtype argument instead of passing it to the constructor\n",
      "WARNING:tensorflow:Entity <bound method SimpleCNN_b.call of <__main__.SimpleCNN_b object at 0x000002A8FF6365C8>> could not be transformed and will be executed as-is. Please report this to the AutgoGraph team. When filing the bug, set the verbosity to 10 (on Linux, `export AUTOGRAPH_VERBOSITY=10`) and attach the full output. Cause: converting <bound method SimpleCNN_b.call of <__main__.SimpleCNN_b object at 0x000002A8FF6365C8>>: AttributeError: module 'gast' has no attribute 'Str'\n",
      "WARNING: Entity <bound method SimpleCNN_b.call of <__main__.SimpleCNN_b object at 0x000002A8FF6365C8>> could not be transformed and will be executed as-is. Please report this to the AutgoGraph team. When filing the bug, set the verbosity to 10 (on Linux, `export AUTOGRAPH_VERBOSITY=10`) and attach the full output. Cause: converting <bound method SimpleCNN_b.call of <__main__.SimpleCNN_b object at 0x000002A8FF6365C8>>: AttributeError: module 'gast' has no attribute 'Str'\n",
      "(2, 4)\n"
     ]
    }
   ],
   "source": [
    "import tensorflow as tf\n",
    "from tensorflow.keras import layers, models, Model\n",
    "\n",
    "class SimpleCNN_a(tf.keras.Model):\n",
    "    def __init__(self):\n",
    "        super(SimpleCNN_a, self).__init__()\n",
    "        self.conv1 = layers.Conv2D(20, (3, 3), strides=2)\n",
    "        # Pooling is commented out in the original PyTorch code, we'll skip it here too\n",
    "        self.conv2 = layers.Conv2D(40, (3, 3), strides=2)\n",
    "        self.conv3 = layers.Conv2D(20, (3, 3), strides=2)\n",
    "        self.conv4 = layers.Conv2D(1, (3, 3), strides=2)\n",
    "        self.flatten = layers.Flatten()\n",
    "        # Inferred from PyTorch code - assuming the feature size here, adjust as needed\n",
    "        self.fc = layers.Dense(4)\n",
    "\n",
    "    def call(self, x):\n",
    "        x = self.conv1(x)\n",
    "        x = tf.nn.relu(x)\n",
    "        x = self.conv2(x)\n",
    "        x = tf.nn.relu(x)\n",
    "        x = self.conv3(x)\n",
    "        x = tf.nn.relu(x)\n",
    "        x = self.conv4(x)\n",
    "        x = tf.nn.relu(x)\n",
    "        x = self.flatten(x)\n",
    "        x = self.fc(x)\n",
    "        return x\n",
    "\n",
    "class SimpleCNN_b(tf.keras.Model):\n",
    "    def __init__(self):\n",
    "        super(SimpleCNN_b, self).__init__()\n",
    "        self.conv1 = layers.Conv2D(50, (3, 3), strides=2)\n",
    "        self.pool = layers.MaxPooling2D(2)\n",
    "        self.conv2 = layers.Conv2D(1, (3, 3), strides=2)\n",
    "        self.flatten = layers.Flatten()\n",
    "        self.fc = layers.Dense(4)\n",
    "\n",
    "    def call(self, x):\n",
    "        x = self.conv1(x)\n",
    "        x = tf.nn.relu(x)\n",
    "        x = self.pool(x)\n",
    "        x = self.conv2(x)\n",
    "        x = tf.nn.relu(x)\n",
    "        x = self.pool(x)\n",
    "        x = self.flatten(x)\n",
    "        x = self.fc(x)\n",
    "        return x\n",
    "\n",
    "# Creating an instance of the second model and testing it\n",
    "model = SimpleCNN_b()\n",
    "\n",
    "# Creating a random input tensor\n",
    "img = tf.random.normal([2, 512, 512, 3])  # Note TensorFlow uses NHWC format by default\n",
    "output = model(img)\n",
    "print(output.shape)  # Should print (2, 4)\n"
   ]
  },
  {
   "cell_type": "code",
   "execution_count": null,
   "metadata": {},
   "outputs": [],
   "source": []
  },
  {
   "cell_type": "code",
   "execution_count": 7,
   "metadata": {},
   "outputs": [
    {
     "name": "stdout",
     "output_type": "stream",
     "text": [
      "4\n"
     ]
    },
    {
     "name": "stdout",
     "output_type": "stream",
     "text": [
      "Epoch 1/5\n",
      "WARNING:tensorflow:Entity <bound method SimpleCNN_b.call of <__main__.SimpleCNN_b object at 0x000002A8B9325288>> could not be transformed and will be executed as-is. Please report this to the AutgoGraph team. When filing the bug, set the verbosity to 10 (on Linux, `export AUTOGRAPH_VERBOSITY=10`) and attach the full output. Cause: converting <bound method SimpleCNN_b.call of <__main__.SimpleCNN_b object at 0x000002A8B9325288>>: AttributeError: module 'gast' has no attribute 'Str'\n",
      "WARNING: Entity <bound method SimpleCNN_b.call of <__main__.SimpleCNN_b object at 0x000002A8B9325288>> could not be transformed and will be executed as-is. Please report this to the AutgoGraph team. When filing the bug, set the verbosity to 10 (on Linux, `export AUTOGRAPH_VERBOSITY=10`) and attach the full output. Cause: converting <bound method SimpleCNN_b.call of <__main__.SimpleCNN_b object at 0x000002A8B9325288>>: AttributeError: module 'gast' has no attribute 'Str'\n",
      "310/310 [==============================] - 8s 26ms/step - loss: 7.6801 - acc: 0.2881\n",
      "Epoch 2/5\n",
      "310/310 [==============================] - 8s 25ms/step - loss: 7.9031 - acc: 0.3333\n",
      "Epoch 3/5\n",
      "310/310 [==============================] - 8s 24ms/step - loss: 7.7991 - acc: 0.3021\n",
      "Epoch 4/5\n",
      "310/310 [==============================] - 8s 24ms/step - loss: 7.9031 - acc: 0.3378\n",
      "Epoch 5/5\n",
      "310/310 [==============================] - 7s 24ms/step - loss: 8.2150 - acc: 0.3186\n"
     ]
    },
    {
     "ename": "NotImplementedError",
     "evalue": "Saving the model as SavedModel is not supported in TensorFlow 1.Xgraph mode. Please enable eager execution or use the \"h5\" save format.",
     "output_type": "error",
     "traceback": [
      "\u001b[1;31m---------------------------------------------------------------------------\u001b[0m",
      "\u001b[1;31mNotImplementedError\u001b[0m                       Traceback (most recent call last)",
      "\u001b[1;32m~\\AppData\\Local\\Temp\\ipykernel_28760\\1683647545.py\u001b[0m in \u001b[0;36m<module>\u001b[1;34m\u001b[0m\n\u001b[0;32m     14\u001b[0m \u001b[1;31m# Start trainin\u001b[0m\u001b[1;33m\u001b[0m\u001b[1;33m\u001b[0m\u001b[1;33m\u001b[0m\u001b[0m\n\u001b[0;32m     15\u001b[0m \u001b[0mmodel\u001b[0m\u001b[1;33m.\u001b[0m\u001b[0mfit\u001b[0m\u001b[1;33m(\u001b[0m\u001b[0mcombined_gen_test\u001b[0m\u001b[1;33m,\u001b[0m \u001b[0mepochs\u001b[0m\u001b[1;33m=\u001b[0m\u001b[1;36m5\u001b[0m\u001b[1;33m,\u001b[0m \u001b[0msteps_per_epoch\u001b[0m\u001b[1;33m=\u001b[0m\u001b[1;36m310\u001b[0m\u001b[1;33m)\u001b[0m\u001b[1;33m\u001b[0m\u001b[1;33m\u001b[0m\u001b[0m\n\u001b[1;32m---> 16\u001b[1;33m \u001b[0mmodel\u001b[0m\u001b[1;33m.\u001b[0m\u001b[0msave\u001b[0m\u001b[1;33m(\u001b[0m\u001b[1;34m'tf_simpleCNN'\u001b[0m\u001b[1;33m,\u001b[0m \u001b[0msave_format\u001b[0m\u001b[1;33m=\u001b[0m\u001b[1;34m'tf'\u001b[0m\u001b[1;33m)\u001b[0m\u001b[1;33m\u001b[0m\u001b[1;33m\u001b[0m\u001b[0m\n\u001b[0m\u001b[0;32m     17\u001b[0m \u001b[1;33m\u001b[0m\u001b[0m\n\u001b[0;32m     18\u001b[0m \u001b[1;31m# Later, load the model from this directory\u001b[0m\u001b[1;33m\u001b[0m\u001b[1;33m\u001b[0m\u001b[1;33m\u001b[0m\u001b[0m\n",
      "\u001b[1;32mc:\\Users\\User\\anaconda3\\envs\\tf37\\lib\\site-packages\\tensorflow\\python\\keras\\engine\\network.py\u001b[0m in \u001b[0;36msave\u001b[1;34m(self, filepath, overwrite, include_optimizer, save_format)\u001b[0m\n\u001b[0;32m   1209\u001b[0m     \u001b[0;31m`\u001b[0m\u001b[0;31m`\u001b[0m\u001b[0;31m`\u001b[0m\u001b[1;33m\u001b[0m\u001b[1;33m\u001b[0m\u001b[0m\n\u001b[0;32m   1210\u001b[0m     \"\"\"\n\u001b[1;32m-> 1211\u001b[1;33m     \u001b[0msaving\u001b[0m\u001b[1;33m.\u001b[0m\u001b[0msave_model\u001b[0m\u001b[1;33m(\u001b[0m\u001b[0mself\u001b[0m\u001b[1;33m,\u001b[0m \u001b[0mfilepath\u001b[0m\u001b[1;33m,\u001b[0m \u001b[0moverwrite\u001b[0m\u001b[1;33m,\u001b[0m \u001b[0minclude_optimizer\u001b[0m\u001b[1;33m,\u001b[0m \u001b[0msave_format\u001b[0m\u001b[1;33m)\u001b[0m\u001b[1;33m\u001b[0m\u001b[1;33m\u001b[0m\u001b[0m\n\u001b[0m\u001b[0;32m   1212\u001b[0m \u001b[1;33m\u001b[0m\u001b[0m\n\u001b[0;32m   1213\u001b[0m   \u001b[1;32mdef\u001b[0m \u001b[0msave_weights\u001b[0m\u001b[1;33m(\u001b[0m\u001b[0mself\u001b[0m\u001b[1;33m,\u001b[0m \u001b[0mfilepath\u001b[0m\u001b[1;33m,\u001b[0m \u001b[0moverwrite\u001b[0m\u001b[1;33m=\u001b[0m\u001b[1;32mTrue\u001b[0m\u001b[1;33m,\u001b[0m \u001b[0msave_format\u001b[0m\u001b[1;33m=\u001b[0m\u001b[1;32mNone\u001b[0m\u001b[1;33m)\u001b[0m\u001b[1;33m:\u001b[0m\u001b[1;33m\u001b[0m\u001b[1;33m\u001b[0m\u001b[0m\n",
      "\u001b[1;32mc:\\Users\\User\\anaconda3\\envs\\tf37\\lib\\site-packages\\tensorflow\\python\\keras\\saving\\save.py\u001b[0m in \u001b[0;36msave_model\u001b[1;34m(model, filepath, overwrite, include_optimizer, save_format)\u001b[0m\n\u001b[0;32m     84\u001b[0m       and save_format == 'tf'):\n\u001b[0;32m     85\u001b[0m     raise NotImplementedError(\n\u001b[1;32m---> 86\u001b[1;33m         \u001b[1;34m'Saving the model as SavedModel is not supported in TensorFlow 1.X'\u001b[0m\u001b[1;33m\u001b[0m\u001b[1;33m\u001b[0m\u001b[0m\n\u001b[0m\u001b[0;32m     87\u001b[0m         \u001b[1;34m'graph mode. Please enable eager execution or use the \"h5\" save format.'\u001b[0m\u001b[1;33m\u001b[0m\u001b[1;33m\u001b[0m\u001b[0m\n\u001b[0;32m     88\u001b[0m         )\n",
      "\u001b[1;31mNotImplementedError\u001b[0m: Saving the model as SavedModel is not supported in TensorFlow 1.Xgraph mode. Please enable eager execution or use the \"h5\" save format."
     ]
    }
   ],
   "source": [
    "import tensorflow as tf\n",
    "from tensorflow.keras.applications import MobileNet\n",
    "from tensorflow.keras.preprocessing.image import ImageDataGenerator\n",
    "import time\n",
    "\n",
    "# Define the MobileNet model\n",
    "class_num = data_flow.num_classes  # Assuming class numbers are derived from the generator\n",
    "print(class_num)\n",
    "model = MobileNet(input_shape=(512, 512, 3), weights=None, classes=class_num)\n",
    "model = SimpleCNN_b()\n",
    "model.compile(optimizer=\"adam\", loss=\"categorical_crossentropy\", metrics=[\"accuracy\"])\n",
    "# Calculate the steps per epoch\n",
    "\n",
    "# Start trainin\n",
    "model.fit(combined_gen_test, epochs=5, steps_per_epoch=310)\n",
    "model.save('tf_simpleCNN', save_format='tf')\n",
    "\n",
    "# Later, load the model from this directory\n",
    "model = tf.keras.models.load_model('my_model_saved_model_format')\n"
   ]
  },
  {
   "cell_type": "code",
   "execution_count": 11,
   "metadata": {},
   "outputs": [],
   "source": [
    "model.save_weights('tf_simpleCNN', save_format='h5')\n",
    "model.load_weights('tf_simpleCNN')\n"
   ]
  },
  {
   "cell_type": "code",
   "execution_count": null,
   "metadata": {},
   "outputs": [],
   "source": [
    "model.save('tf_simpleCNN', save_format='tf')\n",
    "\n",
    "# Later, load the model from this directory\n",
    "model = tf.keras.models.load_model('my_model_saved_model_format')"
   ]
  },
  {
   "cell_type": "code",
   "execution_count": 16,
   "metadata": {},
   "outputs": [
    {
     "ename": "ValueError",
     "evalue": "('Error when checking model input: expected no data, but got:', array([[[[0.5764706 , 0.5529412 , 0.45098042],\n         [0.49803925, 0.47450984, 0.37254903],\n         [0.6784314 , 0.654902  , 0.5529412 ],\n         ...,\n         [0.14117648, 0.14117648, 0.13333334],\n         [0.14901961, 0.14901961, 0.14117648],\n         [0.12941177, 0.12941177, 0.12156864]],\n\n        [[0.6392157 , 0.6039216 , 0.4901961 ],\n         [0.7176471 , 0.68235296, 0.5686275 ],\n         [0.7607844 , 0.7254902 , 0.6117647 ],\n         ...,\n         [0.16470589, 0.16470589, 0.15686275],\n         [0.12156864, 0.12156864, 0.1137255 ],\n         [0.15686275, 0.15686275, 0.14901961]],\n\n        [[0.9725491 , 0.94117653, 0.7960785 ],\n         [0.882353  , 0.8470589 , 0.7176471 ],\n         [0.79215693, 0.7568628 , 0.6431373 ],\n         ...,\n         [0.16862746, 0.16862746, 0.16078432],\n         [0.16078432, 0.16078432, 0.15294118],\n         [0.14117648, 0.14117648, 0.13333334]],\n\n        ...,\n\n        [[0.3529412 , 0.3254902 , 0.3019608 ],\n         [0.34509805, 0.31764707, 0.29411766],\n         [0.4039216 , 0.37647063, 0.3529412 ],\n         ...,\n         [0.43921572, 0.4039216 , 0.36862746],\n         [0.454902  , 0.41960788, 0.38431376],\n         [0.37647063, 0.34117648, 0.30588236]],\n\n        [[0.34901962, 0.32156864, 0.29803923],\n         [0.34901962, 0.32156864, 0.29803923],\n         [0.36078432, 0.33333334, 0.30980393],\n         ...,\n         [0.4039216 , 0.36862746, 0.33333334],\n         [0.4039216 , 0.36862746, 0.33333334],\n         [0.48235297, 0.44705886, 0.41176474]],\n\n        [[0.3647059 , 0.3372549 , 0.3137255 ],\n         [0.38823533, 0.36078432, 0.3372549 ],\n         [0.34509805, 0.31764707, 0.29411766],\n         ...,\n         [0.48627454, 0.45098042, 0.4156863 ],\n         [0.5019608 , 0.4666667 , 0.43137258],\n         [0.37647063, 0.34117648, 0.30588236]]],\n\n\n       [[[0.67058825, 0.6862745 , 0.5568628 ],\n         [0.7411765 , 0.8000001 , 0.67058825],\n         [0.8431373 , 0.93725497, 0.7019608 ],\n         ...,\n         [0.93725497, 0.75294125, 0.5882353 ],\n         [0.8235295 , 0.7058824 , 0.6039216 ],\n         [0.6       , 0.5294118 , 0.52156866]],\n\n        [[0.93725497, 0.9803922 , 0.8117648 ],\n         [0.9058824 , 0.94117653, 0.8196079 ],\n         [0.5294118 , 0.5921569 , 0.43921572],\n         ...,\n         [0.6       , 0.54901963, 0.5764706 ],\n         [0.5176471 , 0.5137255 , 0.54509807],\n         [0.47450984, 0.4666667 , 0.5176471 ]],\n\n        [[0.882353  , 0.9215687 , 0.7254902 ],\n         [0.59607846, 0.65882355, 0.5137255 ],\n         [0.5411765 , 0.60784316, 0.4039216 ],\n         ...,\n         [0.454902  , 0.47058827, 0.5058824 ],\n         [0.40784317, 0.4156863 , 0.47450984],\n         [0.48627454, 0.47450984, 0.54901963]],\n\n        ...,\n\n        [[0.19215688, 0.30588236, 0.4784314 ],\n         [0.2392157 , 0.3529412 , 0.5254902 ],\n         [0.19215688, 0.3137255 , 0.48627454],\n         ...,\n         [0.6392157 , 0.6745098 , 0.7411765 ],\n         [0.654902  , 0.68235296, 0.75294125],\n         [0.6509804 , 0.6784314 , 0.7490196 ]],\n\n        [[0.16470589, 0.2784314 , 0.45098042],\n         [0.227451  , 0.34117648, 0.5137255 ],\n         [0.2509804 , 0.37254903, 0.54509807],\n         ...,\n         [0.627451  , 0.6627451 , 0.7294118 ],\n         [0.64705884, 0.6745098 , 0.74509805],\n         [0.65882355, 0.6862745 , 0.7568628 ]],\n\n        [[0.21568629, 0.32941177, 0.5019608 ],\n         [0.22352943, 0.3372549 , 0.50980395],\n         [0.20000002, 0.32156864, 0.49411768],\n         ...,\n         [0.61960787, 0.654902  , 0.72156864],\n         [0.61960787, 0.64705884, 0.7176471 ],\n         [0.64705884, 0.6745098 , 0.74509805]]],\n\n\n       [[[0.4901961 , 0.29803923, 0.32156864],\n         [0.4901961 , 0.29803923, 0.32156864],\n         [0.4901961 , 0.29803923, 0.32156864],\n         ...,\n         [0.96470594, 0.8431373 , 0.8352942 ],\n         [0.96470594, 0.8431373 , 0.8352942 ],\n         [0.96470594, 0.8431373 , 0.8352942 ]],\n\n        [[0.4901961 , 0.29803923, 0.32156864],\n         [0.4901961 , 0.29803923, 0.32156864],\n         [0.4901961 , 0.29803923, 0.32156864],\n         ...,\n         [0.96470594, 0.8431373 , 0.8352942 ],\n         [0.96470594, 0.8431373 , 0.8352942 ],\n         [0.96470594, 0.8431373 , 0.8352942 ]],\n\n        [[0.4901961 , 0.29803923, 0.32156864],\n         [0.4901961 , 0.29803923, 0.32156864],\n         [0.4901961 , 0.29803923, 0.32156864],\n         ...,\n         [0.96470594, 0.8431373 , 0.8352942 ],\n         [0.96470594, 0.8431373 , 0.8352942 ],\n         [0.96470594, 0.8431373 , 0.8352942 ]],\n\n        ...,\n\n        [[0.9215687 , 0.6392157 , 0.6431373 ],\n         [0.9215687 , 0.6392157 , 0.6431373 ],\n         [0.9215687 , 0.6392157 , 0.6431373 ],\n         ...,\n         [0.90196085, 0.8313726 , 0.77647066],\n         [0.90196085, 0.8313726 , 0.77647066],\n         [0.90196085, 0.8313726 , 0.77647066]],\n\n        [[0.9215687 , 0.6392157 , 0.6431373 ],\n         [0.9215687 , 0.6392157 , 0.6431373 ],\n         [0.9215687 , 0.6392157 , 0.6431373 ],\n         ...,\n         [0.90196085, 0.8313726 , 0.77647066],\n         [0.90196085, 0.8313726 , 0.77647066],\n         [0.90196085, 0.8313726 , 0.77647066]],\n\n        [[0.9215687 , 0.6392157 , 0.6431373 ],\n         [0.9215687 , 0.6392157 , 0.6431373 ],\n         [0.9215687 , 0.6392157 , 0.6431373 ],\n         ...,\n         [0.90196085, 0.8313726 , 0.77647066],\n         [0.90196085, 0.8313726 , 0.77647066],\n         [0.90196085, 0.8313726 , 0.77647066]]],\n\n\n       ...,\n\n\n       [[[0.6745098 , 0.5137255 , 0.20392159],\n         [0.68235296, 0.5176471 , 0.21960786],\n         [0.68235296, 0.5176471 , 0.21960786],\n         ...,\n         [0.5372549 , 0.5882353 , 0.56078434],\n         [0.54901963, 0.6       , 0.57254905],\n         [0.54901963, 0.59607846, 0.5803922 ]],\n\n        [[0.7019608 , 0.53333336, 0.22352943],\n         [0.7019608 , 0.53333336, 0.22352943],\n         [0.69803923, 0.5294118 , 0.22352943],\n         ...,\n         [0.54509807, 0.59607846, 0.56078434],\n         [0.54901963, 0.6       , 0.5647059 ],\n         [0.54509807, 0.59607846, 0.5686275 ]],\n\n        [[0.7176471 , 0.54901963, 0.2392157 ],\n         [0.70980394, 0.5411765 , 0.23137257],\n         [0.7019608 , 0.53333336, 0.22352943],\n         ...,\n         [0.5137255 , 0.5647059 , 0.5294118 ],\n         [0.52156866, 0.57254905, 0.5372549 ],\n         [0.5254902 , 0.5764706 , 0.54901963]],\n\n        ...,\n\n        [[0.1254902 , 0.09019608, 0.07058824],\n         [0.13725491, 0.10196079, 0.08235294],\n         [0.12941177, 0.09411766, 0.07450981],\n         ...,\n         [0.19215688, 0.16078432, 0.11764707],\n         [0.19215688, 0.16078432, 0.11764707],\n         [0.18431373, 0.15294118, 0.10980393]],\n\n        [[0.1254902 , 0.09019608, 0.07058824],\n         [0.13725491, 0.10196079, 0.08235294],\n         [0.12941177, 0.09411766, 0.07450981],\n         ...,\n         [0.18039216, 0.14901961, 0.10588236],\n         [0.18431373, 0.15294118, 0.10980393],\n         [0.18823531, 0.15686275, 0.1137255 ]],\n\n        [[0.12941177, 0.09411766, 0.07450981],\n         [0.14117648, 0.10588236, 0.08627451],\n         [0.13333334, 0.09803922, 0.07843138],\n         ...,\n         [0.18039216, 0.14901961, 0.10588236],\n         [0.18039216, 0.14901961, 0.10588236],\n         [0.18039216, 0.14901961, 0.10588236]]],\n\n\n       [[[0.9686275 , 0.9843138 , 0.9960785 ],\n         [0.96470594, 0.9803922 , 0.9921569 ],\n         [0.96470594, 0.9803922 , 0.9921569 ],\n         ...,\n         [0.427451  , 0.37254903, 0.36862746],\n         [0.43137258, 0.37647063, 0.37254903],\n         [0.4431373 , 0.38823533, 0.38431376]],\n\n        [[0.9686275 , 0.9843138 , 0.9960785 ],\n         [0.9686275 , 0.9843138 , 0.9960785 ],\n         [0.9686275 , 0.9843138 , 0.9960785 ],\n         ...,\n         [0.43137258, 0.37647063, 0.37254903],\n         [0.43529415, 0.3803922 , 0.37647063],\n         [0.43921572, 0.38431376, 0.3803922 ]],\n\n        [[0.9725491 , 0.98823535, 1.        ],\n         [0.9725491 , 0.98823535, 1.        ],\n         [0.9725491 , 0.98823535, 1.        ],\n         ...,\n         [0.41960788, 0.37647063, 0.36862746],\n         [0.43529415, 0.3803922 , 0.37647063],\n         [0.43137258, 0.37647063, 0.37254903]],\n\n        ...,\n\n        [[0.87843144, 0.43137258, 0.427451  ],\n         [0.87843144, 0.42352945, 0.42352945],\n         [0.91372555, 0.4431373 , 0.45098042],\n         ...,\n         [0.62352943, 0.62352943, 0.654902  ],\n         [0.6392157 , 0.627451  , 0.67058825],\n         [0.6392157 , 0.627451  , 0.67058825]],\n\n        [[0.909804  , 0.38431376, 0.3803922 ],\n         [0.909804  , 0.37647063, 0.37647063],\n         [0.94117653, 0.3921569 , 0.39607847],\n         ...,\n         [0.6313726 , 0.6313726 , 0.6627451 ],\n         [0.6392157 , 0.627451  , 0.67058825],\n         [0.6431373 , 0.6313726 , 0.6745098 ]],\n\n        [[0.9450981 , 0.3803922 , 0.37647063],\n         [0.94117653, 0.36862746, 0.36862746],\n         [0.96470594, 0.3647059 , 0.37254903],\n         ...,\n         [0.6313726 , 0.6313726 , 0.6627451 ],\n         [0.6431373 , 0.6313726 , 0.6745098 ],\n         [0.6509804 , 0.6392157 , 0.68235296]]],\n\n\n       [[[0.87843144, 0.8431373 , 0.7843138 ],\n         [0.90196085, 0.86666673, 0.8078432 ],\n         [0.89019614, 0.854902  , 0.7960785 ],\n         ...,\n         [0.8313726 , 0.81568635, 0.7803922 ],\n         [0.8352942 , 0.8196079 , 0.7843138 ],\n         [0.8313726 , 0.81568635, 0.7803922 ]],\n\n        [[0.90196085, 0.86666673, 0.8078432 ],\n         [0.9058824 , 0.8705883 , 0.8117648 ],\n         [0.8862746 , 0.85098046, 0.79215693],\n         ...,\n         [0.8313726 , 0.81568635, 0.7803922 ],\n         [0.8352942 , 0.8196079 , 0.7843138 ],\n         [0.83921576, 0.8235295 , 0.78823537]],\n\n        [[0.91372555, 0.87843144, 0.8196079 ],\n         [0.909804  , 0.8745099 , 0.81568635],\n         [0.8941177 , 0.8588236 , 0.8000001 ],\n         ...,\n         [0.8313726 , 0.81568635, 0.7803922 ],\n         [0.8313726 , 0.81568635, 0.7803922 ],\n         [0.8313726 , 0.81568635, 0.7803922 ]],\n\n        ...,\n\n        [[0.5254902 , 0.49411768, 0.4431373 ],\n         [0.5686275 , 0.5372549 , 0.48627454],\n         [0.53333336, 0.5019608 , 0.45098042],\n         ...,\n         [0.7176471 , 0.6862745 , 0.6784314 ],\n         [1.        , 0.97647065, 0.9686275 ],\n         [0.9333334 , 0.91372555, 0.90196085]],\n\n        [[0.56078434, 0.5294118 , 0.4784314 ],\n         [0.5294118 , 0.49803925, 0.44705886],\n         [0.4901961 , 0.45882356, 0.40784317],\n         ...,\n         [0.93725497, 0.9058824 , 0.8980393 ],\n         [0.9333334 , 0.90196085, 0.8941177 ],\n         [0.87843144, 0.8588236 , 0.8470589 ]],\n\n        [[0.56078434, 0.5294118 , 0.4784314 ],\n         [0.5176471 , 0.48627454, 0.43529415],\n         [0.49803925, 0.4666667 , 0.4156863 ],\n         ...,\n         [0.85098046, 0.8313726 , 0.8196079 ],\n         [0.90196085, 0.882353  , 0.8705883 ],\n         [0.83921576, 0.8196079 , 0.8078432 ]]]], dtype=float32))",
     "output_type": "error",
     "traceback": [
      "\u001b[1;31m---------------------------------------------------------------------------\u001b[0m",
      "\u001b[1;31mValueError\u001b[0m                                Traceback (most recent call last)",
      "\u001b[1;32m~\\AppData\\Local\\Temp\\ipykernel_29264\\3336547463.py\u001b[0m in \u001b[0;36m<module>\u001b[1;34m\u001b[0m\n\u001b[0;32m      7\u001b[0m   \u001b[1;31m# validation_data=val_ds,\u001b[0m\u001b[1;33m\u001b[0m\u001b[1;33m\u001b[0m\u001b[1;33m\u001b[0m\u001b[0m\n\u001b[0;32m      8\u001b[0m   \u001b[0msteps_per_epoch\u001b[0m\u001b[1;33m=\u001b[0m\u001b[1;36m1240\u001b[0m\u001b[1;33m,\u001b[0m\u001b[1;33m\u001b[0m\u001b[1;33m\u001b[0m\u001b[0m\n\u001b[1;32m----> 9\u001b[1;33m   \u001b[0mepochs\u001b[0m\u001b[1;33m=\u001b[0m\u001b[1;36m1\u001b[0m\u001b[1;33m,\u001b[0m\u001b[1;33m\u001b[0m\u001b[1;33m\u001b[0m\u001b[0m\n\u001b[0m\u001b[0;32m     10\u001b[0m )\n",
      "\u001b[1;32mc:\\Users\\User\\anaconda3\\envs\\tf37\\lib\\site-packages\\tensorflow\\python\\keras\\engine\\training.py\u001b[0m in \u001b[0;36mfit\u001b[1;34m(self, x, y, batch_size, epochs, verbose, callbacks, validation_split, validation_data, shuffle, class_weight, sample_weight, initial_epoch, steps_per_epoch, validation_steps, validation_freq, max_queue_size, workers, use_multiprocessing, **kwargs)\u001b[0m\n\u001b[0;32m    671\u001b[0m           \u001b[0muse_multiprocessing\u001b[0m\u001b[1;33m=\u001b[0m\u001b[0muse_multiprocessing\u001b[0m\u001b[1;33m,\u001b[0m\u001b[1;33m\u001b[0m\u001b[1;33m\u001b[0m\u001b[0m\n\u001b[0;32m    672\u001b[0m           \u001b[0mshuffle\u001b[0m\u001b[1;33m=\u001b[0m\u001b[0mshuffle\u001b[0m\u001b[1;33m,\u001b[0m\u001b[1;33m\u001b[0m\u001b[1;33m\u001b[0m\u001b[0m\n\u001b[1;32m--> 673\u001b[1;33m           initial_epoch=initial_epoch)\n\u001b[0m\u001b[0;32m    674\u001b[0m     \u001b[1;32mif\u001b[0m \u001b[0mtraining_utils\u001b[0m\u001b[1;33m.\u001b[0m\u001b[0mis_eager_dataset_or_iterator\u001b[0m\u001b[1;33m(\u001b[0m\u001b[0mx\u001b[0m\u001b[1;33m)\u001b[0m\u001b[1;33m:\u001b[0m\u001b[1;33m\u001b[0m\u001b[1;33m\u001b[0m\u001b[0m\n\u001b[0;32m    675\u001b[0m       \u001b[1;31m# Make sure that y, sample_weights, validation_split are not passed.\u001b[0m\u001b[1;33m\u001b[0m\u001b[1;33m\u001b[0m\u001b[1;33m\u001b[0m\u001b[0m\n",
      "\u001b[1;32mc:\\Users\\User\\anaconda3\\envs\\tf37\\lib\\site-packages\\tensorflow\\python\\keras\\engine\\training.py\u001b[0m in \u001b[0;36mfit_generator\u001b[1;34m(self, generator, steps_per_epoch, epochs, verbose, callbacks, validation_data, validation_steps, validation_freq, class_weight, max_queue_size, workers, use_multiprocessing, shuffle, initial_epoch)\u001b[0m\n\u001b[0;32m   1431\u001b[0m         \u001b[0mshuffle\u001b[0m\u001b[1;33m=\u001b[0m\u001b[0mshuffle\u001b[0m\u001b[1;33m,\u001b[0m\u001b[1;33m\u001b[0m\u001b[1;33m\u001b[0m\u001b[0m\n\u001b[0;32m   1432\u001b[0m         \u001b[0minitial_epoch\u001b[0m\u001b[1;33m=\u001b[0m\u001b[0minitial_epoch\u001b[0m\u001b[1;33m,\u001b[0m\u001b[1;33m\u001b[0m\u001b[1;33m\u001b[0m\u001b[0m\n\u001b[1;32m-> 1433\u001b[1;33m         steps_name='steps_per_epoch')\n\u001b[0m\u001b[0;32m   1434\u001b[0m \u001b[1;33m\u001b[0m\u001b[0m\n\u001b[0;32m   1435\u001b[0m   def evaluate_generator(self,\n",
      "\u001b[1;32mc:\\Users\\User\\anaconda3\\envs\\tf37\\lib\\site-packages\\tensorflow\\python\\keras\\engine\\training_generator.py\u001b[0m in \u001b[0;36mmodel_iteration\u001b[1;34m(model, data, steps_per_epoch, epochs, verbose, callbacks, validation_data, validation_steps, validation_freq, class_weight, max_queue_size, workers, use_multiprocessing, shuffle, initial_epoch, mode, batch_size, steps_name, **kwargs)\u001b[0m\n\u001b[0;32m    262\u001b[0m \u001b[1;33m\u001b[0m\u001b[0m\n\u001b[0;32m    263\u001b[0m       \u001b[0mis_deferred\u001b[0m \u001b[1;33m=\u001b[0m \u001b[1;32mnot\u001b[0m \u001b[0mmodel\u001b[0m\u001b[1;33m.\u001b[0m\u001b[0m_is_compiled\u001b[0m\u001b[1;33m\u001b[0m\u001b[1;33m\u001b[0m\u001b[0m\n\u001b[1;32m--> 264\u001b[1;33m       \u001b[0mbatch_outs\u001b[0m \u001b[1;33m=\u001b[0m \u001b[0mbatch_function\u001b[0m\u001b[1;33m(\u001b[0m\u001b[1;33m*\u001b[0m\u001b[0mbatch_data\u001b[0m\u001b[1;33m)\u001b[0m\u001b[1;33m\u001b[0m\u001b[1;33m\u001b[0m\u001b[0m\n\u001b[0m\u001b[0;32m    265\u001b[0m       \u001b[1;32mif\u001b[0m \u001b[1;32mnot\u001b[0m \u001b[0misinstance\u001b[0m\u001b[1;33m(\u001b[0m\u001b[0mbatch_outs\u001b[0m\u001b[1;33m,\u001b[0m \u001b[0mlist\u001b[0m\u001b[1;33m)\u001b[0m\u001b[1;33m:\u001b[0m\u001b[1;33m\u001b[0m\u001b[1;33m\u001b[0m\u001b[0m\n\u001b[0;32m    266\u001b[0m         \u001b[0mbatch_outs\u001b[0m \u001b[1;33m=\u001b[0m \u001b[1;33m[\u001b[0m\u001b[0mbatch_outs\u001b[0m\u001b[1;33m]\u001b[0m\u001b[1;33m\u001b[0m\u001b[1;33m\u001b[0m\u001b[0m\n",
      "\u001b[1;32mc:\\Users\\User\\anaconda3\\envs\\tf37\\lib\\site-packages\\tensorflow\\python\\keras\\engine\\training.py\u001b[0m in \u001b[0;36mtrain_on_batch\u001b[1;34m(self, x, y, sample_weight, class_weight, reset_metrics)\u001b[0m\n\u001b[0;32m   1151\u001b[0m     x, y, sample_weights = self._standardize_user_data(\n\u001b[0;32m   1152\u001b[0m         \u001b[0mx\u001b[0m\u001b[1;33m,\u001b[0m \u001b[0my\u001b[0m\u001b[1;33m,\u001b[0m \u001b[0msample_weight\u001b[0m\u001b[1;33m=\u001b[0m\u001b[0msample_weight\u001b[0m\u001b[1;33m,\u001b[0m \u001b[0mclass_weight\u001b[0m\u001b[1;33m=\u001b[0m\u001b[0mclass_weight\u001b[0m\u001b[1;33m,\u001b[0m\u001b[1;33m\u001b[0m\u001b[1;33m\u001b[0m\u001b[0m\n\u001b[1;32m-> 1153\u001b[1;33m         extract_tensors_from_dataset=True)\n\u001b[0m\u001b[0;32m   1154\u001b[0m \u001b[1;33m\u001b[0m\u001b[0m\n\u001b[0;32m   1155\u001b[0m     \u001b[1;31m# If `self._distribution_strategy` is True, then we are in a replica context\u001b[0m\u001b[1;33m\u001b[0m\u001b[1;33m\u001b[0m\u001b[1;33m\u001b[0m\u001b[0m\n",
      "\u001b[1;32mc:\\Users\\User\\anaconda3\\envs\\tf37\\lib\\site-packages\\tensorflow\\python\\keras\\engine\\training.py\u001b[0m in \u001b[0;36m_standardize_user_data\u001b[1;34m(self, x, y, sample_weight, class_weight, batch_size, check_steps, steps_name, steps, validation_split, shuffle, extract_tensors_from_dataset)\u001b[0m\n\u001b[0;32m   2649\u001b[0m           \u001b[0mfeed_input_shapes\u001b[0m\u001b[1;33m,\u001b[0m\u001b[1;33m\u001b[0m\u001b[1;33m\u001b[0m\u001b[0m\n\u001b[0;32m   2650\u001b[0m           \u001b[0mcheck_batch_axis\u001b[0m\u001b[1;33m=\u001b[0m\u001b[1;32mFalse\u001b[0m\u001b[1;33m,\u001b[0m  \u001b[1;31m# Don't enforce the batch size.\u001b[0m\u001b[1;33m\u001b[0m\u001b[1;33m\u001b[0m\u001b[0m\n\u001b[1;32m-> 2651\u001b[1;33m           exception_prefix='input')\n\u001b[0m\u001b[0;32m   2652\u001b[0m \u001b[1;33m\u001b[0m\u001b[0m\n\u001b[0;32m   2653\u001b[0m     \u001b[1;32mif\u001b[0m \u001b[0my\u001b[0m \u001b[1;32mis\u001b[0m \u001b[1;32mnot\u001b[0m \u001b[1;32mNone\u001b[0m\u001b[1;33m:\u001b[0m\u001b[1;33m\u001b[0m\u001b[1;33m\u001b[0m\u001b[0m\n",
      "\u001b[1;32mc:\\Users\\User\\anaconda3\\envs\\tf37\\lib\\site-packages\\tensorflow\\python\\keras\\engine\\training_utils.py\u001b[0m in \u001b[0;36mstandardize_input_data\u001b[1;34m(data, names, shapes, check_batch_axis, exception_prefix)\u001b[0m\n\u001b[0;32m    303\u001b[0m       raise ValueError(\n\u001b[0;32m    304\u001b[0m           \u001b[1;34m'Error when checking model '\u001b[0m \u001b[1;33m+\u001b[0m \u001b[0mexception_prefix\u001b[0m \u001b[1;33m+\u001b[0m \u001b[1;34m': '\u001b[0m\u001b[1;33m\u001b[0m\u001b[1;33m\u001b[0m\u001b[0m\n\u001b[1;32m--> 305\u001b[1;33m           'expected no data, but got:', data)\n\u001b[0m\u001b[0;32m    306\u001b[0m     \u001b[1;32mreturn\u001b[0m \u001b[1;33m[\u001b[0m\u001b[1;33m]\u001b[0m\u001b[1;33m\u001b[0m\u001b[1;33m\u001b[0m\u001b[0m\n\u001b[0;32m    307\u001b[0m   \u001b[1;32mif\u001b[0m \u001b[0mdata\u001b[0m \u001b[1;32mis\u001b[0m \u001b[1;32mNone\u001b[0m\u001b[1;33m:\u001b[0m\u001b[1;33m\u001b[0m\u001b[1;33m\u001b[0m\u001b[0m\n",
      "\u001b[1;31mValueError\u001b[0m: ('Error when checking model input: expected no data, but got:', array([[[[0.5764706 , 0.5529412 , 0.45098042],\n         [0.49803925, 0.47450984, 0.37254903],\n         [0.6784314 , 0.654902  , 0.5529412 ],\n         ...,\n         [0.14117648, 0.14117648, 0.13333334],\n         [0.14901961, 0.14901961, 0.14117648],\n         [0.12941177, 0.12941177, 0.12156864]],\n\n        [[0.6392157 , 0.6039216 , 0.4901961 ],\n         [0.7176471 , 0.68235296, 0.5686275 ],\n         [0.7607844 , 0.7254902 , 0.6117647 ],\n         ...,\n         [0.16470589, 0.16470589, 0.15686275],\n         [0.12156864, 0.12156864, 0.1137255 ],\n         [0.15686275, 0.15686275, 0.14901961]],\n\n        [[0.9725491 , 0.94117653, 0.7960785 ],\n         [0.882353  , 0.8470589 , 0.7176471 ],\n         [0.79215693, 0.7568628 , 0.6431373 ],\n         ...,\n         [0.16862746, 0.16862746, 0.16078432],\n         [0.16078432, 0.16078432, 0.15294118],\n         [0.14117648, 0.14117648, 0.13333334]],\n\n        ...,\n\n        [[0.3529412 , 0.3254902 , 0.3019608 ],\n         [0.34509805, 0.31764707, 0.29411766],\n         [0.4039216 , 0.37647063, 0.3529412 ],\n         ...,\n         [0.43921572, 0.4039216 , 0.36862746],\n         [0.454902  , 0.41960788, 0.38431376],\n         [0.37647063, 0.34117648, 0.30588236]],\n\n        [[0.34901962, 0.32156864, 0.29803923],\n         [0.34901962, 0.32156864, 0.29803923],\n         [0.36078432, 0.33333334, 0.30980393],\n         ...,\n         [0.4039216 , 0.36862746, 0.33333334],\n         [0.4039216 , 0.36862746, 0.33333334],\n         [0.48235297, 0.44705886, 0.41176474]],\n\n        [[0.3647059 , 0.3372549 , 0.3137255 ],\n         [0.38823533, 0.36078432, 0.3372549 ],\n         [0.34509805, 0.31764707, 0.29411766],\n         ...,\n         [0.48627454, 0.45098042, 0.4156863 ],\n         [0.5019608 , 0.4666667 , 0.43137258],\n         [0.37647063, 0.34117648, 0.30588236]]],\n\n\n       [[[0.67058825, 0.6862745 , 0.5568628 ],\n         [0.7411765 , 0.8000001 , 0.67058825],\n         [0.8431373 , 0.93725497, 0.7019608 ],\n         ...,\n         [0.93725497, 0.75294125, 0.5882353 ],\n         [0.8235295 , 0.7058824 , 0.6039216 ],\n         [0.6       , 0.5294118 , 0.52156866]],\n\n        [[0.93725497, 0.9803922 , 0.8117648 ],\n         [0.9058824 , 0.94117653, 0.8196079 ],\n         [0.5294118 , 0.5921569 , 0.43921572],\n         ...,\n         [0.6       , 0.54901963, 0.5764706 ],\n         [0.5176471 , 0.5137255 , 0.54509807],\n         [0.47450984, 0.4666667 , 0.5176471 ]],\n\n        [[0.882353  , 0.9215687 , 0.7254902 ],\n         [0.59607846, 0.65882355, 0.5137255 ],\n         [0.5411765 , 0.60784316, 0.4039216 ],\n         ...,\n         [0.454902  , 0.47058827, 0.5058824 ],\n         [0.40784317, 0.4156863 , 0.47450984],\n         [0.48627454, 0.47450984, 0.54901963]],\n\n        ...,\n\n        [[0.19215688, 0.30588236, 0.4784314 ],\n         [0.2392157 , 0.3529412 , 0.5254902 ],\n         [0.19215688, 0.3137255 , 0.48627454],\n         ...,\n         [0.6392157 , 0.6745098 , 0.7411765 ],\n         [0.654902  , 0.68235296, 0.75294125],\n         [0.6509804 , 0.6784314 , 0.7490196 ]],\n\n        [[0.16470589, 0.2784314 , 0.45098042],\n         [0.227451  , 0.34117648, 0.5137255 ],\n         [0.2509804 , 0.37254903, 0.54509807],\n         ...,\n         [0.627451  , 0.6627451 , 0.7294118 ],\n         [0.64705884, 0.6745098 , 0.74509805],\n         [0.65882355, 0.6862745 , 0.7568628 ]],\n\n        [[0.21568629, 0.32941177, 0.5019608 ],\n         [0.22352943, 0.3372549 , 0.50980395],\n         [0.20000002, 0.32156864, 0.49411768],\n         ...,\n         [0.61960787, 0.654902  , 0.72156864],\n         [0.61960787, 0.64705884, 0.7176471 ],\n         [0.64705884, 0.6745098 , 0.74509805]]],\n\n\n       [[[0.4901961 , 0.29803923, 0.32156864],\n         [0.4901961 , 0.29803923, 0.32156864],\n         [0.4901961 , 0.29803923, 0.32156864],\n         ...,\n         [0.96470594, 0.8431373 , 0.8352942 ],\n         [0.96470594, 0.8431373 , 0.8352942 ],\n         [0.96470594, 0.8431373 , 0.8352942 ]],\n\n        [[0.4901961 , 0.29803923, 0.32156864],\n         [0.4901961 , 0.29803923, 0.32156864],\n         [0.4901961 , 0.29803923, 0.32156864],\n         ...,\n         [0.96470594, 0.8431373 , 0.8352942 ],\n         [0.96470594, 0.8431373 , 0.8352942 ],\n         [0.96470594, 0.8431373 , 0.8352942 ]],\n\n        [[0.4901961 , 0.29803923, 0.32156864],\n         [0.4901961 , 0.29803923, 0.32156864],\n         [0.4901961 , 0.29803923, 0.32156864],\n         ...,\n         [0.96470594, 0.8431373 , 0.8352942 ],\n         [0.96470594, 0.8431373 , 0.8352942 ],\n         [0.96470594, 0.8431373 , 0.8352942 ]],\n\n        ...,\n\n        [[0.9215687 , 0.6392157 , 0.6431373 ],\n         [0.9215687 , 0.6392157 , 0.6431373 ],\n         [0.9215687 , 0.6392157 , 0.6431373 ],\n         ...,\n         [0.90196085, 0.8313726 , 0.77647066],\n         [0.90196085, 0.8313726 , 0.77647066],\n         [0.90196085, 0.8313726 , 0.77647066]],\n\n        [[0.9215687 , 0.6392157 , 0.6431373 ],\n         [0.9215687 , 0.6392157 , 0.6431373 ],\n         [0.9215687 , 0.6392157 , 0.6431373 ],\n         ...,\n         [0.90196085, 0.8313726 , 0.77647066],\n         [0.90196085, 0.8313726 , 0.77647066],\n         [0.90196085, 0.8313726 , 0.77647066]],\n\n        [[0.9215687 , 0.6392157 , 0.6431373 ],\n         [0.9215687 , 0.6392157 , 0.6431373 ],\n         [0.9215687 , 0.6392157 , 0.6431373 ],\n         ...,\n         [0.90196085, 0.8313726 , 0.77647066],\n         [0.90196085, 0.8313726 , 0.77647066],\n         [0.90196085, 0.8313726 , 0.77647066]]],\n\n\n       ...,\n\n\n       [[[0.6745098 , 0.5137255 , 0.20392159],\n         [0.68235296, 0.5176471 , 0.21960786],\n         [0.68235296, 0.5176471 , 0.21960786],\n         ...,\n         [0.5372549 , 0.5882353 , 0.56078434],\n         [0.54901963, 0.6       , 0.57254905],\n         [0.54901963, 0.59607846, 0.5803922 ]],\n\n        [[0.7019608 , 0.53333336, 0.22352943],\n         [0.7019608 , 0.53333336, 0.22352943],\n         [0.69803923, 0.5294118 , 0.22352943],\n         ...,\n         [0.54509807, 0.59607846, 0.56078434],\n         [0.54901963, 0.6       , 0.5647059 ],\n         [0.54509807, 0.59607846, 0.5686275 ]],\n\n        [[0.7176471 , 0.54901963, 0.2392157 ],\n         [0.70980394, 0.5411765 , 0.23137257],\n         [0.7019608 , 0.53333336, 0.22352943],\n         ...,\n         [0.5137255 , 0.5647059 , 0.5294118 ],\n         [0.52156866, 0.57254905, 0.5372549 ],\n         [0.5254902 , 0.5764706 , 0.54901963]],\n\n        ...,\n\n        [[0.1254902 , 0.09019608, 0.07058824],\n         [0.13725491, 0.10196079, 0.08235294],\n         [0.12941177, 0.09411766, 0.07450981],\n         ...,\n         [0.19215688, 0.16078432, 0.11764707],\n         [0.19215688, 0.16078432, 0.11764707],\n         [0.18431373, 0.15294118, 0.10980393]],\n\n        [[0.1254902 , 0.09019608, 0.07058824],\n         [0.13725491, 0.10196079, 0.08235294],\n         [0.12941177, 0.09411766, 0.07450981],\n         ...,\n         [0.18039216, 0.14901961, 0.10588236],\n         [0.18431373, 0.15294118, 0.10980393],\n         [0.18823531, 0.15686275, 0.1137255 ]],\n\n        [[0.12941177, 0.09411766, 0.07450981],\n         [0.14117648, 0.10588236, 0.08627451],\n         [0.13333334, 0.09803922, 0.07843138],\n         ...,\n         [0.18039216, 0.14901961, 0.10588236],\n         [0.18039216, 0.14901961, 0.10588236],\n         [0.18039216, 0.14901961, 0.10588236]]],\n\n\n       [[[0.9686275 , 0.9843138 , 0.9960785 ],\n         [0.96470594, 0.9803922 , 0.9921569 ],\n         [0.96470594, 0.9803922 , 0.9921569 ],\n         ...,\n         [0.427451  , 0.37254903, 0.36862746],\n         [0.43137258, 0.37647063, 0.37254903],\n         [0.4431373 , 0.38823533, 0.38431376]],\n\n        [[0.9686275 , 0.9843138 , 0.9960785 ],\n         [0.9686275 , 0.9843138 , 0.9960785 ],\n         [0.9686275 , 0.9843138 , 0.9960785 ],\n         ...,\n         [0.43137258, 0.37647063, 0.37254903],\n         [0.43529415, 0.3803922 , 0.37647063],\n         [0.43921572, 0.38431376, 0.3803922 ]],\n\n        [[0.9725491 , 0.98823535, 1.        ],\n         [0.9725491 , 0.98823535, 1.        ],\n         [0.9725491 , 0.98823535, 1.        ],\n         ...,\n         [0.41960788, 0.37647063, 0.36862746],\n         [0.43529415, 0.3803922 , 0.37647063],\n         [0.43137258, 0.37647063, 0.37254903]],\n\n        ...,\n\n        [[0.87843144, 0.43137258, 0.427451  ],\n         [0.87843144, 0.42352945, 0.42352945],\n         [0.91372555, 0.4431373 , 0.45098042],\n         ...,\n         [0.62352943, 0.62352943, 0.654902  ],\n         [0.6392157 , 0.627451  , 0.67058825],\n         [0.6392157 , 0.627451  , 0.67058825]],\n\n        [[0.909804  , 0.38431376, 0.3803922 ],\n         [0.909804  , 0.37647063, 0.37647063],\n         [0.94117653, 0.3921569 , 0.39607847],\n         ...,\n         [0.6313726 , 0.6313726 , 0.6627451 ],\n         [0.6392157 , 0.627451  , 0.67058825],\n         [0.6431373 , 0.6313726 , 0.6745098 ]],\n\n        [[0.9450981 , 0.3803922 , 0.37647063],\n         [0.94117653, 0.36862746, 0.36862746],\n         [0.96470594, 0.3647059 , 0.37254903],\n         ...,\n         [0.6313726 , 0.6313726 , 0.6627451 ],\n         [0.6431373 , 0.6313726 , 0.6745098 ],\n         [0.6509804 , 0.6392157 , 0.68235296]]],\n\n\n       [[[0.87843144, 0.8431373 , 0.7843138 ],\n         [0.90196085, 0.86666673, 0.8078432 ],\n         [0.89019614, 0.854902  , 0.7960785 ],\n         ...,\n         [0.8313726 , 0.81568635, 0.7803922 ],\n         [0.8352942 , 0.8196079 , 0.7843138 ],\n         [0.8313726 , 0.81568635, 0.7803922 ]],\n\n        [[0.90196085, 0.86666673, 0.8078432 ],\n         [0.9058824 , 0.8705883 , 0.8117648 ],\n         [0.8862746 , 0.85098046, 0.79215693],\n         ...,\n         [0.8313726 , 0.81568635, 0.7803922 ],\n         [0.8352942 , 0.8196079 , 0.7843138 ],\n         [0.83921576, 0.8235295 , 0.78823537]],\n\n        [[0.91372555, 0.87843144, 0.8196079 ],\n         [0.909804  , 0.8745099 , 0.81568635],\n         [0.8941177 , 0.8588236 , 0.8000001 ],\n         ...,\n         [0.8313726 , 0.81568635, 0.7803922 ],\n         [0.8313726 , 0.81568635, 0.7803922 ],\n         [0.8313726 , 0.81568635, 0.7803922 ]],\n\n        ...,\n\n        [[0.5254902 , 0.49411768, 0.4431373 ],\n         [0.5686275 , 0.5372549 , 0.48627454],\n         [0.53333336, 0.5019608 , 0.45098042],\n         ...,\n         [0.7176471 , 0.6862745 , 0.6784314 ],\n         [1.        , 0.97647065, 0.9686275 ],\n         [0.9333334 , 0.91372555, 0.90196085]],\n\n        [[0.56078434, 0.5294118 , 0.4784314 ],\n         [0.5294118 , 0.49803925, 0.44705886],\n         [0.4901961 , 0.45882356, 0.40784317],\n         ...,\n         [0.93725497, 0.9058824 , 0.8980393 ],\n         [0.9333334 , 0.90196085, 0.8941177 ],\n         [0.87843144, 0.8588236 , 0.8470589 ]],\n\n        [[0.56078434, 0.5294118 , 0.4784314 ],\n         [0.5176471 , 0.48627454, 0.43529415],\n         [0.49803925, 0.4666667 , 0.4156863 ],\n         ...,\n         [0.85098046, 0.8313726 , 0.8196079 ],\n         [0.90196085, 0.882353  , 0.8705883 ],\n         [0.83921576, 0.8196079 , 0.8078432 ]]]], dtype=float32))"
     ]
    }
   ],
   "source": [
    "model.compile(\n",
    "  optimizer='adam',\n",
    "  loss=tf.keras.losses.SparseCategoricalCrossentropy(from_logits=True),\n",
    "  metrics=['accuracy'])\n",
    "model.fit(\n",
    "  dataflow,\n",
    "  # validation_data=val_ds,\n",
    "  steps_per_epoch=1240,\n",
    "  epochs=1,\n",
    ")"
   ]
  },
  {
   "cell_type": "code",
   "execution_count": 5,
   "metadata": {},
   "outputs": [
    {
     "name": "stdout",
     "output_type": "stream",
     "text": [
      "\n",
      "Start of Epoch 1/10\n"
     ]
    },
    {
     "name": "stdout",
     "output_type": "stream",
     "text": [
      "WARNING:tensorflow:Entity <bound method SimpleCNN_b.call of <__main__.SimpleCNN_b object at 0x00000205FFE14688>> could not be transformed and will be executed as-is. Please report this to the AutgoGraph team. When filing the bug, set the verbosity to 10 (on Linux, `export AUTOGRAPH_VERBOSITY=10`) and attach the full output. Cause: converting <bound method SimpleCNN_b.call of <__main__.SimpleCNN_b object at 0x00000205FFE14688>>: AttributeError: module 'gast' has no attribute 'Str'\n",
      "WARNING: Entity <bound method SimpleCNN_b.call of <__main__.SimpleCNN_b object at 0x00000205FFE14688>> could not be transformed and will be executed as-is. Please report this to the AutgoGraph team. When filing the bug, set the verbosity to 10 (on Linux, `export AUTOGRAPH_VERBOSITY=10`) and attach the full output. Cause: converting <bound method SimpleCNN_b.call of <__main__.SimpleCNN_b object at 0x00000205FFE14688>>: AttributeError: module 'gast' has no attribute 'Str'\n",
      "Seen so far: 0 samples\n",
      "WARNING:tensorflow:Entity <bound method SimpleCNN_b.call of <__main__.SimpleCNN_b object at 0x00000205FFE14688>> could not be transformed and will be executed as-is. Please report this to the AutgoGraph team. When filing the bug, set the verbosity to 10 (on Linux, `export AUTOGRAPH_VERBOSITY=10`) and attach the full output. Cause: converting <bound method SimpleCNN_b.call of <__main__.SimpleCNN_b object at 0x00000205FFE14688>>: AttributeError: module 'gast' has no attribute 'Str'\n",
      "WARNING: Entity <bound method SimpleCNN_b.call of <__main__.SimpleCNN_b object at 0x00000205FFE14688>> could not be transformed and will be executed as-is. Please report this to the AutgoGraph team. When filing the bug, set the verbosity to 10 (on Linux, `export AUTOGRAPH_VERBOSITY=10`) and attach the full output. Cause: converting <bound method SimpleCNN_b.call of <__main__.SimpleCNN_b object at 0x00000205FFE14688>>: AttributeError: module 'gast' has no attribute 'Str'\n",
      "WARNING:tensorflow:Entity <bound method SimpleCNN_b.call of <__main__.SimpleCNN_b object at 0x00000205FFE14688>> could not be transformed and will be executed as-is. Please report this to the AutgoGraph team. When filing the bug, set the verbosity to 10 (on Linux, `export AUTOGRAPH_VERBOSITY=10`) and attach the full output. Cause: converting <bound method SimpleCNN_b.call of <__main__.SimpleCNN_b object at 0x00000205FFE14688>>: AttributeError: module 'gast' has no attribute 'Str'\n",
      "WARNING: Entity <bound method SimpleCNN_b.call of <__main__.SimpleCNN_b object at 0x00000205FFE14688>> could not be transformed and will be executed as-is. Please report this to the AutgoGraph team. When filing the bug, set the verbosity to 10 (on Linux, `export AUTOGRAPH_VERBOSITY=10`) and attach the full output. Cause: converting <bound method SimpleCNN_b.call of <__main__.SimpleCNN_b object at 0x00000205FFE14688>>: AttributeError: module 'gast' has no attribute 'Str'\n",
      "WARNING:tensorflow:Entity <bound method SimpleCNN_b.call of <__main__.SimpleCNN_b object at 0x00000205FFE14688>> could not be transformed and will be executed as-is. Please report this to the AutgoGraph team. When filing the bug, set the verbosity to 10 (on Linux, `export AUTOGRAPH_VERBOSITY=10`) and attach the full output. Cause: converting <bound method SimpleCNN_b.call of <__main__.SimpleCNN_b object at 0x00000205FFE14688>>: AttributeError: module 'gast' has no attribute 'Str'\n",
      "WARNING: Entity <bound method SimpleCNN_b.call of <__main__.SimpleCNN_b object at 0x00000205FFE14688>> could not be transformed and will be executed as-is. Please report this to the AutgoGraph team. When filing the bug, set the verbosity to 10 (on Linux, `export AUTOGRAPH_VERBOSITY=10`) and attach the full output. Cause: converting <bound method SimpleCNN_b.call of <__main__.SimpleCNN_b object at 0x00000205FFE14688>>: AttributeError: module 'gast' has no attribute 'Str'\n",
      "WARNING:tensorflow:Entity <bound method SimpleCNN_b.call of <__main__.SimpleCNN_b object at 0x00000205FFE14688>> could not be transformed and will be executed as-is. Please report this to the AutgoGraph team. When filing the bug, set the verbosity to 10 (on Linux, `export AUTOGRAPH_VERBOSITY=10`) and attach the full output. Cause: converting <bound method SimpleCNN_b.call of <__main__.SimpleCNN_b object at 0x00000205FFE14688>>: AttributeError: module 'gast' has no attribute 'Str'\n",
      "WARNING: Entity <bound method SimpleCNN_b.call of <__main__.SimpleCNN_b object at 0x00000205FFE14688>> could not be transformed and will be executed as-is. Please report this to the AutgoGraph team. When filing the bug, set the verbosity to 10 (on Linux, `export AUTOGRAPH_VERBOSITY=10`) and attach the full output. Cause: converting <bound method SimpleCNN_b.call of <__main__.SimpleCNN_b object at 0x00000205FFE14688>>: AttributeError: module 'gast' has no attribute 'Str'\n",
      "WARNING:tensorflow:Entity <bound method SimpleCNN_b.call of <__main__.SimpleCNN_b object at 0x00000205FFE14688>> could not be transformed and will be executed as-is. Please report this to the AutgoGraph team. When filing the bug, set the verbosity to 10 (on Linux, `export AUTOGRAPH_VERBOSITY=10`) and attach the full output. Cause: converting <bound method SimpleCNN_b.call of <__main__.SimpleCNN_b object at 0x00000205FFE14688>>: AttributeError: module 'gast' has no attribute 'Str'\n",
      "WARNING: Entity <bound method SimpleCNN_b.call of <__main__.SimpleCNN_b object at 0x00000205FFE14688>> could not be transformed and will be executed as-is. Please report this to the AutgoGraph team. When filing the bug, set the verbosity to 10 (on Linux, `export AUTOGRAPH_VERBOSITY=10`) and attach the full output. Cause: converting <bound method SimpleCNN_b.call of <__main__.SimpleCNN_b object at 0x00000205FFE14688>>: AttributeError: module 'gast' has no attribute 'Str'\n",
      "WARNING:tensorflow:Entity <bound method SimpleCNN_b.call of <__main__.SimpleCNN_b object at 0x00000205FFE14688>> could not be transformed and will be executed as-is. Please report this to the AutgoGraph team. When filing the bug, set the verbosity to 10 (on Linux, `export AUTOGRAPH_VERBOSITY=10`) and attach the full output. Cause: converting <bound method SimpleCNN_b.call of <__main__.SimpleCNN_b object at 0x00000205FFE14688>>: AttributeError: module 'gast' has no attribute 'Str'\n",
      "WARNING: Entity <bound method SimpleCNN_b.call of <__main__.SimpleCNN_b object at 0x00000205FFE14688>> could not be transformed and will be executed as-is. Please report this to the AutgoGraph team. When filing the bug, set the verbosity to 10 (on Linux, `export AUTOGRAPH_VERBOSITY=10`) and attach the full output. Cause: converting <bound method SimpleCNN_b.call of <__main__.SimpleCNN_b object at 0x00000205FFE14688>>: AttributeError: module 'gast' has no attribute 'Str'\n",
      "WARNING:tensorflow:Entity <bound method SimpleCNN_b.call of <__main__.SimpleCNN_b object at 0x00000205FFE14688>> could not be transformed and will be executed as-is. Please report this to the AutgoGraph team. When filing the bug, set the verbosity to 10 (on Linux, `export AUTOGRAPH_VERBOSITY=10`) and attach the full output. Cause: converting <bound method SimpleCNN_b.call of <__main__.SimpleCNN_b object at 0x00000205FFE14688>>: AttributeError: module 'gast' has no attribute 'Str'\n",
      "WARNING: Entity <bound method SimpleCNN_b.call of <__main__.SimpleCNN_b object at 0x00000205FFE14688>> could not be transformed and will be executed as-is. Please report this to the AutgoGraph team. When filing the bug, set the verbosity to 10 (on Linux, `export AUTOGRAPH_VERBOSITY=10`) and attach the full output. Cause: converting <bound method SimpleCNN_b.call of <__main__.SimpleCNN_b object at 0x00000205FFE14688>>: AttributeError: module 'gast' has no attribute 'Str'\n"
     ]
    },
    {
     "ename": "KeyboardInterrupt",
     "evalue": "",
     "output_type": "error",
     "traceback": [
      "\u001b[1;31m---------------------------------------------------------------------------\u001b[0m",
      "\u001b[1;31mKeyboardInterrupt\u001b[0m                         Traceback (most recent call last)",
      "\u001b[1;32m~\\AppData\\Local\\Temp\\ipykernel_29264\\1747275142.py\u001b[0m in \u001b[0;36m<module>\u001b[1;34m\u001b[0m\n\u001b[0;32m     45\u001b[0m             \u001b[0mval_acc_metric\u001b[0m\u001b[1;33m.\u001b[0m\u001b[0mreset_states\u001b[0m\u001b[1;33m(\u001b[0m\u001b[1;33m)\u001b[0m\u001b[1;33m\u001b[0m\u001b[1;33m\u001b[0m\u001b[0m\n\u001b[0;32m     46\u001b[0m             \u001b[0mprint\u001b[0m\u001b[1;33m(\u001b[0m\u001b[1;34mf\"Validation acc: {val_acc:.4f}\"\u001b[0m\u001b[1;33m)\u001b[0m\u001b[1;33m\u001b[0m\u001b[1;33m\u001b[0m\u001b[0m\n\u001b[1;32m---> 47\u001b[1;33m \u001b[0mtrain_model\u001b[0m\u001b[1;33m(\u001b[0m\u001b[0mmodel\u001b[0m\u001b[1;33m,\u001b[0m \u001b[0mdata_flow\u001b[0m\u001b[1;33m,\u001b[0m \u001b[0mepochs\u001b[0m\u001b[1;33m=\u001b[0m\u001b[1;36m10\u001b[0m\u001b[1;33m,\u001b[0m \u001b[0mlearning_rate\u001b[0m\u001b[1;33m=\u001b[0m\u001b[1;36m0.001\u001b[0m\u001b[1;33m)\u001b[0m\u001b[1;33m\u001b[0m\u001b[1;33m\u001b[0m\u001b[0m\n\u001b[0m",
      "\u001b[1;32m~\\AppData\\Local\\Temp\\ipykernel_29264\\1747275142.py\u001b[0m in \u001b[0;36mtrain_model\u001b[1;34m(model, train_generator, val_generator, epochs, learning_rate)\u001b[0m\n\u001b[0;32m     17\u001b[0m         \u001b[1;32mfor\u001b[0m \u001b[0mstep\u001b[0m\u001b[1;33m,\u001b[0m \u001b[1;33m(\u001b[0m\u001b[0mx_batch_train\u001b[0m\u001b[1;33m,\u001b[0m \u001b[0my_batch_train\u001b[0m\u001b[1;33m)\u001b[0m \u001b[1;32min\u001b[0m \u001b[0menumerate\u001b[0m\u001b[1;33m(\u001b[0m\u001b[0mtrain_generator\u001b[0m\u001b[1;33m)\u001b[0m\u001b[1;33m:\u001b[0m\u001b[1;33m\u001b[0m\u001b[1;33m\u001b[0m\u001b[0m\n\u001b[0;32m     18\u001b[0m             \u001b[1;32mwith\u001b[0m \u001b[0mtf\u001b[0m\u001b[1;33m.\u001b[0m\u001b[0mGradientTape\u001b[0m\u001b[1;33m(\u001b[0m\u001b[1;33m)\u001b[0m \u001b[1;32mas\u001b[0m \u001b[0mtape\u001b[0m\u001b[1;33m:\u001b[0m\u001b[1;33m\u001b[0m\u001b[1;33m\u001b[0m\u001b[0m\n\u001b[1;32m---> 19\u001b[1;33m                 \u001b[0mlogits\u001b[0m \u001b[1;33m=\u001b[0m \u001b[0mmodel\u001b[0m\u001b[1;33m(\u001b[0m\u001b[0mx_batch_train\u001b[0m\u001b[1;33m)\u001b[0m  \u001b[1;31m# Logits for this minibatch\u001b[0m\u001b[1;33m\u001b[0m\u001b[1;33m\u001b[0m\u001b[0m\n\u001b[0m\u001b[0;32m     20\u001b[0m                 \u001b[0mloss_value\u001b[0m \u001b[1;33m=\u001b[0m \u001b[0mloss_fn\u001b[0m\u001b[1;33m(\u001b[0m\u001b[0my_batch_train\u001b[0m\u001b[1;33m,\u001b[0m \u001b[0mlogits\u001b[0m\u001b[1;33m)\u001b[0m\u001b[1;33m\u001b[0m\u001b[1;33m\u001b[0m\u001b[0m\n\u001b[0;32m     21\u001b[0m \u001b[1;33m\u001b[0m\u001b[0m\n",
      "\u001b[1;32mc:\\Users\\User\\anaconda3\\envs\\tf37\\lib\\site-packages\\tensorflow\\python\\keras\\engine\\base_layer.py\u001b[0m in \u001b[0;36m__call__\u001b[1;34m(self, inputs, *args, **kwargs)\u001b[0m\n\u001b[0;32m    545\u001b[0m         \u001b[1;32mreturn\u001b[0m \u001b[0mx\u001b[0m\u001b[1;33m\u001b[0m\u001b[1;33m\u001b[0m\u001b[0m\n\u001b[0;32m    546\u001b[0m \u001b[1;33m\u001b[0m\u001b[0m\n\u001b[1;32m--> 547\u001b[1;33m       \u001b[0minputs\u001b[0m \u001b[1;33m=\u001b[0m \u001b[0mnest\u001b[0m\u001b[1;33m.\u001b[0m\u001b[0mmap_structure\u001b[0m\u001b[1;33m(\u001b[0m\u001b[0m_convert_non_tensor\u001b[0m\u001b[1;33m,\u001b[0m \u001b[0minputs\u001b[0m\u001b[1;33m)\u001b[0m\u001b[1;33m\u001b[0m\u001b[1;33m\u001b[0m\u001b[0m\n\u001b[0m\u001b[0;32m    548\u001b[0m       \u001b[0minput_list\u001b[0m \u001b[1;33m=\u001b[0m \u001b[0mnest\u001b[0m\u001b[1;33m.\u001b[0m\u001b[0mflatten\u001b[0m\u001b[1;33m(\u001b[0m\u001b[0minputs\u001b[0m\u001b[1;33m)\u001b[0m\u001b[1;33m\u001b[0m\u001b[1;33m\u001b[0m\u001b[0m\n\u001b[0;32m    549\u001b[0m \u001b[1;33m\u001b[0m\u001b[0m\n",
      "\u001b[1;32mc:\\Users\\User\\anaconda3\\envs\\tf37\\lib\\site-packages\\tensorflow\\python\\util\\nest.py\u001b[0m in \u001b[0;36mmap_structure\u001b[1;34m(func, *structure, **kwargs)\u001b[0m\n\u001b[0;32m    513\u001b[0m \u001b[1;33m\u001b[0m\u001b[0m\n\u001b[0;32m    514\u001b[0m   return pack_sequence_as(\n\u001b[1;32m--> 515\u001b[1;33m       \u001b[0mstructure\u001b[0m\u001b[1;33m[\u001b[0m\u001b[1;36m0\u001b[0m\u001b[1;33m]\u001b[0m\u001b[1;33m,\u001b[0m \u001b[1;33m[\u001b[0m\u001b[0mfunc\u001b[0m\u001b[1;33m(\u001b[0m\u001b[1;33m*\u001b[0m\u001b[0mx\u001b[0m\u001b[1;33m)\u001b[0m \u001b[1;32mfor\u001b[0m \u001b[0mx\u001b[0m \u001b[1;32min\u001b[0m \u001b[0mentries\u001b[0m\u001b[1;33m]\u001b[0m\u001b[1;33m,\u001b[0m\u001b[1;33m\u001b[0m\u001b[1;33m\u001b[0m\u001b[0m\n\u001b[0m\u001b[0;32m    516\u001b[0m       expand_composites=expand_composites)\n\u001b[0;32m    517\u001b[0m \u001b[1;33m\u001b[0m\u001b[0m\n",
      "\u001b[1;32mc:\\Users\\User\\anaconda3\\envs\\tf37\\lib\\site-packages\\tensorflow\\python\\util\\nest.py\u001b[0m in \u001b[0;36m<listcomp>\u001b[1;34m(.0)\u001b[0m\n\u001b[0;32m    513\u001b[0m \u001b[1;33m\u001b[0m\u001b[0m\n\u001b[0;32m    514\u001b[0m   return pack_sequence_as(\n\u001b[1;32m--> 515\u001b[1;33m       \u001b[0mstructure\u001b[0m\u001b[1;33m[\u001b[0m\u001b[1;36m0\u001b[0m\u001b[1;33m]\u001b[0m\u001b[1;33m,\u001b[0m \u001b[1;33m[\u001b[0m\u001b[0mfunc\u001b[0m\u001b[1;33m(\u001b[0m\u001b[1;33m*\u001b[0m\u001b[0mx\u001b[0m\u001b[1;33m)\u001b[0m \u001b[1;32mfor\u001b[0m \u001b[0mx\u001b[0m \u001b[1;32min\u001b[0m \u001b[0mentries\u001b[0m\u001b[1;33m]\u001b[0m\u001b[1;33m,\u001b[0m\u001b[1;33m\u001b[0m\u001b[1;33m\u001b[0m\u001b[0m\n\u001b[0m\u001b[0;32m    516\u001b[0m       expand_composites=expand_composites)\n\u001b[0;32m    517\u001b[0m \u001b[1;33m\u001b[0m\u001b[0m\n",
      "\u001b[1;32mc:\\Users\\User\\anaconda3\\envs\\tf37\\lib\\site-packages\\tensorflow\\python\\keras\\engine\\base_layer.py\u001b[0m in \u001b[0;36m_convert_non_tensor\u001b[1;34m(x)\u001b[0m\n\u001b[0;32m    542\u001b[0m       \u001b[1;32mdef\u001b[0m \u001b[0m_convert_non_tensor\u001b[0m\u001b[1;33m(\u001b[0m\u001b[0mx\u001b[0m\u001b[1;33m)\u001b[0m\u001b[1;33m:\u001b[0m\u001b[1;33m\u001b[0m\u001b[1;33m\u001b[0m\u001b[0m\n\u001b[0;32m    543\u001b[0m         \u001b[1;32mif\u001b[0m \u001b[0misinstance\u001b[0m\u001b[1;33m(\u001b[0m\u001b[0mx\u001b[0m\u001b[1;33m,\u001b[0m \u001b[1;33m(\u001b[0m\u001b[0mnp\u001b[0m\u001b[1;33m.\u001b[0m\u001b[0mndarray\u001b[0m\u001b[1;33m,\u001b[0m \u001b[0mfloat\u001b[0m\u001b[1;33m,\u001b[0m \u001b[0mint\u001b[0m\u001b[1;33m)\u001b[0m\u001b[1;33m)\u001b[0m\u001b[1;33m:\u001b[0m\u001b[1;33m\u001b[0m\u001b[1;33m\u001b[0m\u001b[0m\n\u001b[1;32m--> 544\u001b[1;33m           \u001b[1;32mreturn\u001b[0m \u001b[0mops\u001b[0m\u001b[1;33m.\u001b[0m\u001b[0mconvert_to_tensor\u001b[0m\u001b[1;33m(\u001b[0m\u001b[0mx\u001b[0m\u001b[1;33m)\u001b[0m\u001b[1;33m\u001b[0m\u001b[1;33m\u001b[0m\u001b[0m\n\u001b[0m\u001b[0;32m    545\u001b[0m         \u001b[1;32mreturn\u001b[0m \u001b[0mx\u001b[0m\u001b[1;33m\u001b[0m\u001b[1;33m\u001b[0m\u001b[0m\n\u001b[0;32m    546\u001b[0m \u001b[1;33m\u001b[0m\u001b[0m\n",
      "\u001b[1;32mc:\\Users\\User\\anaconda3\\envs\\tf37\\lib\\site-packages\\tensorflow\\python\\framework\\ops.py\u001b[0m in \u001b[0;36mconvert_to_tensor\u001b[1;34m(value, dtype, name, preferred_dtype, dtype_hint)\u001b[0m\n\u001b[0;32m   1085\u001b[0m   preferred_dtype = deprecation.deprecated_argument_lookup(\n\u001b[0;32m   1086\u001b[0m       \"dtype_hint\", dtype_hint, \"preferred_dtype\", preferred_dtype)\n\u001b[1;32m-> 1087\u001b[1;33m   \u001b[1;32mreturn\u001b[0m \u001b[0mconvert_to_tensor_v2\u001b[0m\u001b[1;33m(\u001b[0m\u001b[0mvalue\u001b[0m\u001b[1;33m,\u001b[0m \u001b[0mdtype\u001b[0m\u001b[1;33m,\u001b[0m \u001b[0mpreferred_dtype\u001b[0m\u001b[1;33m,\u001b[0m \u001b[0mname\u001b[0m\u001b[1;33m)\u001b[0m\u001b[1;33m\u001b[0m\u001b[1;33m\u001b[0m\u001b[0m\n\u001b[0m\u001b[0;32m   1088\u001b[0m \u001b[1;33m\u001b[0m\u001b[0m\n\u001b[0;32m   1089\u001b[0m \u001b[1;33m\u001b[0m\u001b[0m\n",
      "\u001b[1;32mc:\\Users\\User\\anaconda3\\envs\\tf37\\lib\\site-packages\\tensorflow\\python\\framework\\ops.py\u001b[0m in \u001b[0;36mconvert_to_tensor_v2\u001b[1;34m(value, dtype, dtype_hint, name)\u001b[0m\n\u001b[0;32m   1143\u001b[0m       \u001b[0mname\u001b[0m\u001b[1;33m=\u001b[0m\u001b[0mname\u001b[0m\u001b[1;33m,\u001b[0m\u001b[1;33m\u001b[0m\u001b[1;33m\u001b[0m\u001b[0m\n\u001b[0;32m   1144\u001b[0m       \u001b[0mpreferred_dtype\u001b[0m\u001b[1;33m=\u001b[0m\u001b[0mdtype_hint\u001b[0m\u001b[1;33m,\u001b[0m\u001b[1;33m\u001b[0m\u001b[1;33m\u001b[0m\u001b[0m\n\u001b[1;32m-> 1145\u001b[1;33m       as_ref=False)\n\u001b[0m\u001b[0;32m   1146\u001b[0m \u001b[1;33m\u001b[0m\u001b[0m\n\u001b[0;32m   1147\u001b[0m \u001b[1;33m\u001b[0m\u001b[0m\n",
      "\u001b[1;32mc:\\Users\\User\\anaconda3\\envs\\tf37\\lib\\site-packages\\tensorflow\\python\\framework\\ops.py\u001b[0m in \u001b[0;36minternal_convert_to_tensor\u001b[1;34m(value, dtype, name, as_ref, preferred_dtype, ctx, accept_symbolic_tensors, accept_composite_tensors)\u001b[0m\n\u001b[0;32m   1222\u001b[0m \u001b[1;33m\u001b[0m\u001b[0m\n\u001b[0;32m   1223\u001b[0m     \u001b[1;32mif\u001b[0m \u001b[0mret\u001b[0m \u001b[1;32mis\u001b[0m \u001b[1;32mNone\u001b[0m\u001b[1;33m:\u001b[0m\u001b[1;33m\u001b[0m\u001b[1;33m\u001b[0m\u001b[0m\n\u001b[1;32m-> 1224\u001b[1;33m       \u001b[0mret\u001b[0m \u001b[1;33m=\u001b[0m \u001b[0mconversion_func\u001b[0m\u001b[1;33m(\u001b[0m\u001b[0mvalue\u001b[0m\u001b[1;33m,\u001b[0m \u001b[0mdtype\u001b[0m\u001b[1;33m=\u001b[0m\u001b[0mdtype\u001b[0m\u001b[1;33m,\u001b[0m \u001b[0mname\u001b[0m\u001b[1;33m=\u001b[0m\u001b[0mname\u001b[0m\u001b[1;33m,\u001b[0m \u001b[0mas_ref\u001b[0m\u001b[1;33m=\u001b[0m\u001b[0mas_ref\u001b[0m\u001b[1;33m)\u001b[0m\u001b[1;33m\u001b[0m\u001b[1;33m\u001b[0m\u001b[0m\n\u001b[0m\u001b[0;32m   1225\u001b[0m \u001b[1;33m\u001b[0m\u001b[0m\n\u001b[0;32m   1226\u001b[0m     \u001b[1;32mif\u001b[0m \u001b[0mret\u001b[0m \u001b[1;32mis\u001b[0m \u001b[0mNotImplemented\u001b[0m\u001b[1;33m:\u001b[0m\u001b[1;33m\u001b[0m\u001b[1;33m\u001b[0m\u001b[0m\n",
      "\u001b[1;32mc:\\Users\\User\\anaconda3\\envs\\tf37\\lib\\site-packages\\tensorflow\\python\\framework\\constant_op.py\u001b[0m in \u001b[0;36m_constant_tensor_conversion_function\u001b[1;34m(v, dtype, name, as_ref)\u001b[0m\n\u001b[0;32m    303\u001b[0m                                          as_ref=False):\n\u001b[0;32m    304\u001b[0m   \u001b[0m_\u001b[0m \u001b[1;33m=\u001b[0m \u001b[0mas_ref\u001b[0m\u001b[1;33m\u001b[0m\u001b[1;33m\u001b[0m\u001b[0m\n\u001b[1;32m--> 305\u001b[1;33m   \u001b[1;32mreturn\u001b[0m \u001b[0mconstant\u001b[0m\u001b[1;33m(\u001b[0m\u001b[0mv\u001b[0m\u001b[1;33m,\u001b[0m \u001b[0mdtype\u001b[0m\u001b[1;33m=\u001b[0m\u001b[0mdtype\u001b[0m\u001b[1;33m,\u001b[0m \u001b[0mname\u001b[0m\u001b[1;33m=\u001b[0m\u001b[0mname\u001b[0m\u001b[1;33m)\u001b[0m\u001b[1;33m\u001b[0m\u001b[1;33m\u001b[0m\u001b[0m\n\u001b[0m\u001b[0;32m    306\u001b[0m \u001b[1;33m\u001b[0m\u001b[0m\n\u001b[0;32m    307\u001b[0m \u001b[1;33m\u001b[0m\u001b[0m\n",
      "\u001b[1;32mc:\\Users\\User\\anaconda3\\envs\\tf37\\lib\\site-packages\\tensorflow\\python\\framework\\constant_op.py\u001b[0m in \u001b[0;36mconstant\u001b[1;34m(value, dtype, shape, name)\u001b[0m\n\u001b[0;32m    244\u001b[0m   \"\"\"\n\u001b[0;32m    245\u001b[0m   return _constant_impl(value, dtype, shape, name, verify_shape=False,\n\u001b[1;32m--> 246\u001b[1;33m                         allow_broadcast=True)\n\u001b[0m\u001b[0;32m    247\u001b[0m \u001b[1;33m\u001b[0m\u001b[0m\n\u001b[0;32m    248\u001b[0m \u001b[1;33m\u001b[0m\u001b[0m\n",
      "\u001b[1;32mc:\\Users\\User\\anaconda3\\envs\\tf37\\lib\\site-packages\\tensorflow\\python\\framework\\constant_op.py\u001b[0m in \u001b[0;36m_constant_impl\u001b[1;34m(value, dtype, shape, name, verify_shape, allow_broadcast)\u001b[0m\n\u001b[0;32m    282\u001b[0m       tensor_util.make_tensor_proto(\n\u001b[0;32m    283\u001b[0m           \u001b[0mvalue\u001b[0m\u001b[1;33m,\u001b[0m \u001b[0mdtype\u001b[0m\u001b[1;33m=\u001b[0m\u001b[0mdtype\u001b[0m\u001b[1;33m,\u001b[0m \u001b[0mshape\u001b[0m\u001b[1;33m=\u001b[0m\u001b[0mshape\u001b[0m\u001b[1;33m,\u001b[0m \u001b[0mverify_shape\u001b[0m\u001b[1;33m=\u001b[0m\u001b[0mverify_shape\u001b[0m\u001b[1;33m,\u001b[0m\u001b[1;33m\u001b[0m\u001b[1;33m\u001b[0m\u001b[0m\n\u001b[1;32m--> 284\u001b[1;33m           allow_broadcast=allow_broadcast))\n\u001b[0m\u001b[0;32m    285\u001b[0m   \u001b[0mdtype_value\u001b[0m \u001b[1;33m=\u001b[0m \u001b[0mattr_value_pb2\u001b[0m\u001b[1;33m.\u001b[0m\u001b[0mAttrValue\u001b[0m\u001b[1;33m(\u001b[0m\u001b[0mtype\u001b[0m\u001b[1;33m=\u001b[0m\u001b[0mtensor_value\u001b[0m\u001b[1;33m.\u001b[0m\u001b[0mtensor\u001b[0m\u001b[1;33m.\u001b[0m\u001b[0mdtype\u001b[0m\u001b[1;33m)\u001b[0m\u001b[1;33m\u001b[0m\u001b[1;33m\u001b[0m\u001b[0m\n\u001b[0;32m    286\u001b[0m   const_tensor = g.create_op(\n",
      "\u001b[1;31mKeyboardInterrupt\u001b[0m: "
     ]
    }
   ],
   "source": [
    "\n",
    "model.compile(\n",
    "    optimizer='adam',\n",
    "    loss='sparse_categorical_crossentropy',\n",
    "    metrics=['accuracy']\n",
    ")\n",
    "train_model(model, data_flow, epochs=10, learning_rate=0.001)"
   ]
  },
  {
   "cell_type": "code",
   "execution_count": 8,
   "metadata": {},
   "outputs": [
    {
     "name": "stdout",
     "output_type": "stream",
     "text": [
      "Collecting pillow\n",
      "  Downloading Pillow-9.5.0-cp37-cp37m-win_amd64.whl (2.5 MB)\n",
      "     ---------------------------------------- 2.5/2.5 MB 2.2 MB/s eta 0:00:00\n",
      "Installing collected packages: pillow\n",
      "Successfully installed pillow-9.5.0\n"
     ]
    }
   ],
   "source": [
    "!pip install pillow"
   ]
  },
  {
   "cell_type": "code",
   "execution_count": 2,
   "metadata": {},
   "outputs": [],
   "source": [
    "import tensorflow as tf\n",
    "from datetime import datetime\n",
    "import os\n",
    "\n",
    "def pprint(output='\\n', show_time=False):\n",
    "    filename = \"hw3-APR18.txt\"\n",
    "    print(output)\n",
    "    with open(filename, 'a') as f:\n",
    "        if show_time:\n",
    "            f.write(datetime.now().strftime(\"[%Y-%m-%d %H:%M:%S] \"))\n",
    "        f.write(str(output))\n",
    "        f.write('\\n')\n"
   ]
  },
  {
   "cell_type": "code",
   "execution_count": 4,
   "metadata": {},
   "outputs": [
    {
     "ename": "NameError",
     "evalue": "name 'data_loaders' is not defined",
     "output_type": "error",
     "traceback": [
      "\u001b[1;31m---------------------------------------------------------------------------\u001b[0m",
      "\u001b[1;31mNameError\u001b[0m                                 Traceback (most recent call last)",
      "\u001b[1;32m~\\AppData\\Local\\Temp\\ipykernel_27848\\3833886029.py\u001b[0m in \u001b[0;36m<module>\u001b[1;34m\u001b[0m\n\u001b[0;32m     93\u001b[0m     \u001b[0mmodel_name\u001b[0m \u001b[1;33m=\u001b[0m \u001b[0mmodel_names\u001b[0m\u001b[1;33m[\u001b[0m\u001b[0mii\u001b[0m\u001b[1;33m]\u001b[0m\u001b[1;33m\u001b[0m\u001b[1;33m\u001b[0m\u001b[0m\n\u001b[0;32m     94\u001b[0m     \u001b[0mphases\u001b[0m \u001b[1;33m=\u001b[0m \u001b[1;33m[\u001b[0m\u001b[1;34m'train'\u001b[0m\u001b[1;33m,\u001b[0m \u001b[1;34m'val'\u001b[0m\u001b[1;33m]\u001b[0m\u001b[1;33m\u001b[0m\u001b[1;33m\u001b[0m\u001b[0m\n\u001b[1;32m---> 95\u001b[1;33m     \u001b[0mtrain\u001b[0m\u001b[1;33m(\u001b[0m\u001b[0mmodel_list\u001b[0m\u001b[1;33m,\u001b[0m \u001b[0mmodel_name\u001b[0m\u001b[1;33m,\u001b[0m \u001b[0mdata_loaders\u001b[0m\u001b[1;33m,\u001b[0m \u001b[1;36m4\u001b[0m\u001b[1;33m,\u001b[0m \u001b[0mphases\u001b[0m\u001b[1;33m,\u001b[0m \u001b[0mepochs\u001b[0m\u001b[1;33m=\u001b[0m\u001b[1;36m1\u001b[0m\u001b[1;33m,\u001b[0m \u001b[0msave_weight\u001b[0m\u001b[1;33m=\u001b[0m\u001b[1;32mTrue\u001b[0m\u001b[1;33m)\u001b[0m\u001b[1;33m\u001b[0m\u001b[1;33m\u001b[0m\u001b[0m\n\u001b[0m",
      "\u001b[1;31mNameError\u001b[0m: name 'data_loaders' is not defined"
     ]
    }
   ],
   "source": [
    "from tensorflow.keras.optimizers import Adam\n",
    "from tensorflow.keras.losses import SparseCategoricalCrossentropy\n",
    "from tensorflow.keras.metrics import SparseCategoricalAccuracy, TopKCategoricalAccuracy\n",
    "import time\n",
    "import numpy as np\n",
    "\n",
    "def train(model_lists, model_name, loaders, num_class, phases=['train'], epochs=20, save_weight=False):\n",
    "    model = model_lists[model_name]()\n",
    "    \n",
    "    # Adjust the model based on its name\n",
    "    if model_name in [\"resnet18\", \"mobileNet_v2\"]:\n",
    "        num_ftrs = model.output_shape[-1]  # Assuming model has been built and output shape is available\n",
    "        model.layers[-1] = tf.keras.layers.Dense(num_class, activation='softmax')\n",
    "\n",
    "    pprint(f\"Training {model_name}\", True)\n",
    "    \n",
    "    # Count parameters (sum of all trainable and non-trainable variables)\n",
    "    model_parameters_amount = np.sum([np.prod(v.shape) for v in model.trainable_variables])\n",
    "    pprint(f\"model total parameters: {model_parameters_amount:,}\")\n",
    "\n",
    "    # Define the optimizer, loss, and metrics\n",
    "    optimizer = Adam(learning_rate=0.005)\n",
    "    loss_fn = SparseCategoricalCrossentropy()\n",
    "    train_acc_metric = SparseCategoricalAccuracy()\n",
    "    top3_acc_metric = TopKCategoricalAccuracy(k=3)\n",
    "\n",
    "    pprint(f\"learning rate={0.005}\")\n",
    "    start = time.time()\n",
    "\n",
    "    # Train and validation phases\n",
    "    for epoch in range(epochs):\n",
    "        for phase in phases:\n",
    "            if phase == 'train':\n",
    "                model.trainable = True\n",
    "            else:\n",
    "                model.trainable = False\n",
    "\n",
    "            running_loss = 0.0\n",
    "            correct_predictions = 0\n",
    "            total_samples = 0\n",
    "\n",
    "            for images, labels in loaders[phase]:\n",
    "                with tf.GradientTape() as tape:\n",
    "                    logits = model(images, training=(phase == 'train'))\n",
    "                    loss = loss_fn(labels, logits)\n",
    "\n",
    "                if phase == 'train':\n",
    "                    grads = tape.gradient(loss, model.trainable_variables)\n",
    "                    optimizer.apply_gradients(zip(grads, model.trainable_variables))\n",
    "                \n",
    "                # Update metrics\n",
    "                train_acc_metric.update_state(labels, logits)\n",
    "                top3_acc_metric.update_state(labels, logits)\n",
    "                \n",
    "                running_loss += loss.numpy() * images.shape[0]\n",
    "                total_samples += images.shape[0]\n",
    "\n",
    "            avg_loss = running_loss / total_samples\n",
    "            top1_accuracy = train_acc_metric.result().numpy() * 100\n",
    "            top3_accuracy = top3_acc_metric.result().numpy() * 100\n",
    "\n",
    "            train_acc_metric.reset_states()\n",
    "            top3_acc_metric.reset_states()\n",
    "            \n",
    "            pprint(f\"Epoch [{epoch+1}/{epochs}], phase: {phase}, samples: {total_samples}, Loss: {avg_loss:.4f}, Top-1 Accuracy: {top1_accuracy:.2f}%, Top-3 Accuracy: {top3_accuracy:.2f}%\")\n",
    "    \n",
    "    duration = time.time() - start\n",
    "    pprint(f\"Elapsed time: {duration} seconds\")\n",
    "    \n",
    "    if save_weight:\n",
    "        model.save(f'{model_name}.h5')\n",
    "        pprint(f\"weight saved as: {model_name}.h5\")\n",
    "\n",
    "model_list ={\n",
    "    \"resnet18\": lambda: models.resnet18(),\n",
    "    \"mobileNet_v2\": lambda: models.mobilenet_v2(),\n",
    "    \"mod_face_a\": lambda: mod_resnet(BasicBlock, [2, 2, 0, 0], channel_num_list=[4, 16, 16, ], num_classes=4, input_channel=3),\n",
    "    \"mod_face_b\": lambda: mod_resnet(BasicBlock, [2, 2, 0, 0], channel_num_list=[4, 8, 8, ], num_classes=4, input_channel=3),\n",
    "    \"SimpleCNN_a\": lambda: SimpleCNN_a(),\n",
    "    \"SimpleCNN_b\": lambda: SimpleCNN_b(),\n",
    "}\n",
    "model_names = [\n",
    "\n",
    "    # \"resnet18\", # 11,178,051\n",
    "    # \"mobileNet_v2\", # 2,227,715\n",
    "    # \"mod_face_a\", # 17,991\n",
    "    # \"mod_face_b\", # 5,199\n",
    "    # \"SimpleCNN_a\", # 19,049\n",
    "    \"SimpleCNN_b\", # 4,737\n",
    "]\n",
    "\n",
    "for ii in range(len(model_names)):\n",
    "    model_name = model_names[ii]\n",
    "    phases = ['train', 'val']\n",
    "    train(model_list, model_name, data_loaders, 4, phases, epochs=1, save_weight=True)"
   ]
  },
  {
   "cell_type": "code",
   "execution_count": 17,
   "metadata": {},
   "outputs": [
    {
     "name": "stdout",
     "output_type": "stream",
     "text": [
      "WARNING:tensorflow:Entity <bound method ModResNet.call of <__main__.ModResNet object at 0x000002A8A3B229C8>> could not be transformed and will be executed as-is. Please report this to the AutgoGraph team. When filing the bug, set the verbosity to 10 (on Linux, `export AUTOGRAPH_VERBOSITY=10`) and attach the full output. Cause: converting <bound method ModResNet.call of <__main__.ModResNet object at 0x000002A8A3B229C8>>: AttributeError: module 'gast' has no attribute 'Str'\n",
      "WARNING: Entity <bound method ModResNet.call of <__main__.ModResNet object at 0x000002A8A3B229C8>> could not be transformed and will be executed as-is. Please report this to the AutgoGraph team. When filing the bug, set the verbosity to 10 (on Linux, `export AUTOGRAPH_VERBOSITY=10`) and attach the full output. Cause: converting <bound method ModResNet.call of <__main__.ModResNet object at 0x000002A8A3B229C8>>: AttributeError: module 'gast' has no attribute 'Str'\n",
      "WARNING:tensorflow:Entity <bound method BasicBlock.call of <__main__.BasicBlock object at 0x000002A8A3BD9988>> could not be transformed and will be executed as-is. Please report this to the AutgoGraph team. When filing the bug, set the verbosity to 10 (on Linux, `export AUTOGRAPH_VERBOSITY=10`) and attach the full output. Cause: converting <bound method BasicBlock.call of <__main__.BasicBlock object at 0x000002A8A3BD9988>>: AttributeError: module 'gast' has no attribute 'Str'\n",
      "WARNING: Entity <bound method BasicBlock.call of <__main__.BasicBlock object at 0x000002A8A3BD9988>> could not be transformed and will be executed as-is. Please report this to the AutgoGraph team. When filing the bug, set the verbosity to 10 (on Linux, `export AUTOGRAPH_VERBOSITY=10`) and attach the full output. Cause: converting <bound method BasicBlock.call of <__main__.BasicBlock object at 0x000002A8A3BD9988>>: AttributeError: module 'gast' has no attribute 'Str'\n",
      "WARNING:tensorflow:Entity <bound method BasicBlock.call of <__main__.BasicBlock object at 0x000002A8A3BB5148>> could not be transformed and will be executed as-is. Please report this to the AutgoGraph team. When filing the bug, set the verbosity to 10 (on Linux, `export AUTOGRAPH_VERBOSITY=10`) and attach the full output. Cause: converting <bound method BasicBlock.call of <__main__.BasicBlock object at 0x000002A8A3BB5148>>: AttributeError: module 'gast' has no attribute 'Str'\n"
     ]
    },
    {
     "name": "stdout",
     "output_type": "stream",
     "text": [
      "WARNING: Entity <bound method BasicBlock.call of <__main__.BasicBlock object at 0x000002A8A3BB5148>> could not be transformed and will be executed as-is. Please report this to the AutgoGraph team. When filing the bug, set the verbosity to 10 (on Linux, `export AUTOGRAPH_VERBOSITY=10`) and attach the full output. Cause: converting <bound method BasicBlock.call of <__main__.BasicBlock object at 0x000002A8A3BB5148>>: AttributeError: module 'gast' has no attribute 'Str'\n",
      "WARNING:tensorflow:Entity <bound method BasicBlock.call of <__main__.BasicBlock object at 0x000002A8A3BBDFC8>> could not be transformed and will be executed as-is. Please report this to the AutgoGraph team. When filing the bug, set the verbosity to 10 (on Linux, `export AUTOGRAPH_VERBOSITY=10`) and attach the full output. Cause: converting <bound method BasicBlock.call of <__main__.BasicBlock object at 0x000002A8A3BBDFC8>>: AttributeError: module 'gast' has no attribute 'Str'\n",
      "WARNING: Entity <bound method BasicBlock.call of <__main__.BasicBlock object at 0x000002A8A3BBDFC8>> could not be transformed and will be executed as-is. Please report this to the AutgoGraph team. When filing the bug, set the verbosity to 10 (on Linux, `export AUTOGRAPH_VERBOSITY=10`) and attach the full output. Cause: converting <bound method BasicBlock.call of <__main__.BasicBlock object at 0x000002A8A3BBDFC8>>: AttributeError: module 'gast' has no attribute 'Str'\n"
     ]
    },
    {
     "ename": "ValueError",
     "evalue": "in converted code:\n\n    C:\\Users\\User\\AppData\\Local\\Temp\\ipykernel_28760\\3313432971.py:64 call\n        x = self.layer2(x)\n    C:\\Users\\User\\AppData\\Local\\Temp\\ipykernel_28760\\3313432971.py:26 call\n        out += identity\n    c:\\Users\\User\\anaconda3\\envs\\tf37\\lib\\site-packages\\tensorflow\\python\\ops\\math_ops.py:884 binary_op_wrapper\n        return func(x, y, name=name)\n    c:\\Users\\User\\anaconda3\\envs\\tf37\\lib\\site-packages\\tensorflow\\python\\ops\\gen_math_ops.py:396 add\n        \"Add\", x=x, y=y, name=name)\n    c:\\Users\\User\\anaconda3\\envs\\tf37\\lib\\site-packages\\tensorflow\\python\\framework\\op_def_library.py:788 _apply_op_helper\n        op_def=op_def)\n    c:\\Users\\User\\anaconda3\\envs\\tf37\\lib\\site-packages\\tensorflow\\python\\util\\deprecation.py:507 new_func\n        return func(*args, **kwargs)\n    c:\\Users\\User\\anaconda3\\envs\\tf37\\lib\\site-packages\\tensorflow\\python\\framework\\ops.py:3616 create_op\n        op_def=op_def)\n    c:\\Users\\User\\anaconda3\\envs\\tf37\\lib\\site-packages\\tensorflow\\python\\framework\\ops.py:2027 __init__\n        control_input_ops)\n    c:\\Users\\User\\anaconda3\\envs\\tf37\\lib\\site-packages\\tensorflow\\python\\framework\\ops.py:1867 _create_c_op\n        raise ValueError(str(e))\n\n    ValueError: Dimensions must be equal, but are 28 and 56 for 'mod_res_net_3/sequential_1/basic_block_2/add' (op: 'Add') with input shapes: [1,28,28,2], [1,56,56,2].\n",
     "output_type": "error",
     "traceback": [
      "\u001b[1;31m---------------------------------------------------------------------------\u001b[0m",
      "\u001b[1;31mValueError\u001b[0m                                Traceback (most recent call last)",
      "\u001b[1;32m~\\AppData\\Local\\Temp\\ipykernel_28760\\3313432971.py\u001b[0m in \u001b[0;36m<module>\u001b[1;34m\u001b[0m\n\u001b[0;32m     73\u001b[0m \u001b[0minput_tensor\u001b[0m \u001b[1;33m=\u001b[0m \u001b[0mtf\u001b[0m\u001b[1;33m.\u001b[0m\u001b[0mrandom\u001b[0m\u001b[1;33m.\u001b[0m\u001b[0mnormal\u001b[0m\u001b[1;33m(\u001b[0m\u001b[1;33m[\u001b[0m\u001b[1;36m1\u001b[0m\u001b[1;33m,\u001b[0m \u001b[1;36m224\u001b[0m\u001b[1;33m,\u001b[0m \u001b[1;36m224\u001b[0m\u001b[1;33m,\u001b[0m \u001b[1;36m3\u001b[0m\u001b[1;33m]\u001b[0m\u001b[1;33m)\u001b[0m\u001b[1;33m\u001b[0m\u001b[1;33m\u001b[0m\u001b[0m\n\u001b[0;32m     74\u001b[0m \u001b[1;31m# Forward pass\u001b[0m\u001b[1;33m\u001b[0m\u001b[1;33m\u001b[0m\u001b[1;33m\u001b[0m\u001b[0m\n\u001b[1;32m---> 75\u001b[1;33m \u001b[0moutput\u001b[0m \u001b[1;33m=\u001b[0m \u001b[0mmodel\u001b[0m\u001b[1;33m(\u001b[0m\u001b[0minput_tensor\u001b[0m\u001b[1;33m)\u001b[0m\u001b[1;33m\u001b[0m\u001b[1;33m\u001b[0m\u001b[0m\n\u001b[0m\u001b[0;32m     76\u001b[0m \u001b[0mprint\u001b[0m\u001b[1;33m(\u001b[0m\u001b[0moutput\u001b[0m\u001b[1;33m.\u001b[0m\u001b[0mshape\u001b[0m\u001b[1;33m)\u001b[0m  \u001b[1;31m# Output shape should be (1, 1000) for 1000 classes\u001b[0m\u001b[1;33m\u001b[0m\u001b[1;33m\u001b[0m\u001b[0m\n",
      "\u001b[1;32mc:\\Users\\User\\anaconda3\\envs\\tf37\\lib\\site-packages\\tensorflow\\python\\keras\\engine\\base_layer.py\u001b[0m in \u001b[0;36m__call__\u001b[1;34m(self, inputs, *args, **kwargs)\u001b[0m\n\u001b[0;32m    632\u001b[0m                     \u001b[0moutputs\u001b[0m \u001b[1;33m=\u001b[0m \u001b[0mbase_layer_utils\u001b[0m\u001b[1;33m.\u001b[0m\u001b[0mmark_as_return\u001b[0m\u001b[1;33m(\u001b[0m\u001b[0moutputs\u001b[0m\u001b[1;33m,\u001b[0m \u001b[0macd\u001b[0m\u001b[1;33m)\u001b[0m\u001b[1;33m\u001b[0m\u001b[1;33m\u001b[0m\u001b[0m\n\u001b[0;32m    633\u001b[0m                 \u001b[1;32melse\u001b[0m\u001b[1;33m:\u001b[0m\u001b[1;33m\u001b[0m\u001b[1;33m\u001b[0m\u001b[0m\n\u001b[1;32m--> 634\u001b[1;33m                   \u001b[0moutputs\u001b[0m \u001b[1;33m=\u001b[0m \u001b[0mcall_fn\u001b[0m\u001b[1;33m(\u001b[0m\u001b[0minputs\u001b[0m\u001b[1;33m,\u001b[0m \u001b[1;33m*\u001b[0m\u001b[0margs\u001b[0m\u001b[1;33m,\u001b[0m \u001b[1;33m**\u001b[0m\u001b[0mkwargs\u001b[0m\u001b[1;33m)\u001b[0m\u001b[1;33m\u001b[0m\u001b[1;33m\u001b[0m\u001b[0m\n\u001b[0m\u001b[0;32m    635\u001b[0m \u001b[1;33m\u001b[0m\u001b[0m\n\u001b[0;32m    636\u001b[0m             \u001b[1;32mexcept\u001b[0m \u001b[0mTypeError\u001b[0m \u001b[1;32mas\u001b[0m \u001b[0me\u001b[0m\u001b[1;33m:\u001b[0m\u001b[1;33m\u001b[0m\u001b[1;33m\u001b[0m\u001b[0m\n",
      "\u001b[1;32mc:\\Users\\User\\anaconda3\\envs\\tf37\\lib\\site-packages\\tensorflow\\python\\autograph\\impl\\api.py\u001b[0m in \u001b[0;36mwrapper\u001b[1;34m(*args, **kwargs)\u001b[0m\n\u001b[0;32m    147\u001b[0m       \u001b[1;32mexcept\u001b[0m \u001b[0mException\u001b[0m \u001b[1;32mas\u001b[0m \u001b[0me\u001b[0m\u001b[1;33m:\u001b[0m  \u001b[1;31m# pylint:disable=broad-except\u001b[0m\u001b[1;33m\u001b[0m\u001b[1;33m\u001b[0m\u001b[0m\n\u001b[0;32m    148\u001b[0m         \u001b[1;32mif\u001b[0m \u001b[0mhasattr\u001b[0m\u001b[1;33m(\u001b[0m\u001b[0me\u001b[0m\u001b[1;33m,\u001b[0m \u001b[1;34m'ag_error_metadata'\u001b[0m\u001b[1;33m)\u001b[0m\u001b[1;33m:\u001b[0m\u001b[1;33m\u001b[0m\u001b[1;33m\u001b[0m\u001b[0m\n\u001b[1;32m--> 149\u001b[1;33m           \u001b[1;32mraise\u001b[0m \u001b[0me\u001b[0m\u001b[1;33m.\u001b[0m\u001b[0mag_error_metadata\u001b[0m\u001b[1;33m.\u001b[0m\u001b[0mto_exception\u001b[0m\u001b[1;33m(\u001b[0m\u001b[0mtype\u001b[0m\u001b[1;33m(\u001b[0m\u001b[0me\u001b[0m\u001b[1;33m)\u001b[0m\u001b[1;33m)\u001b[0m\u001b[1;33m\u001b[0m\u001b[1;33m\u001b[0m\u001b[0m\n\u001b[0m\u001b[0;32m    150\u001b[0m         \u001b[1;32melse\u001b[0m\u001b[1;33m:\u001b[0m\u001b[1;33m\u001b[0m\u001b[1;33m\u001b[0m\u001b[0m\n\u001b[0;32m    151\u001b[0m           \u001b[1;32mraise\u001b[0m\u001b[1;33m\u001b[0m\u001b[1;33m\u001b[0m\u001b[0m\n",
      "\u001b[1;31mValueError\u001b[0m: in converted code:\n\n    C:\\Users\\User\\AppData\\Local\\Temp\\ipykernel_28760\\3313432971.py:64 call\n        x = self.layer2(x)\n    C:\\Users\\User\\AppData\\Local\\Temp\\ipykernel_28760\\3313432971.py:26 call\n        out += identity\n    c:\\Users\\User\\anaconda3\\envs\\tf37\\lib\\site-packages\\tensorflow\\python\\ops\\math_ops.py:884 binary_op_wrapper\n        return func(x, y, name=name)\n    c:\\Users\\User\\anaconda3\\envs\\tf37\\lib\\site-packages\\tensorflow\\python\\ops\\gen_math_ops.py:396 add\n        \"Add\", x=x, y=y, name=name)\n    c:\\Users\\User\\anaconda3\\envs\\tf37\\lib\\site-packages\\tensorflow\\python\\framework\\op_def_library.py:788 _apply_op_helper\n        op_def=op_def)\n    c:\\Users\\User\\anaconda3\\envs\\tf37\\lib\\site-packages\\tensorflow\\python\\util\\deprecation.py:507 new_func\n        return func(*args, **kwargs)\n    c:\\Users\\User\\anaconda3\\envs\\tf37\\lib\\site-packages\\tensorflow\\python\\framework\\ops.py:3616 create_op\n        op_def=op_def)\n    c:\\Users\\User\\anaconda3\\envs\\tf37\\lib\\site-packages\\tensorflow\\python\\framework\\ops.py:2027 __init__\n        control_input_ops)\n    c:\\Users\\User\\anaconda3\\envs\\tf37\\lib\\site-packages\\tensorflow\\python\\framework\\ops.py:1867 _create_c_op\n        raise ValueError(str(e))\n\n    ValueError: Dimensions must be equal, but are 28 and 56 for 'mod_res_net_3/sequential_1/basic_block_2/add' (op: 'Add') with input shapes: [1,28,28,2], [1,56,56,2].\n"
     ]
    }
   ],
   "source": [
    "class BasicBlock(Model):\n",
    "    expansion = 1\n",
    "\n",
    "    def __init__(self, out_channels, stride=1, downsample=None):\n",
    "        super(BasicBlock, self).__init__()\n",
    "        self.conv1 = layers.Conv2D(out_channels, kernel_size=3, strides=stride, padding='same', use_bias=False)\n",
    "        self.bn1 = layers.BatchNormalization()\n",
    "        self.conv2 = layers.Conv2D(out_channels, kernel_size=3, padding='same', use_bias=False)\n",
    "        self.bn2 = layers.BatchNormalization()\n",
    "        self.downsample = downsample\n",
    "        self.relu = layers.ReLU()\n",
    "\n",
    "    def call(self, x):\n",
    "        identity = x\n",
    "\n",
    "        out = self.conv1(x)\n",
    "        out = self.bn1(out)\n",
    "        out = self.relu(out)\n",
    "\n",
    "        out = self.conv2(out)\n",
    "        out = self.bn2(out)\n",
    "\n",
    "        if self.downsample is not None:\n",
    "            identity = self.downsample(x)\n",
    "\n",
    "        out += identity\n",
    "        out = self.relu(out)\n",
    "\n",
    "        return out\n",
    "    \n",
    "class ModResNet(Model):\n",
    "    def __init__(self, block, layer_num_list, channel_num_list, num_classes=1000, input_channel=3):\n",
    "        super(ModResNet, self).__init__()\n",
    "        self.conv1 = layers.Conv2D(channel_num_list[0], kernel_size=7, strides=2, padding='same', input_shape=(None, None, input_channel), use_bias=False)\n",
    "        self.bn1 = layers.BatchNormalization()\n",
    "        self.relu = layers.ReLU()\n",
    "        self.maxpool = layers.MaxPooling2D(pool_size=3, strides=2, padding='same')\n",
    "\n",
    "        self.layer1 = self._make_layer(block, channel_num_list[1], layer_num_list[0], stride=1)\n",
    "        self.layer2 = self._make_layer(block, channel_num_list[2], layer_num_list[1], stride=2)\n",
    "        self.layer3 = self._make_layer(block, channel_num_list[3], layer_num_list[2], stride=2)\n",
    "        self.layer4 = self._make_layer(block, channel_num_list[4], layer_num_list[3], stride=2)\n",
    "\n",
    "        self.avgpool = layers.GlobalAveragePooling2D()\n",
    "        self.fc = layers.Dense(num_classes)\n",
    "\n",
    "    def _make_layer(self, block, out_channels, num_blocks, stride=1):\n",
    "        downsample = None\n",
    "        layers = []\n",
    "\n",
    "        for _ in range(num_blocks):\n",
    "            layers.append(block(out_channels, stride=stride))\n",
    "            stride = 1  # Only the first block per layer_group might have stride != 1\n",
    "\n",
    "        return tf.keras.Sequential(layers)\n",
    "\n",
    "    def call(self, inputs):\n",
    "        x = self.conv1(inputs)\n",
    "        x = self.bn1(x)\n",
    "        x = self.relu(x)\n",
    "        x = self.maxpool(x)\n",
    "\n",
    "        x = self.layer1(x)\n",
    "        x = self.layer2(x)\n",
    "\n",
    "        x = self.avgpool(x)\n",
    "        x = self.fc(x)\n",
    "        return x\n",
    "\n",
    "# Create a ResNet model instance\n",
    "model = ModResNet(BasicBlock, [2, 2, 2, 2], [2, 2, 2, 2, 2], num_classes=1000)\n",
    "# Dummy input tensor\n",
    "input_tensor = tf.random.normal([1, 224, 224, 3])\n",
    "# Forward pass\n",
    "output = model(input_tensor)\n",
    "print(output.shape)  # Output shape should be (1, 1000) for 1000 classes\n"
   ]
  }
 ],
 "metadata": {
  "kernelspec": {
   "display_name": "tensorflow",
   "language": "python",
   "name": "python3"
  },
  "language_info": {
   "codemirror_mode": {
    "name": "ipython",
    "version": 3
   },
   "file_extension": ".py",
   "mimetype": "text/x-python",
   "name": "python",
   "nbconvert_exporter": "python",
   "pygments_lexer": "ipython3",
   "version": "3.7.12"
  }
 },
 "nbformat": 4,
 "nbformat_minor": 2
}
