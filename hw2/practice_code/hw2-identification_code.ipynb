{
 "cells": [
  {
   "cell_type": "code",
   "execution_count": 2,
   "metadata": {},
   "outputs": [],
   "source": [
    "import torch.nn\n",
    "from datetime import datetime\n",
    "import torchvision.models as models\n",
    "import torch.nn.functional as F\n",
    "import scipy.io\n",
    "import torch\n",
    "import numpy as np\n",
    "from PIL import Image \n",
    "import os"
   ]
  },
  {
   "cell_type": "code",
   "execution_count": 3,
   "metadata": {},
   "outputs": [],
   "source": [
    "path = \"D:\\\\Casper\\\\OTHER\\\\Data\\\\identification code_database\\\\train.mat\"\n",
    "def load_data(path):\n",
    "    data = scipy.io.loadmat(path) \n",
    "    print(data.keys())\n",
    " \n",
    "    origin_X = np.array(data['x'].flat)\n",
    "    origin_Y = data['y'][0].reshape(5000,-1)\n",
    "    origin_Y_onehot= data['y_onehot'].reshape(5000,4,19)\n",
    "    \n",
    "    print (\"origin_X shape: \"+str(origin_X.shape))\n",
    "    print (\"origin_Y shape: \"+str(origin_Y.shape))\n",
    "    print (\"origin_Y_onehot shape: \"+str(origin_Y_onehot.shape))\n",
    " \n",
    "    return origin_X,origin_Y,origin_Y_onehot"
   ]
  },
  {
   "cell_type": "code",
   "execution_count": 4,
   "metadata": {},
   "outputs": [],
   "source": [
    "def resize_img (o_data,write,save):  \n",
    "    index=0\n",
    "    p_data=[]\n",
    "    for i in o_data:\n",
    "        name='resize_data_image/resize_x_'+str(index)+'.jpg'\n",
    "        img = Image.fromarray(i, 'RGB')\n",
    "        img=img.resize((130,50))\n",
    "        if os.path.isfile(name) and save:      \n",
    "            print (name+\" is existed\")    \n",
    "        elif save:\n",
    "            img.save(name)\n",
    "        if write:\n",
    "            p_data.append(np.array(img))       \n",
    "        index+=1\n",
    "        \n",
    "    p_data=np.array(p_data)   \n",
    "    print (p_data.shape)\n",
    "    return p_data"
   ]
  },
  {
   "cell_type": "code",
   "execution_count": 21,
   "metadata": {},
   "outputs": [
    {
     "name": "stdout",
     "output_type": "stream",
     "text": [
      "dict_keys(['__header__', '__version__', '__globals__', 'y_onehot', 'x', 'y'])\n",
      "origin_X shape: (5000,)\n",
      "origin_Y shape: (5000, 4)\n",
      "origin_Y_onehot shape: (5000, 4, 19)\n",
      "(5000, 50, 130, 3)\n"
     ]
    }
   ],
   "source": [
    "origin_X,origin_Y,origin_Y_onehot=load_data(path)\n",
    "\n",
    "train_rate=0.5 #change to 0.9\n",
    "num_train_data=int(5000*train_rate)\n",
    "resize_x= resize_img(origin_X,True,False)\n",
    "train_x_orig=resize_x.reshape(5000,50,130,-1)[0:num_train_data]\n",
    "test_x_orig=resize_x.reshape(5000,50,130,-1)[num_train_data:]\n",
    "\n",
    "x_train=train_x_orig.astype('float32')/255\n",
    "x_test=test_x_orig.astype('float32')/255\n",
    "\n",
    "y_train_onehot=origin_Y_onehot[0:num_train_data]\n",
    "y_test_onehot=origin_Y_onehot[num_train_data:]"
   ]
  },
  {
   "cell_type": "code",
   "execution_count": 22,
   "metadata": {},
   "outputs": [],
   "source": [
    "origin_X_tensor = torch.tensor(x_train, dtype=torch.float32)\n",
    "origin_Y_tensor = torch.tensor(y_train_onehot, dtype=torch.float32)\n",
    "origin_Y_onehot_tensor = torch.tensor(y_train_onehot, dtype=torch.float32)"
   ]
  },
  {
   "cell_type": "code",
   "execution_count": 23,
   "metadata": {},
   "outputs": [
    {
     "name": "stdout",
     "output_type": "stream",
     "text": [
      "torch.Size([50, 130, 3])\n",
      "torch.Size([50, 130, 3])\n"
     ]
    },
    {
     "data": {
      "text/plain": [
       "<matplotlib.image.AxesImage at 0x26ae280bd60>"
      ]
     },
     "execution_count": 23,
     "metadata": {},
     "output_type": "execute_result"
    },
    {
     "data": {
      "image/png": "[encoded data removed]",
      "text/plain": [
       "<Figure size 640x480 with 1 Axes>"
      ]
     },
     "metadata": {},
     "output_type": "display_data"
    }
   ],
   "source": [
    "import matplotlib.pyplot as plt\n",
    "print(origin_X_tensor[0].shape)\n",
    "tensor = origin_X_tensor[0].permute(2, 0, 1)\n",
    "tensor = tensor.permute(1, 2, 0)\n",
    "print(tensor.shape)\n",
    "# if tensor.min() < 0 or tensor.max() > 1:\n",
    "    # tensor = (tensor - tensor.min()) / (tensor.max() - tensor.min())\n",
    "\n",
    "plt.imshow(tensor)\n",
    "\n",
    "# print(origin_Y_onehot_tensor[0])"
   ]
  },
  {
   "cell_type": "code",
   "execution_count": 49,
   "metadata": {},
   "outputs": [],
   "source": [
    "# from torchvision import datasets, transforms\n",
    "\n",
    "# transform = transforms.Compose([transforms.ToTensor(),\n",
    "#                                     transforms.Normalize((0.5,), (0.5,))])\n",
    "# train_loader = torch.utils.data.DataLoader(origin_X_tensor, batch_size=256, shuffle=True)\n",
    "# test_loader = torch.utils.data.DataLoader(origin_Y_onehot_tensor, batch_size=256, shuffle=True)\n"
   ]
  },
  {
   "cell_type": "code",
   "execution_count": 26,
   "metadata": {},
   "outputs": [],
   "source": [
    "origin_X_tensor_permuted = origin_X_tensor.permute(0, 3, 1, 2)\n"
   ]
  },
  {
   "cell_type": "code",
   "execution_count": 35,
   "metadata": {},
   "outputs": [],
   "source": [
    "import torch\n",
    "import torch.nn as nn\n",
    "import torch.nn.functional as F\n",
    "import torch.optim as optim\n",
    "\n",
    "class SimpleCharCNN(nn.Module):\n",
    "    def __init__(self):\n",
    "        super(SimpleCharCNN, self).__init__()\n",
    "        self.conv1 = nn.Conv2d(3, 32, kernel_size=5, padding=2)  # Assuming grayscale images\n",
    "        self.pool = nn.MaxPool2d(2, 2)\n",
    "        self.conv2 = nn.Conv2d(32, 64, kernel_size=5, padding=2)\n",
    "        self.fc1 = nn.Linear(24576, 512)  # Adjust the size according to your image size\n",
    "        self.fc2 = nn.Linear(512, 76)  # 4 characters, each 26 possible letters\n",
    "\n",
    "    def forward(self, x):\n",
    "        x = self.pool(F.relu(self.conv1(x)))\n",
    "        x = self.pool(F.relu(self.conv2(x)))\n",
    "        x = torch.flatten(x, 1)\n",
    "        x = F.relu(self.fc1(x))\n",
    "        x = self.fc2(x)\n",
    "        return x\n"
   ]
  },
  {
   "cell_type": "code",
   "execution_count": null,
   "metadata": {},
   "outputs": [],
   "source": []
  },
  {
   "cell_type": "code",
   "execution_count": 40,
   "metadata": {},
   "outputs": [
    {
     "name": "stdout",
     "output_type": "stream",
     "text": [
      "torch.Size([2500, 76])\n"
     ]
    },
    {
     "name": "stderr",
     "output_type": "stream",
     "text": [
      " 10%|█         | 1/10 [00:09<01:21,  9.02s/it]"
     ]
    },
    {
     "name": "stdout",
     "output_type": "stream",
     "text": [
      "tensor([[1., 0., 0., 0., 0., 0., 0., 0., 0., 0., 0., 0., 0., 0., 0., 0., 0., 0.,\n",
      "         0.],\n",
      "        [0., 1., 0., 0., 0., 0., 0., 0., 0., 0., 0., 0., 0., 0., 0., 0., 0., 0.,\n",
      "         0.],\n",
      "        [0., 0., 0., 0., 0., 1., 0., 0., 0., 0., 0., 0., 0., 0., 0., 0., 0., 0.,\n",
      "         0.],\n",
      "        [0., 0., 0., 0., 0., 0., 0., 0., 0., 0., 0., 1., 0., 0., 0., 0., 0., 0.,\n",
      "         0.]])\n",
      "tensor([[ 0.0099, -0.0881, -0.0607,  0.0250, -0.0140, -0.0618, -0.0254,  0.0498,\n",
      "          0.0320,  0.0391,  0.0180, -0.0144,  0.0096, -0.0481, -0.0020,  0.0269,\n",
      "         -0.0673,  0.0303,  0.0589],\n",
      "        [ 0.0014,  0.0603,  0.0410, -0.0960, -0.0172,  0.0226, -0.0698,  0.0563,\n",
      "         -0.0006, -0.0190,  0.0508, -0.0022, -0.0187,  0.0365,  0.0418,  0.0499,\n",
      "          0.0152, -0.0171,  0.0388],\n",
      "        [-0.0110,  0.0332,  0.0221,  0.1109,  0.0058,  0.0280,  0.0551,  0.0010,\n",
      "          0.0428,  0.0101, -0.0516, -0.0217, -0.0463,  0.0553,  0.0307, -0.0404,\n",
      "         -0.1053,  0.0348, -0.0596],\n",
      "        [ 0.0279, -0.0621, -0.0437,  0.0306,  0.0221, -0.0211,  0.0395,  0.0016,\n",
      "         -0.0155,  0.0315, -0.1224,  0.0350,  0.0366,  0.0839,  0.0297, -0.0130,\n",
      "         -0.0312,  0.0477, -0.0596]], grad_fn=<SelectBackward0>)\n",
      "Epoch 1, Loss: 0.694842517375946, Validation Loss: \n"
     ]
    },
    {
     "name": "stderr",
     "output_type": "stream",
     "text": [
      " 20%|██        | 2/10 [00:17<01:09,  8.73s/it]"
     ]
    },
    {
     "name": "stdout",
     "output_type": "stream",
     "text": [
      "tensor([[1., 0., 0., 0., 0., 0., 0., 0., 0., 0., 0., 0., 0., 0., 0., 0., 0., 0.,\n",
      "         0.],\n",
      "        [0., 1., 0., 0., 0., 0., 0., 0., 0., 0., 0., 0., 0., 0., 0., 0., 0., 0.,\n",
      "         0.],\n",
      "        [0., 0., 0., 0., 0., 1., 0., 0., 0., 0., 0., 0., 0., 0., 0., 0., 0., 0.,\n",
      "         0.],\n",
      "        [0., 0., 0., 0., 0., 0., 0., 0., 0., 0., 0., 1., 0., 0., 0., 0., 0., 0.,\n",
      "         0.]])\n",
      "tensor([[-4.7692, -4.6888, -2.2989, -0.3953, -1.4256, -1.9215, -2.1624, -1.9115,\n",
      "         -0.6076, -1.3336, -2.7223, -3.5639, -2.3976, -2.6544, -0.9100, -1.9054,\n",
      "         -1.8816, -2.6544, -0.0337],\n",
      "        [-3.5408, -2.3447,  0.0070, -3.1055, -2.1194, -2.1010, -1.9620, -2.8019,\n",
      "         -2.6445, -2.3176, -2.1901, -1.4707,  0.1255, -0.7319, -2.8295, -1.7648,\n",
      "         -1.7926, -1.4834,  0.4218],\n",
      "        [-2.1155, -0.9138, -0.5452, -0.1679, -1.0392, -2.8222, -2.6157, -2.5781,\n",
      "         -0.8158, -2.7234, -1.2755, -0.9890, -4.0825, -2.4850, -0.7782, -2.1491,\n",
      "         -2.8648, -3.1697, -3.1591],\n",
      "        [-2.6153, -3.2511, -2.6948, -1.9008, -0.1996, -3.0378, -2.1354, -1.0586,\n",
      "         -1.9330, -1.4152, -2.7230, -1.7710, -1.7625, -1.6224, -1.9836, -1.9882,\n",
      "         -1.4764, -2.2526, -1.9179]], grad_fn=<SelectBackward0>)\n",
      "Epoch 2, Loss: 0.2958027124404907, Validation Loss: \n"
     ]
    },
    {
     "name": "stderr",
     "output_type": "stream",
     "text": [
      " 30%|███       | 3/10 [00:26<01:02,  8.89s/it]"
     ]
    },
    {
     "name": "stdout",
     "output_type": "stream",
     "text": [
      "tensor([[1., 0., 0., 0., 0., 0., 0., 0., 0., 0., 0., 0., 0., 0., 0., 0., 0., 0.,\n",
      "         0.],\n",
      "        [0., 1., 0., 0., 0., 0., 0., 0., 0., 0., 0., 0., 0., 0., 0., 0., 0., 0.,\n",
      "         0.],\n",
      "        [0., 0., 0., 0., 0., 1., 0., 0., 0., 0., 0., 0., 0., 0., 0., 0., 0., 0.,\n",
      "         0.],\n",
      "        [0., 0., 0., 0., 0., 0., 0., 0., 0., 0., 0., 1., 0., 0., 0., 0., 0., 0.,\n",
      "         0.]])\n",
      "tensor([[-10.1097,  -8.5935,  -6.6800,  -4.3659,  -6.4850,  -5.7932,  -7.5974,\n",
      "          -6.7885,  -5.2743,  -6.2620,  -4.9084,  -5.2576,  -6.1751,  -6.7690,\n",
      "          -5.9960,  -4.5956,  -7.7105,  -6.2424,  -4.4710],\n",
      "        [ -7.9477,  -6.9250,  -4.3441,  -7.1352,  -5.4828,  -5.5693,  -4.5302,\n",
      "          -4.4340,  -7.7172,  -6.9676,  -6.8176,  -5.8774,  -3.9186,  -5.1294,\n",
      "          -6.3529,  -6.0367,  -7.1209,  -5.0707,  -3.1355],\n",
      "        [ -5.6015,  -4.4204,  -2.4923,  -5.6197,  -4.5038,  -6.2654,  -6.4100,\n",
      "          -7.6144,  -5.7765,  -6.6619,  -4.6314,  -5.9613,  -8.1921,  -6.8861,\n",
      "          -4.9529,  -5.5646,  -5.1757,  -5.2730,  -5.4949],\n",
      "        [ -4.6894,  -5.5266,  -7.8417,  -5.3494,  -3.8999,  -4.6892,  -4.9874,\n",
      "          -4.7156,  -3.7788,  -5.0186,  -8.4238,  -5.6275,  -5.4456,  -3.6618,\n",
      "          -4.4629,  -6.3164,  -5.9127,  -7.7454,  -7.5455]],\n",
      "       grad_fn=<SelectBackward0>)\n",
      "Epoch 3, Loss: 0.3154533803462982, Validation Loss: \n"
     ]
    },
    {
     "name": "stderr",
     "output_type": "stream",
     "text": [
      " 40%|████      | 4/10 [00:35<00:53,  8.94s/it]"
     ]
    },
    {
     "name": "stdout",
     "output_type": "stream",
     "text": [
      "tensor([[1., 0., 0., 0., 0., 0., 0., 0., 0., 0., 0., 0., 0., 0., 0., 0., 0., 0.,\n",
      "         0.],\n",
      "        [0., 1., 0., 0., 0., 0., 0., 0., 0., 0., 0., 0., 0., 0., 0., 0., 0., 0.,\n",
      "         0.],\n",
      "        [0., 0., 0., 0., 0., 1., 0., 0., 0., 0., 0., 0., 0., 0., 0., 0., 0., 0.,\n",
      "         0.],\n",
      "        [0., 0., 0., 0., 0., 0., 0., 0., 0., 0., 0., 1., 0., 0., 0., 0., 0., 0.,\n",
      "         0.]])\n",
      "tensor([[-7.5878, -5.3465, -5.2600, -4.9788, -6.1092, -4.4239, -6.2887, -6.0122,\n",
      "         -5.8544, -6.2597, -2.5362, -3.0626, -4.6661, -5.0578, -5.7839, -3.3165,\n",
      "         -5.8731, -3.6578, -5.5262],\n",
      "        [-5.8719, -5.9291, -5.8907, -5.0411, -3.9740, -4.0099, -2.7954, -1.6841,\n",
      "         -5.8363, -5.8404, -5.2269, -5.4209, -4.4760, -5.8350, -4.0750, -4.9272,\n",
      "         -5.8001, -3.9503, -4.3325],\n",
      "        [-3.4471, -5.1323, -3.6206, -6.1952, -4.1781, -4.3380, -4.3808, -5.8097,\n",
      "         -5.6528, -4.2893, -3.1416, -6.1458, -6.1000, -5.6957, -5.3613, -4.0469,\n",
      "         -2.7436, -2.9400, -3.5833],\n",
      "        [-2.6012, -3.1724, -5.7367, -4.4600, -5.0523, -2.1709, -2.9582, -4.0541,\n",
      "         -2.4531, -4.0316, -6.2851, -4.4547, -4.8099, -2.9927, -3.5374, -5.3718,\n",
      "         -5.1414, -5.8600, -6.4345]], grad_fn=<SelectBackward0>)\n",
      "Epoch 4, Loss: 0.26611435413360596, Validation Loss: \n"
     ]
    },
    {
     "name": "stderr",
     "output_type": "stream",
     "text": [
      " 50%|█████     | 5/10 [00:44<00:44,  8.98s/it]"
     ]
    },
    {
     "name": "stdout",
     "output_type": "stream",
     "text": [
      "tensor([[1., 0., 0., 0., 0., 0., 0., 0., 0., 0., 0., 0., 0., 0., 0., 0., 0., 0.,\n",
      "         0.],\n",
      "        [0., 1., 0., 0., 0., 0., 0., 0., 0., 0., 0., 0., 0., 0., 0., 0., 0., 0.,\n",
      "         0.],\n",
      "        [0., 0., 0., 0., 0., 1., 0., 0., 0., 0., 0., 0., 0., 0., 0., 0., 0., 0.,\n",
      "         0.],\n",
      "        [0., 0., 0., 0., 0., 0., 0., 0., 0., 0., 0., 1., 0., 0., 0., 0., 0., 0.,\n",
      "         0.]])\n",
      "tensor([[-4.3179, -2.6334, -3.1622, -3.8601, -4.0191, -2.6853, -3.8650, -3.9502,\n",
      "         -4.5239, -4.5957, -1.2174, -1.8029, -2.7614, -2.7102, -4.1556, -2.0937,\n",
      "         -3.7033, -1.3996, -4.4351],\n",
      "        [-3.3367, -3.9487, -4.9690, -2.7357, -2.3022, -2.4039, -1.9969, -1.7242,\n",
      "         -3.3643, -3.5736, -3.1427, -3.6847, -3.8752, -4.7607, -1.8837, -3.0455,\n",
      "         -3.6411, -2.3400, -3.6546],\n",
      "        [-1.7102, -4.0523, -3.1493, -4.8768, -2.8779, -2.5640, -2.3788, -3.4920,\n",
      "         -3.9049, -2.0728, -1.8400, -4.4751, -3.7211, -3.8122, -4.2164, -2.4779,\n",
      "         -1.1715, -1.4498, -1.7331],\n",
      "        [-1.7257, -1.8191, -3.1821, -2.9514, -4.2572, -1.1889, -1.8209, -2.5565,\n",
      "         -2.0864, -2.4659, -3.7040, -2.8818, -3.0682, -2.1669, -2.4039, -3.3459,\n",
      "         -3.2538, -3.5279, -3.9316]], grad_fn=<SelectBackward0>)\n",
      "Epoch 5, Loss: 0.22870343923568726, Validation Loss: \n"
     ]
    },
    {
     "name": "stderr",
     "output_type": "stream",
     "text": [
      " 60%|██████    | 6/10 [00:53<00:35,  8.95s/it]"
     ]
    },
    {
     "name": "stdout",
     "output_type": "stream",
     "text": [
      "tensor([[1., 0., 0., 0., 0., 0., 0., 0., 0., 0., 0., 0., 0., 0., 0., 0., 0., 0.,\n",
      "         0.],\n",
      "        [0., 1., 0., 0., 0., 0., 0., 0., 0., 0., 0., 0., 0., 0., 0., 0., 0., 0.,\n",
      "         0.],\n",
      "        [0., 0., 0., 0., 0., 1., 0., 0., 0., 0., 0., 0., 0., 0., 0., 0., 0., 0.,\n",
      "         0.],\n",
      "        [0., 0., 0., 0., 0., 0., 0., 0., 0., 0., 0., 1., 0., 0., 0., 0., 0., 0.,\n",
      "         0.]])\n",
      "tensor([[-2.3467, -1.6355, -1.6994, -2.8792, -2.3459, -1.5579, -2.3467, -2.5332,\n",
      "         -3.2998, -2.9366, -1.3359, -1.7983, -1.9048, -1.5543, -3.0120, -1.6341,\n",
      "         -2.4716, -1.2380, -3.3057],\n",
      "        [-1.9664, -2.4536, -3.6283, -1.5184, -1.7123, -1.5455, -1.8760, -1.9897,\n",
      "         -1.5884, -2.1238, -1.9037, -2.3756, -3.0838, -3.6514, -1.3545, -1.7246,\n",
      "         -2.2542, -1.5105, -2.8756],\n",
      "        [-1.4629, -2.9721, -2.4306, -3.6188, -2.0226, -1.5928, -1.3973, -1.9443,\n",
      "         -2.5241, -1.5017, -1.5720, -3.0549, -2.3015, -2.4190, -3.0322, -1.8623,\n",
      "         -1.1651, -1.4888, -1.1839],\n",
      "        [-1.6358, -1.6655, -1.7690, -2.0249, -3.1742, -1.3696, -1.7216, -1.8714,\n",
      "         -2.1428, -1.9816, -2.1676, -1.9342, -1.8631, -1.9303, -1.7661, -1.8423,\n",
      "         -2.0677, -2.0608, -2.0993]], grad_fn=<SelectBackward0>)\n",
      "Epoch 6, Loss: 0.2400507628917694, Validation Loss: \n"
     ]
    },
    {
     "name": "stderr",
     "output_type": "stream",
     "text": [
      " 70%|███████   | 7/10 [01:02<00:27,  9.02s/it]"
     ]
    },
    {
     "name": "stdout",
     "output_type": "stream",
     "text": [
      "tensor([[1., 0., 0., 0., 0., 0., 0., 0., 0., 0., 0., 0., 0., 0., 0., 0., 0., 0.,\n",
      "         0.],\n",
      "        [0., 1., 0., 0., 0., 0., 0., 0., 0., 0., 0., 0., 0., 0., 0., 0., 0., 0.,\n",
      "         0.],\n",
      "        [0., 0., 0., 0., 0., 1., 0., 0., 0., 0., 0., 0., 0., 0., 0., 0., 0., 0.,\n",
      "         0.],\n",
      "        [0., 0., 0., 0., 0., 0., 0., 0., 0., 0., 0., 1., 0., 0., 0., 0., 0., 0.,\n",
      "         0.]])\n",
      "tensor([[-1.8235, -1.9659, -1.5012, -2.7395, -1.9379, -1.6128, -1.9825, -2.2556,\n",
      "         -3.1008, -2.3668, -1.9698, -2.5058, -2.0385, -1.7502, -2.9993, -1.8478,\n",
      "         -2.1160, -1.7052, -3.1257],\n",
      "        [-1.8413, -2.0541, -3.4057, -1.4971, -2.0050, -1.6871, -2.1336, -2.6901,\n",
      "         -1.1390, -2.0203, -1.7535, -2.2211, -3.1248, -3.4965, -1.7076, -1.6027,\n",
      "         -1.8078, -1.6601, -2.9412],\n",
      "        [-1.8763, -2.7545, -2.5232, -3.5175, -2.0999, -1.6782, -1.5096, -1.6452,\n",
      "         -2.2880, -2.0224, -1.9662, -2.7767, -2.0559, -2.0598, -2.8125, -2.0717,\n",
      "         -1.7613, -2.1150, -1.5305],\n",
      "        [-2.1854, -2.0627, -1.6610, -2.1774, -2.9864, -2.0649, -2.1033, -2.1811,\n",
      "         -2.8299, -2.3666, -1.9055, -1.9442, -1.7757, -2.4821, -1.8600, -1.6236,\n",
      "         -1.8354, -1.7831, -1.5667]], grad_fn=<SelectBackward0>)\n",
      "Epoch 7, Loss: 0.23245549201965332, Validation Loss: \n"
     ]
    },
    {
     "name": "stderr",
     "output_type": "stream",
     "text": [
      " 80%|████████  | 8/10 [01:11<00:17,  8.98s/it]"
     ]
    },
    {
     "name": "stdout",
     "output_type": "stream",
     "text": [
      "tensor([[1., 0., 0., 0., 0., 0., 0., 0., 0., 0., 0., 0., 0., 0., 0., 0., 0., 0.,\n",
      "         0.],\n",
      "        [0., 1., 0., 0., 0., 0., 0., 0., 0., 0., 0., 0., 0., 0., 0., 0., 0., 0.,\n",
      "         0.],\n",
      "        [0., 0., 0., 0., 0., 1., 0., 0., 0., 0., 0., 0., 0., 0., 0., 0., 0., 0.,\n",
      "         0.],\n",
      "        [0., 0., 0., 0., 0., 0., 0., 0., 0., 0., 0., 1., 0., 0., 0., 0., 0., 0.,\n",
      "         0.]])\n",
      "tensor([[-2.0483, -2.8674, -1.9413, -3.3828, -2.1292, -2.2913, -2.3211, -2.6413,\n",
      "         -3.4760, -2.4155, -3.0878, -3.7575, -2.6739, -2.4855, -3.4654, -2.7370,\n",
      "         -2.3074, -2.7263, -3.5338],\n",
      "        [-2.2479, -2.2354, -3.7966, -2.1399, -2.7173, -2.2795, -2.8517, -3.8337,\n",
      "         -1.4380, -2.5653, -2.1620, -2.5832, -3.6361, -3.8429, -2.5754, -2.1370,\n",
      "         -2.0703, -2.3494, -3.4834],\n",
      "        [-2.7610, -3.1323, -3.1248, -4.0226, -2.7301, -2.1340, -2.0297, -2.0155,\n",
      "         -2.6241, -3.0586, -3.0170, -3.2688, -2.3229, -2.4343, -3.1122, -2.8810,\n",
      "         -2.6595, -3.0733, -2.3308],\n",
      "        [-3.1378, -2.9558, -2.2824, -2.7660, -3.3487, -3.2427, -2.9530, -3.0167,\n",
      "         -4.1240, -3.1415, -2.1529, -2.5449, -2.2680, -3.4844, -2.4663, -2.1552,\n",
      "         -2.2405, -2.1289, -1.9012]], grad_fn=<SelectBackward0>)\n",
      "Epoch 8, Loss: 0.21405798196792603, Validation Loss: \n"
     ]
    },
    {
     "name": "stderr",
     "output_type": "stream",
     "text": [
      " 90%|█████████ | 9/10 [01:20<00:09,  9.08s/it]"
     ]
    },
    {
     "name": "stdout",
     "output_type": "stream",
     "text": [
      "tensor([[1., 0., 0., 0., 0., 0., 0., 0., 0., 0., 0., 0., 0., 0., 0., 0., 0., 0.,\n",
      "         0.],\n",
      "        [0., 1., 0., 0., 0., 0., 0., 0., 0., 0., 0., 0., 0., 0., 0., 0., 0., 0.,\n",
      "         0.],\n",
      "        [0., 0., 0., 0., 0., 1., 0., 0., 0., 0., 0., 0., 0., 0., 0., 0., 0., 0.,\n",
      "         0.],\n",
      "        [0., 0., 0., 0., 0., 0., 0., 0., 0., 0., 0., 1., 0., 0., 0., 0., 0., 0.,\n",
      "         0.]])\n",
      "tensor([[-2.5533, -3.7978, -2.7593, -4.0605, -2.6237, -3.2073, -2.7844, -3.1093,\n",
      "         -3.8300, -2.5474, -4.2462, -5.0371, -3.3770, -3.4465, -3.9401, -3.6837,\n",
      "         -2.4920, -3.7679, -4.0364],\n",
      "        [-2.8150, -2.6700, -4.2880, -3.1112, -3.4958, -3.1428, -3.5682, -4.9522,\n",
      "         -2.1405, -3.2721, -2.7752, -3.1331, -4.1768, -4.1762, -3.4974, -2.9130,\n",
      "         -2.5111, -3.2016, -4.0639],\n",
      "        [-3.7997, -3.4668, -3.7589, -4.5292, -3.4448, -2.8641, -2.8315, -2.6754,\n",
      "         -3.1219, -4.2471, -4.0802, -3.7923, -2.7186, -3.0148, -3.4998, -3.6889,\n",
      "         -3.6498, -4.1250, -3.4229],\n",
      "        [-4.1727, -3.8828, -3.1266, -3.4707, -3.7772, -4.5889, -3.8038, -3.9269,\n",
      "         -5.3832, -3.9688, -2.6234, -3.4022, -2.9906, -4.5148, -3.1732, -2.9954,\n",
      "         -2.8056, -2.5315, -2.6104]], grad_fn=<SelectBackward0>)\n",
      "Epoch 9, Loss: 0.2191227227449417, Validation Loss: \n"
     ]
    },
    {
     "name": "stderr",
     "output_type": "stream",
     "text": [
      "100%|██████████| 10/10 [01:29<00:00,  8.99s/it]"
     ]
    },
    {
     "name": "stdout",
     "output_type": "stream",
     "text": [
      "tensor([[1., 0., 0., 0., 0., 0., 0., 0., 0., 0., 0., 0., 0., 0., 0., 0., 0., 0.,\n",
      "         0.],\n",
      "        [0., 1., 0., 0., 0., 0., 0., 0., 0., 0., 0., 0., 0., 0., 0., 0., 0., 0.,\n",
      "         0.],\n",
      "        [0., 0., 0., 0., 0., 1., 0., 0., 0., 0., 0., 0., 0., 0., 0., 0., 0., 0.,\n",
      "         0.],\n",
      "        [0., 0., 0., 0., 0., 0., 0., 0., 0., 0., 0., 1., 0., 0., 0., 0., 0., 0.,\n",
      "         0.]])\n",
      "tensor([[-2.8988, -4.2361, -3.3958, -4.2948, -2.9682, -3.8083, -3.0209, -3.2831,\n",
      "         -3.7746, -2.6056, -4.8318, -5.6605, -3.6885, -4.0004, -3.9674, -4.1438,\n",
      "         -2.5130, -4.2864, -4.1410],\n",
      "        [-3.1368, -2.9753, -4.3824, -3.8572, -3.8573, -3.7659, -3.8353, -5.4857,\n",
      "         -2.8669, -3.6750, -3.1486, -3.3994, -4.2805, -4.0429, -3.9945, -3.4825,\n",
      "         -2.8239, -3.6853, -4.1946],\n",
      "        [-4.3468, -3.4633, -3.9743, -4.5865, -3.7495, -3.3603, -3.4235, -3.1442,\n",
      "         -3.3181, -4.9301, -4.6421, -3.9225, -2.9603, -3.4073, -3.5642, -3.9576,\n",
      "         -4.2354, -4.6792, -4.1977],\n",
      "        [-4.6225, -4.3416, -3.6575, -3.7890, -3.8035, -5.3782, -4.1527, -4.3831,\n",
      "         -5.9400, -4.2626, -2.9061, -3.9307, -3.4512, -4.9671, -3.5819, -3.5674,\n",
      "         -3.2074, -2.7282, -3.2151]], grad_fn=<SelectBackward0>)\n",
      "Epoch 10, Loss: 0.22861023247241974, Validation Loss: \n"
     ]
    },
    {
     "name": "stderr",
     "output_type": "stream",
     "text": [
      "\n"
     ]
    }
   ],
   "source": [
    "# Split your data into training and validation sets\n",
    "# For demonstration, let's assume origin_X_tensor and origin_Y_onehot_tensor are available\n",
    "# and split manually for simplicity. Consider using `torch.utils.data.Dataset` and `DataLoader` for better handling.\n",
    "from tqdm import tqdm\n",
    "num_train = int(0.8 * len(origin_X_tensor))  # 80% for training\n",
    "train_X = origin_X_tensor_permuted\n",
    "train_Y = origin_Y_onehot_tensor.reshape(2500,-1)\n",
    "print(train_Y.shape)\n",
    "val_X = origin_X_tensor[num_train:]\n",
    "val_Y = origin_Y_onehot_tensor[num_train:]\n",
    "\n",
    "# Initialize the model, criterion, and optimizer\n",
    "model = SimpleCharCNN()\n",
    "criterion = nn.BCEWithLogitsLoss()  # Suitable for multi-label classification\n",
    "optimizer = optim.Adam(model.parameters(), lr=0.001)\n",
    "\n",
    "# Training loop\n",
    "epochs = 10\n",
    "for epoch in tqdm(range(epochs)):\n",
    "    model.train()\n",
    "    optimizer.zero_grad()\n",
    "    output = model(train_X)\n",
    "    loss = criterion(output, train_Y)\n",
    "    loss.backward()\n",
    "    optimizer.step()\n",
    "    print(train_Y.reshape(2500, 4, -1)[0])\n",
    "    print(output.reshape(2500, 4, -1)[0])\n",
    "    # Validation\n",
    "    # model.eval()\n",
    "    # with torch.no_grad():\n",
    "    #     val_output = model(val_X)\n",
    "    #     val_loss = criterion(val_output, val_Y)\n",
    "    \n",
    "    print(f\"Epoch {epoch+1}, Loss: {loss.item()}, Validation Loss: \")\n"
   ]
  },
  {
   "cell_type": "code",
   "execution_count": null,
   "metadata": {},
   "outputs": [],
   "source": []
  },
  {
   "cell_type": "code",
   "execution_count": null,
   "metadata": {},
   "outputs": [],
   "source": []
  },
  {
   "cell_type": "code",
   "execution_count": 31,
   "metadata": {},
   "outputs": [
    {
     "name": "stdout",
     "output_type": "stream",
     "text": [
      "dict_keys(['__header__', '__version__', '__globals__', 'y_onehot', 'x', 'y'])\n",
      "[[1 0 0 0 0 0 0 0 0 0 0 0 0 0 0 0 0 0 0]\n",
      " [0 1 0 0 0 0 0 0 0 0 0 0 0 0 0 0 0 0 0]\n",
      " [0 0 0 0 0 1 0 0 0 0 0 0 0 0 0 0 0 0 0]\n",
      " [0 0 0 0 0 0 0 0 0 0 0 1 0 0 0 0 0 0 0]]\n"
     ]
    },
    {
     "ename": "TypeError",
     "evalue": "can't convert np.ndarray of type numpy.object_. The only supported types are: float64, float32, float16, complex64, complex128, int64, int32, int16, int8, uint8, and bool.",
     "output_type": "error",
     "traceback": [
      "\u001b[1;31m---------------------------------------------------------------------------\u001b[0m",
      "\u001b[1;31mTypeError\u001b[0m                                 Traceback (most recent call last)",
      "Cell \u001b[1;32mIn[31], line 26\u001b[0m\n\u001b[0;32m     24\u001b[0m     \u001b[38;5;66;03m# return 0, 0, 0\u001b[39;00m\n\u001b[0;32m     25\u001b[0m path \u001b[38;5;241m=\u001b[39m \u001b[38;5;124m\"\u001b[39m\u001b[38;5;124mD:\u001b[39m\u001b[38;5;130;01m\\\\\u001b[39;00m\u001b[38;5;124mCasper\u001b[39m\u001b[38;5;130;01m\\\\\u001b[39;00m\u001b[38;5;124mOTHER\u001b[39m\u001b[38;5;130;01m\\\\\u001b[39;00m\u001b[38;5;124mData\u001b[39m\u001b[38;5;130;01m\\\\\u001b[39;00m\u001b[38;5;124midentification code_database\u001b[39m\u001b[38;5;130;01m\\\\\u001b[39;00m\u001b[38;5;124mtrain.mat\u001b[39m\u001b[38;5;124m\"\u001b[39m\n\u001b[1;32m---> 26\u001b[0m origin_X, origin_Y, origin_Y_onehot \u001b[38;5;241m=\u001b[39m \u001b[43mload_data_torch\u001b[49m\u001b[43m(\u001b[49m\u001b[43mpath\u001b[49m\u001b[43m)\u001b[49m\n",
      "Cell \u001b[1;32mIn[31], line 15\u001b[0m, in \u001b[0;36mload_data_torch\u001b[1;34m(data_path)\u001b[0m\n\u001b[0;32m     13\u001b[0m \u001b[38;5;28mprint\u001b[39m(origin_Y_onehot[\u001b[38;5;241m0\u001b[39m])\n\u001b[0;32m     14\u001b[0m \u001b[38;5;66;03m# Convert to PyTorch tensors\u001b[39;00m\n\u001b[1;32m---> 15\u001b[0m origin_X_tensor \u001b[38;5;241m=\u001b[39m \u001b[43mtorch\u001b[49m\u001b[38;5;241;43m.\u001b[39;49m\u001b[43mtensor\u001b[49m\u001b[43m(\u001b[49m\u001b[43morigin_X\u001b[49m\u001b[43m,\u001b[49m\u001b[43m \u001b[49m\u001b[43mdtype\u001b[49m\u001b[38;5;241;43m=\u001b[39;49m\u001b[43mtorch\u001b[49m\u001b[38;5;241;43m.\u001b[39;49m\u001b[43mfloat32\u001b[49m\u001b[43m)\u001b[49m\n\u001b[0;32m     16\u001b[0m origin_Y_tensor \u001b[38;5;241m=\u001b[39m torch\u001b[38;5;241m.\u001b[39mtensor(origin_Y, dtype\u001b[38;5;241m=\u001b[39mtorch\u001b[38;5;241m.\u001b[39mfloat32)\n\u001b[0;32m     17\u001b[0m origin_Y_onehot_tensor \u001b[38;5;241m=\u001b[39m torch\u001b[38;5;241m.\u001b[39mtensor(origin_Y_onehot, dtype\u001b[38;5;241m=\u001b[39mtorch\u001b[38;5;241m.\u001b[39mfloat32)\n",
      "\u001b[1;31mTypeError\u001b[0m: can't convert np.ndarray of type numpy.object_. The only supported types are: float64, float32, float16, complex64, complex128, int64, int32, int16, int8, uint8, and bool."
     ]
    }
   ],
   "source": [
    "\n",
    "def load_data_torch(data_path):\n",
    "    # Load the MATLAB file\n",
    "    data = scipy.io.loadmat(data_path)\n",
    "    print(data.keys())\n",
    "    # print(data['y'].shape)\n",
    "    # print(data['x'][0])\n",
    "    origin_X = np.array(data['x'].flat)  # Example for uniform shape. Adjust based on actual data structure\n",
    "    origin_Y = np.array(data['y'][0].reshape(5000, -1))\n",
    "    origin_Y_onehot = np.array(data['y_onehot'].reshape(5000, 4, 19))\n",
    "    print(origin_Y_onehot[0])\n",
    "\n",
    "    \n",
    "\n",
    "    print (\"x_train shape: \"+str(x_train.shape))\n",
    "    print (\"x_test shape: \"+str(x_test.shape))\n",
    "\n",
    "    y_train_onehot=origin_Y_onehot[0:num_train_data]\n",
    "    y_test_onehot=origin_Y_onehot[num_train_data:]\n",
    "\n",
    "    print (\"y_train_onehot shape: \"+str(y_train_onehot.shape))\n",
    "    print (\"y_test_onehot shape: \"+str(y_test_onehot.shape))\n",
    "    # Convert to PyTorch tensors\n",
    "    origin_X_tensor = torch.tensor(origin_X, dtype=torch.float32)\n",
    "    origin_Y_tensor = torch.tensor(origin_Y, dtype=torch.float32)\n",
    "    origin_Y_onehot_tensor = torch.tensor(origin_Y_onehot, dtype=torch.float32)\n",
    "    \n",
    "    print(\"origin_X_tensor shape: \"+str(origin_X_tensor.shape))\n",
    "    print(\"origin_Y_tensor shape: \"+str(origin_Y_tensor.shape))\n",
    "    print(\"origin_Y_onehot_tensor shape: \"+str(origin_Y_onehot_tensor.shape))\n",
    "\n",
    "    return origin_X_tensor, origin_Y_tensor, origin_Y_onehot_tensor\n",
    "    # return 0, 0, 0\n",
    "origin_X, origin_Y, origin_Y_onehot = load_data_torch(path)\n"
   ]
  },
  {
   "cell_type": "code",
   "execution_count": 23,
   "metadata": {},
   "outputs": [],
   "source": [
    "import torch\n",
    "from torchvision import datasets, transforms\n",
    "\n",
    "def load_original_data_pytorch(path):\n",
    "    # Define a transform to normalize the data\n",
    "    transform = transforms.Compose([transforms.ToTensor(),\n",
    "                                    transforms.Normalize((0.5,), (0.5,))])\n",
    "    \n",
    "    # Download and load the training data\n",
    "    trainset = datasets.MNIST(path, download=True, train=True, transform=transform)\n",
    "    train_loader = torch.utils.data.DataLoader(trainset, batch_size=256, shuffle=True)\n",
    "\n",
    "    # Download and load the test data\n",
    "    testset = datasets.MNIST(path, download=True, train=False, transform=transform)\n",
    "    test_loader = torch.utils.data.DataLoader(testset, batch_size=256, shuffle=True)\n",
    "\n",
    "    return train_loader, test_loader\n",
    "path = 'D:\\\\Casper\\\\OTHER\\\\Data\\\\MNIST_data'\n",
    "train_loader, test_loader = load_original_data_pytorch(path)\n",
    "loaders = {\n",
    "    'train': train_loader,\n",
    "    'test': test_loader\n",
    "}\n"
   ]
  },
  {
   "cell_type": "code",
   "execution_count": 10,
   "metadata": {},
   "outputs": [
    {
     "name": "stdout",
     "output_type": "stream",
     "text": [
      "build function\n"
     ]
    }
   ],
   "source": [
    "def pprint(output = '\\n', show_time = False): # print and fprint at the same time\n",
    "    filename = \"hw2-1.txt\"\n",
    "    print(output)\n",
    "    with open(filename, 'a') as f:\n",
    "        if show_time:\n",
    "            f.write(datetime.now().strftime(\"[%Y-%m-%d %H:%M:%S] \"))\n",
    "\n",
    "        f.write(str(output))\n",
    "        f.write('\\n')\n",
    "pprint(\"build function\", True)"
   ]
  },
  {
   "cell_type": "code",
   "execution_count": 11,
   "metadata": {},
   "outputs": [],
   "source": [
    "def count_parameters(model):\n",
    "    total_num = 0\n",
    "\n",
    "    for parameter in model.parameters():\n",
    "        if parameter.requires_grad:\n",
    "            total_num += parameter.numel() \n",
    "    return total_num\n"
   ]
  },
  {
   "cell_type": "code",
   "execution_count": 27,
   "metadata": {},
   "outputs": [],
   "source": [
    "import time\n",
    "import torchvision.models as models\n",
    "from torch import nn, optim\n",
    "from tqdm import tqdm\n",
    "def train(model, model_name):\n",
    "    pprint(f\"test {model_name}\", True)\n",
    "    model_parameters_amount = count_parameters(model)\n",
    "    pprint(f\"model total parameters: {model_parameters_amount:,}\")\n",
    "\n",
    "    model = model.cuda()\n",
    "    criterion = nn.CrossEntropyLoss()\n",
    "    lr= 0.005\n",
    "    optimizer = optim.Adam(model.parameters(), lr=lr)\n",
    "    pprint(f\"learning rate={lr}\")\n",
    "    iteration = 0\n",
    "    epochs = 20\n",
    "    start = time.time()\n",
    "    phases = ['train', 'test']\n",
    "    for epoch in range(epochs):\n",
    "        for phase in phases:\n",
    "            running_loss = 0.0\n",
    "            correct_predictions = 0\n",
    "            correct_top3_predictions = 0\n",
    "            total_samples = 0\n",
    "            if phase == 'train':\n",
    "                model.train()  # Set model to training mode\n",
    "            else:\n",
    "                model.eval()   # Set model to evaluate mode\n",
    "            for images, labels in tqdm(loaders[phase]): # Iterate over data.\n",
    "                images, labels = images.cuda(), labels.cuda()\n",
    "                outputs = model(images)\n",
    "                loss = criterion(outputs, labels)\n",
    "\n",
    "                with torch.set_grad_enabled(phase == 'train'):\n",
    "                    if phase == 'train': # backward + optimize only if in training phase\n",
    "                        optimizer.zero_grad()\n",
    "                        loss.backward()\n",
    "                        optimizer.step()\n",
    "                running_loss += loss.item()\n",
    "\n",
    "                # Convert outputs to predicted class by selecting the class with the highest score\n",
    "                _, predicted = torch.max(outputs, 1)\n",
    "                # Accumulate the number of correct predictions\n",
    "                correct_predictions += (predicted == labels).sum().item()\n",
    "                \n",
    "                _, top3_preds = outputs.topk(3, 1, True, True)\n",
    "                correct_top3_predictions += sum([labels[i] in top3_preds[i] for i in range(labels.size(0))])\n",
    "\n",
    "                total_samples += labels.size(0)\n",
    "                iteration += 1\n",
    "                # if iteration % 20 == 0:\n",
    "                #     print(iteration)\n",
    "            avg_loss = running_loss / total_samples\n",
    "            top1_accuracy = correct_predictions / total_samples * 100\n",
    "            top3_accuracy = correct_top3_predictions / total_samples * 100\n",
    "            pprint(f\"Epoch [{epoch+1}/{epochs}], phase: {phase}, samples: {total_samples}, Loss: {avg_loss:.4f}, Top-1 Accuracy: {top1_accuracy:.2f}%, Top-3 Accuracy: {top3_accuracy:.2f}%\")\n",
    "    end = time.time()\n",
    "    duration = end - start\n",
    "    pprint(f\"Elapsed time: {duration} seconds\")\n",
    "    model_scripted = torch.jit.script(model) # Export to TorchScript\n",
    "    model_scripted.save(f'{model_name}.pt') # Save\n",
    "    pprint(f\"weight saved as: {model_name}.pt\")   \n"
   ]
  },
  {
   "cell_type": "code",
   "execution_count": 25,
   "metadata": {},
   "outputs": [],
   "source": [
    "class SimpleNN(nn.Module):\n",
    "    def __init__(self):\n",
    "        super(SimpleNN, self).__init__()\n",
    "        self.fc1 = nn.Linear(784, 128)  # First layer: 784 input features, 128 output features\n",
    "        self.fc2 = nn.Linear(128, 64)   # Second layer: 128 input features, 64 output features\n",
    "        self.fc3 = nn.Linear(64, 10)    # Final layer: 64 input features, 10 output features (digits 0-9)\n",
    "\n",
    "    def forward(self, x):\n",
    "        x = x.view(-1, 784)  # Flatten the input tensor\n",
    "        x = F.relu(self.fc1(x))  # Apply ReLU non-linearity after first layer\n",
    "        x = F.relu(self.fc2(x))  # Apply ReLU non-linearity after second layer\n",
    "        x = self.fc3(x)  # No non-linearity after final layer\n",
    "        return F.log_softmax(x, dim=1)  # Apply log-softmax to output for classification\n"
   ]
  },
  {
   "cell_type": "code",
   "execution_count": null,
   "metadata": {},
   "outputs": [],
   "source": [
    "class SimpleCNN(nn.Module):\n",
    "    def __init__(self):\n",
    "        super(SimpleCNN, self).__init__()\n",
    "        self.conv1 = nn.Conv2d(1, 32, kernel_size=3, padding=1)\n",
    "        self.conv2 = nn.Conv2d(32, 64, kernel_size=3, padding=1)\n",
    "        self.pool = nn.MaxPool2d(2, 2)\n",
    "        self.fc1 = nn.Linear(64 * 7 * 7, 64)  # The image size is reduced to 7x7 after pooling layers\n",
    "        self.fc2 = nn.Linear(64, 10)  # 10 output classes\n",
    "\n",
    "    def forward(self, x):\n",
    "        x = self.pool(F.relu(self.conv1(x)))  # Convolution -> ReLU -> Pooling\n",
    "        x = self.pool(F.relu(self.conv2(x)))  # Convolution -> ReLU -> Pooling\n",
    "        x = torch.flatten(x, 1)  # Flatten\n",
    "        x = F.relu(self.fc1(x))  # Dense layer -> ReLU\n",
    "        x = self.fc2(x)  # Output layer\n",
    "        return F.log_softmax(x, dim=1)  # Log Softmax activation for the output\n"
   ]
  },
  {
   "cell_type": "code",
   "execution_count": 28,
   "metadata": {},
   "outputs": [
    {
     "name": "stdout",
     "output_type": "stream",
     "text": [
      "test SimpleNN\n",
      "model total parameters: 109,386\n",
      "learning rate=0.005\n"
     ]
    },
    {
     "name": "stderr",
     "output_type": "stream",
     "text": [
      "100%|██████████| 235/235 [00:12<00:00, 18.31it/s]\n"
     ]
    },
    {
     "name": "stdout",
     "output_type": "stream",
     "text": [
      "Epoch [1/20], phase: train, samples: 60000, Loss: 0.0017, Top-1 Accuracy: 86.47%, Top-3 Accuracy: 96.00%\n"
     ]
    },
    {
     "name": "stderr",
     "output_type": "stream",
     "text": [
      "100%|██████████| 40/40 [00:02<00:00, 19.57it/s]\n"
     ]
    },
    {
     "name": "stdout",
     "output_type": "stream",
     "text": [
      "Epoch [1/20], phase: test, samples: 10000, Loss: 0.0009, Top-1 Accuracy: 93.02%, Top-3 Accuracy: 99.05%\n"
     ]
    },
    {
     "name": "stderr",
     "output_type": "stream",
     "text": [
      "100%|██████████| 235/235 [00:12<00:00, 18.45it/s]\n"
     ]
    },
    {
     "name": "stdout",
     "output_type": "stream",
     "text": [
      "Epoch [2/20], phase: train, samples: 60000, Loss: 0.0007, Top-1 Accuracy: 94.18%, Top-3 Accuracy: 99.11%\n"
     ]
    },
    {
     "name": "stderr",
     "output_type": "stream",
     "text": [
      "100%|██████████| 40/40 [00:01<00:00, 21.86it/s]\n"
     ]
    },
    {
     "name": "stdout",
     "output_type": "stream",
     "text": [
      "Epoch [2/20], phase: test, samples: 10000, Loss: 0.0006, Top-1 Accuracy: 95.15%, Top-3 Accuracy: 99.45%\n"
     ]
    },
    {
     "name": "stderr",
     "output_type": "stream",
     "text": [
      "100%|██████████| 235/235 [00:12<00:00, 19.09it/s]\n"
     ]
    },
    {
     "name": "stdout",
     "output_type": "stream",
     "text": [
      "Epoch [3/20], phase: train, samples: 60000, Loss: 0.0006, Top-1 Accuracy: 95.53%, Top-3 Accuracy: 99.45%\n"
     ]
    },
    {
     "name": "stderr",
     "output_type": "stream",
     "text": [
      "100%|██████████| 40/40 [00:01<00:00, 20.42it/s]\n"
     ]
    },
    {
     "name": "stdout",
     "output_type": "stream",
     "text": [
      "Epoch [3/20], phase: test, samples: 10000, Loss: 0.0005, Top-1 Accuracy: 96.24%, Top-3 Accuracy: 99.53%\n"
     ]
    },
    {
     "name": "stderr",
     "output_type": "stream",
     "text": [
      "100%|██████████| 235/235 [00:12<00:00, 18.25it/s]\n"
     ]
    },
    {
     "name": "stdout",
     "output_type": "stream",
     "text": [
      "Epoch [4/20], phase: train, samples: 60000, Loss: 0.0005, Top-1 Accuracy: 96.42%, Top-3 Accuracy: 99.63%\n"
     ]
    },
    {
     "name": "stderr",
     "output_type": "stream",
     "text": [
      "100%|██████████| 40/40 [00:01<00:00, 20.69it/s]\n"
     ]
    },
    {
     "name": "stdout",
     "output_type": "stream",
     "text": [
      "Epoch [4/20], phase: test, samples: 10000, Loss: 0.0006, Top-1 Accuracy: 95.94%, Top-3 Accuracy: 99.44%\n"
     ]
    },
    {
     "name": "stderr",
     "output_type": "stream",
     "text": [
      "100%|██████████| 235/235 [00:12<00:00, 18.10it/s]\n"
     ]
    },
    {
     "name": "stdout",
     "output_type": "stream",
     "text": [
      "Epoch [5/20], phase: train, samples: 60000, Loss: 0.0004, Top-1 Accuracy: 96.60%, Top-3 Accuracy: 99.62%\n"
     ]
    },
    {
     "name": "stderr",
     "output_type": "stream",
     "text": [
      "100%|██████████| 40/40 [00:02<00:00, 19.94it/s]\n"
     ]
    },
    {
     "name": "stdout",
     "output_type": "stream",
     "text": [
      "Epoch [5/20], phase: test, samples: 10000, Loss: 0.0006, Top-1 Accuracy: 95.55%, Top-3 Accuracy: 99.31%\n"
     ]
    },
    {
     "name": "stderr",
     "output_type": "stream",
     "text": [
      "100%|██████████| 235/235 [00:13<00:00, 17.93it/s]\n"
     ]
    },
    {
     "name": "stdout",
     "output_type": "stream",
     "text": [
      "Epoch [6/20], phase: train, samples: 60000, Loss: 0.0004, Top-1 Accuracy: 97.05%, Top-3 Accuracy: 99.72%\n"
     ]
    },
    {
     "name": "stderr",
     "output_type": "stream",
     "text": [
      "100%|██████████| 40/40 [00:01<00:00, 21.86it/s]\n"
     ]
    },
    {
     "name": "stdout",
     "output_type": "stream",
     "text": [
      "Epoch [6/20], phase: test, samples: 10000, Loss: 0.0004, Top-1 Accuracy: 96.72%, Top-3 Accuracy: 99.58%\n"
     ]
    },
    {
     "name": "stderr",
     "output_type": "stream",
     "text": [
      " 70%|███████   | 165/235 [00:09<00:04, 17.37it/s]\n"
     ]
    },
    {
     "ename": "KeyboardInterrupt",
     "evalue": "",
     "output_type": "error",
     "traceback": [
      "\u001b[1;31m---------------------------------------------------------------------------\u001b[0m",
      "\u001b[1;31mKeyboardInterrupt\u001b[0m                         Traceback (most recent call last)",
      "Cell \u001b[1;32mIn[28], line 9\u001b[0m\n\u001b[0;32m      5\u001b[0m model_name \u001b[38;5;241m=\u001b[39m [\n\u001b[0;32m      6\u001b[0m     \u001b[38;5;124m\"\u001b[39m\u001b[38;5;124mSimpleNN\u001b[39m\u001b[38;5;124m\"\u001b[39m,\n\u001b[0;32m      7\u001b[0m ]\n\u001b[0;32m      8\u001b[0m \u001b[38;5;28;01mfor\u001b[39;00m ii \u001b[38;5;129;01min\u001b[39;00m \u001b[38;5;28mrange\u001b[39m(\u001b[38;5;28mlen\u001b[39m(model_name)):\n\u001b[1;32m----> 9\u001b[0m     \u001b[43mtrain\u001b[49m\u001b[43m(\u001b[49m\u001b[43mmodel_list\u001b[49m\u001b[43m[\u001b[49m\u001b[43mii\u001b[49m\u001b[43m]\u001b[49m\u001b[43m,\u001b[49m\u001b[43m \u001b[49m\u001b[43mmodel_name\u001b[49m\u001b[43m[\u001b[49m\u001b[43mii\u001b[49m\u001b[43m]\u001b[49m\u001b[43m)\u001b[49m\n",
      "Cell \u001b[1;32mIn[27], line 29\u001b[0m, in \u001b[0;36mtrain\u001b[1;34m(model, model_name)\u001b[0m\n\u001b[0;32m     27\u001b[0m \u001b[38;5;28;01melse\u001b[39;00m:\n\u001b[0;32m     28\u001b[0m     model\u001b[38;5;241m.\u001b[39meval()   \u001b[38;5;66;03m# Set model to evaluate mode\u001b[39;00m\n\u001b[1;32m---> 29\u001b[0m \u001b[38;5;28;01mfor\u001b[39;00m images, labels \u001b[38;5;129;01min\u001b[39;00m tqdm(loaders[phase]): \u001b[38;5;66;03m# Iterate over data.\u001b[39;00m\n\u001b[0;32m     30\u001b[0m     images, labels \u001b[38;5;241m=\u001b[39m images\u001b[38;5;241m.\u001b[39mcuda(), labels\u001b[38;5;241m.\u001b[39mcuda()\n\u001b[0;32m     31\u001b[0m     outputs \u001b[38;5;241m=\u001b[39m model(images)\n",
      "File \u001b[1;32mc:\\Users\\User\\anaconda3\\envs\\GPU\\lib\\site-packages\\tqdm\\std.py:1182\u001b[0m, in \u001b[0;36mtqdm.__iter__\u001b[1;34m(self)\u001b[0m\n\u001b[0;32m   1179\u001b[0m time \u001b[38;5;241m=\u001b[39m \u001b[38;5;28mself\u001b[39m\u001b[38;5;241m.\u001b[39m_time\n\u001b[0;32m   1181\u001b[0m \u001b[38;5;28;01mtry\u001b[39;00m:\n\u001b[1;32m-> 1182\u001b[0m     \u001b[38;5;28;01mfor\u001b[39;00m obj \u001b[38;5;129;01min\u001b[39;00m iterable:\n\u001b[0;32m   1183\u001b[0m         \u001b[38;5;28;01myield\u001b[39;00m obj\n\u001b[0;32m   1184\u001b[0m         \u001b[38;5;66;03m# Update and possibly print the progressbar.\u001b[39;00m\n\u001b[0;32m   1185\u001b[0m         \u001b[38;5;66;03m# Note: does not call self.update(1) for speed optimisation.\u001b[39;00m\n",
      "File \u001b[1;32mc:\\Users\\User\\anaconda3\\envs\\GPU\\lib\\site-packages\\torch\\utils\\data\\dataloader.py:630\u001b[0m, in \u001b[0;36m_BaseDataLoaderIter.__next__\u001b[1;34m(self)\u001b[0m\n\u001b[0;32m    627\u001b[0m \u001b[38;5;28;01mif\u001b[39;00m \u001b[38;5;28mself\u001b[39m\u001b[38;5;241m.\u001b[39m_sampler_iter \u001b[38;5;129;01mis\u001b[39;00m \u001b[38;5;28;01mNone\u001b[39;00m:\n\u001b[0;32m    628\u001b[0m     \u001b[38;5;66;03m# TODO(https://github.com/pytorch/pytorch/issues/76750)\u001b[39;00m\n\u001b[0;32m    629\u001b[0m     \u001b[38;5;28mself\u001b[39m\u001b[38;5;241m.\u001b[39m_reset()  \u001b[38;5;66;03m# type: ignore[call-arg]\u001b[39;00m\n\u001b[1;32m--> 630\u001b[0m data \u001b[38;5;241m=\u001b[39m \u001b[38;5;28;43mself\u001b[39;49m\u001b[38;5;241;43m.\u001b[39;49m\u001b[43m_next_data\u001b[49m\u001b[43m(\u001b[49m\u001b[43m)\u001b[49m\n\u001b[0;32m    631\u001b[0m \u001b[38;5;28mself\u001b[39m\u001b[38;5;241m.\u001b[39m_num_yielded \u001b[38;5;241m+\u001b[39m\u001b[38;5;241m=\u001b[39m \u001b[38;5;241m1\u001b[39m\n\u001b[0;32m    632\u001b[0m \u001b[38;5;28;01mif\u001b[39;00m \u001b[38;5;28mself\u001b[39m\u001b[38;5;241m.\u001b[39m_dataset_kind \u001b[38;5;241m==\u001b[39m _DatasetKind\u001b[38;5;241m.\u001b[39mIterable \u001b[38;5;129;01mand\u001b[39;00m \\\n\u001b[0;32m    633\u001b[0m         \u001b[38;5;28mself\u001b[39m\u001b[38;5;241m.\u001b[39m_IterableDataset_len_called \u001b[38;5;129;01mis\u001b[39;00m \u001b[38;5;129;01mnot\u001b[39;00m \u001b[38;5;28;01mNone\u001b[39;00m \u001b[38;5;129;01mand\u001b[39;00m \\\n\u001b[0;32m    634\u001b[0m         \u001b[38;5;28mself\u001b[39m\u001b[38;5;241m.\u001b[39m_num_yielded \u001b[38;5;241m>\u001b[39m \u001b[38;5;28mself\u001b[39m\u001b[38;5;241m.\u001b[39m_IterableDataset_len_called:\n",
      "File \u001b[1;32mc:\\Users\\User\\anaconda3\\envs\\GPU\\lib\\site-packages\\torch\\utils\\data\\dataloader.py:674\u001b[0m, in \u001b[0;36m_SingleProcessDataLoaderIter._next_data\u001b[1;34m(self)\u001b[0m\n\u001b[0;32m    672\u001b[0m \u001b[38;5;28;01mdef\u001b[39;00m \u001b[38;5;21m_next_data\u001b[39m(\u001b[38;5;28mself\u001b[39m):\n\u001b[0;32m    673\u001b[0m     index \u001b[38;5;241m=\u001b[39m \u001b[38;5;28mself\u001b[39m\u001b[38;5;241m.\u001b[39m_next_index()  \u001b[38;5;66;03m# may raise StopIteration\u001b[39;00m\n\u001b[1;32m--> 674\u001b[0m     data \u001b[38;5;241m=\u001b[39m \u001b[38;5;28;43mself\u001b[39;49m\u001b[38;5;241;43m.\u001b[39;49m\u001b[43m_dataset_fetcher\u001b[49m\u001b[38;5;241;43m.\u001b[39;49m\u001b[43mfetch\u001b[49m\u001b[43m(\u001b[49m\u001b[43mindex\u001b[49m\u001b[43m)\u001b[49m  \u001b[38;5;66;03m# may raise StopIteration\u001b[39;00m\n\u001b[0;32m    675\u001b[0m     \u001b[38;5;28;01mif\u001b[39;00m \u001b[38;5;28mself\u001b[39m\u001b[38;5;241m.\u001b[39m_pin_memory:\n\u001b[0;32m    676\u001b[0m         data \u001b[38;5;241m=\u001b[39m _utils\u001b[38;5;241m.\u001b[39mpin_memory\u001b[38;5;241m.\u001b[39mpin_memory(data, \u001b[38;5;28mself\u001b[39m\u001b[38;5;241m.\u001b[39m_pin_memory_device)\n",
      "File \u001b[1;32mc:\\Users\\User\\anaconda3\\envs\\GPU\\lib\\site-packages\\torch\\utils\\data\\_utils\\fetch.py:51\u001b[0m, in \u001b[0;36m_MapDatasetFetcher.fetch\u001b[1;34m(self, possibly_batched_index)\u001b[0m\n\u001b[0;32m     49\u001b[0m         data \u001b[38;5;241m=\u001b[39m \u001b[38;5;28mself\u001b[39m\u001b[38;5;241m.\u001b[39mdataset\u001b[38;5;241m.\u001b[39m__getitems__(possibly_batched_index)\n\u001b[0;32m     50\u001b[0m     \u001b[38;5;28;01melse\u001b[39;00m:\n\u001b[1;32m---> 51\u001b[0m         data \u001b[38;5;241m=\u001b[39m [\u001b[38;5;28mself\u001b[39m\u001b[38;5;241m.\u001b[39mdataset[idx] \u001b[38;5;28;01mfor\u001b[39;00m idx \u001b[38;5;129;01min\u001b[39;00m possibly_batched_index]\n\u001b[0;32m     52\u001b[0m \u001b[38;5;28;01melse\u001b[39;00m:\n\u001b[0;32m     53\u001b[0m     data \u001b[38;5;241m=\u001b[39m \u001b[38;5;28mself\u001b[39m\u001b[38;5;241m.\u001b[39mdataset[possibly_batched_index]\n",
      "File \u001b[1;32mc:\\Users\\User\\anaconda3\\envs\\GPU\\lib\\site-packages\\torch\\utils\\data\\_utils\\fetch.py:51\u001b[0m, in \u001b[0;36m<listcomp>\u001b[1;34m(.0)\u001b[0m\n\u001b[0;32m     49\u001b[0m         data \u001b[38;5;241m=\u001b[39m \u001b[38;5;28mself\u001b[39m\u001b[38;5;241m.\u001b[39mdataset\u001b[38;5;241m.\u001b[39m__getitems__(possibly_batched_index)\n\u001b[0;32m     50\u001b[0m     \u001b[38;5;28;01melse\u001b[39;00m:\n\u001b[1;32m---> 51\u001b[0m         data \u001b[38;5;241m=\u001b[39m [\u001b[38;5;28;43mself\u001b[39;49m\u001b[38;5;241;43m.\u001b[39;49m\u001b[43mdataset\u001b[49m\u001b[43m[\u001b[49m\u001b[43midx\u001b[49m\u001b[43m]\u001b[49m \u001b[38;5;28;01mfor\u001b[39;00m idx \u001b[38;5;129;01min\u001b[39;00m possibly_batched_index]\n\u001b[0;32m     52\u001b[0m \u001b[38;5;28;01melse\u001b[39;00m:\n\u001b[0;32m     53\u001b[0m     data \u001b[38;5;241m=\u001b[39m \u001b[38;5;28mself\u001b[39m\u001b[38;5;241m.\u001b[39mdataset[possibly_batched_index]\n",
      "File \u001b[1;32mc:\\Users\\User\\anaconda3\\envs\\GPU\\lib\\site-packages\\torchvision\\datasets\\mnist.py:138\u001b[0m, in \u001b[0;36mMNIST.__getitem__\u001b[1;34m(self, index)\u001b[0m\n\u001b[0;32m    130\u001b[0m \u001b[38;5;28;01mdef\u001b[39;00m \u001b[38;5;21m__getitem__\u001b[39m(\u001b[38;5;28mself\u001b[39m, index: \u001b[38;5;28mint\u001b[39m) \u001b[38;5;241m-\u001b[39m\u001b[38;5;241m>\u001b[39m Tuple[Any, Any]:\n\u001b[0;32m    131\u001b[0m \u001b[38;5;250m    \u001b[39m\u001b[38;5;124;03m\"\"\"\u001b[39;00m\n\u001b[0;32m    132\u001b[0m \u001b[38;5;124;03m    Args:\u001b[39;00m\n\u001b[0;32m    133\u001b[0m \u001b[38;5;124;03m        index (int): Index\u001b[39;00m\n\u001b[1;32m   (...)\u001b[0m\n\u001b[0;32m    136\u001b[0m \u001b[38;5;124;03m        tuple: (image, target) where target is index of the target class.\u001b[39;00m\n\u001b[0;32m    137\u001b[0m \u001b[38;5;124;03m    \"\"\"\u001b[39;00m\n\u001b[1;32m--> 138\u001b[0m     img, target \u001b[38;5;241m=\u001b[39m \u001b[38;5;28mself\u001b[39m\u001b[38;5;241m.\u001b[39mdata[index], \u001b[38;5;28;43mint\u001b[39;49m\u001b[43m(\u001b[49m\u001b[38;5;28;43mself\u001b[39;49m\u001b[38;5;241;43m.\u001b[39;49m\u001b[43mtargets\u001b[49m\u001b[43m[\u001b[49m\u001b[43mindex\u001b[49m\u001b[43m]\u001b[49m\u001b[43m)\u001b[49m\n\u001b[0;32m    140\u001b[0m     \u001b[38;5;66;03m# doing this so that it is consistent with all other datasets\u001b[39;00m\n\u001b[0;32m    141\u001b[0m     \u001b[38;5;66;03m# to return a PIL Image\u001b[39;00m\n\u001b[0;32m    142\u001b[0m     img \u001b[38;5;241m=\u001b[39m Image\u001b[38;5;241m.\u001b[39mfromarray(img\u001b[38;5;241m.\u001b[39mnumpy(), mode\u001b[38;5;241m=\u001b[39m\u001b[38;5;124m\"\u001b[39m\u001b[38;5;124mL\u001b[39m\u001b[38;5;124m\"\u001b[39m)\n",
      "\u001b[1;31mKeyboardInterrupt\u001b[0m: "
     ]
    }
   ],
   "source": [
    "model_list = [\n",
    "    SimpleNN(),\n",
    "    SimpleCNN(),\n",
    "]\n",
    "\n",
    "model_name = [\n",
    "    \"SimpleNN\",\n",
    "    \"SimpleCNN\",\n",
    "]\n",
    "for ii in range(len(model_name)):\n",
    "    train(model_list[ii], model_name[ii])"
   ]
  },
  {
   "cell_type": "code",
   "execution_count": null,
   "metadata": {},
   "outputs": [],
   "source": []
  }
 ],
 "metadata": {
  "kernelspec": {
   "display_name": "GPU",
   "language": "python",
   "name": "python3"
  },
  "language_info": {
   "codemirror_mode": {
    "name": "ipython",
    "version": 3
   },
   "file_extension": ".py",
   "mimetype": "text/x-python",
   "name": "python",
   "nbconvert_exporter": "python",
   "pygments_lexer": "ipython3",
   "version": "3.10.12"
  }
 },
 "nbformat": 4,
 "nbformat_minor": 2
}
